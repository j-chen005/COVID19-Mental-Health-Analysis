{
 "cells": [
  {
   "cell_type": "markdown",
   "id": "909e34f3",
   "metadata": {},
   "source": [
    "# Binary Classification"
   ]
  },
  {
   "cell_type": "code",
   "execution_count": 1,
   "id": "73f90ad2",
   "metadata": {},
   "outputs": [
    {
     "name": "stderr",
     "output_type": "stream",
     "text": [
      "[nltk_data] Downloading package stopwords to\n",
      "[nltk_data]     /Users/justinchen/nltk_data...\n",
      "[nltk_data]   Package stopwords is already up-to-date!\n"
     ]
    }
   ],
   "source": [
    "import pandas as pd\n",
    "from collections import Counter\n",
    "import numpy as np\n",
    "import math\n",
    "import nltk\n",
    "nltk.download('stopwords')\n",
    "from nltk.corpus import stopwords\n",
    "from nltk.stem import SnowballStemmer\n",
    "%matplotlib inline\n",
    "import matplotlib.pyplot as plt"
   ]
  },
  {
   "cell_type": "code",
   "execution_count": 5,
   "id": "b8572ef3",
   "metadata": {},
   "outputs": [],
   "source": [
    "df = pd.read_csv('/Users/justinchen/Desktop/AARD Datasets/mental_health_subreddits_dataset.csv')"
   ]
  },
  {
   "cell_type": "code",
   "execution_count": 2,
   "id": "30c740f8",
   "metadata": {},
   "outputs": [],
   "source": [
    "control_dataset = pd.read_csv('/Users/justinchen/Desktop/AARD Datasets/mental_health_control_subreddits.csv')"
   ]
  },
  {
   "cell_type": "markdown",
   "id": "63848ea5",
   "metadata": {},
   "source": [
    "### Anxiety SVM"
   ]
  },
  {
   "cell_type": "code",
   "execution_count": 6,
   "id": "a2f629ab",
   "metadata": {},
   "outputs": [],
   "source": [
    "drop_list = []\n",
    "for a in range(45884):\n",
    "    if df.at[a, 'subreddit.name'] != 'anxiety':\n",
    "        drop_list.append(a)"
   ]
  },
  {
   "cell_type": "code",
   "execution_count": 7,
   "id": "6107cf94",
   "metadata": {},
   "outputs": [
    {
     "data": {
      "text/html": [
       "<div>\n",
       "<style scoped>\n",
       "    .dataframe tbody tr th:only-of-type {\n",
       "        vertical-align: middle;\n",
       "    }\n",
       "\n",
       "    .dataframe tbody tr th {\n",
       "        vertical-align: top;\n",
       "    }\n",
       "\n",
       "    .dataframe thead th {\n",
       "        text-align: right;\n",
       "    }\n",
       "</style>\n",
       "<table border=\"1\" class=\"dataframe\">\n",
       "  <thead>\n",
       "    <tr style=\"text-align: right;\">\n",
       "      <th></th>\n",
       "      <th>Unnamed: 0</th>\n",
       "      <th>subreddit.name</th>\n",
       "      <th>created_utc</th>\n",
       "      <th>body</th>\n",
       "      <th>sentiment</th>\n",
       "    </tr>\n",
       "  </thead>\n",
       "  <tbody>\n",
       "    <tr>\n",
       "      <th>1</th>\n",
       "      <td>967</td>\n",
       "      <td>anxiety</td>\n",
       "      <td>1635203988</td>\n",
       "      <td>Currently 8 and a half months pregnant and als...</td>\n",
       "      <td>-0.8555</td>\n",
       "    </tr>\n",
       "    <tr>\n",
       "      <th>2</th>\n",
       "      <td>1142</td>\n",
       "      <td>anxiety</td>\n",
       "      <td>1635203613</td>\n",
       "      <td>Few people had COVID in my building and refuse...</td>\n",
       "      <td>-0.2960</td>\n",
       "    </tr>\n",
       "    <tr>\n",
       "      <th>7</th>\n",
       "      <td>5439</td>\n",
       "      <td>anxiety</td>\n",
       "      <td>1635193321</td>\n",
       "      <td>I’m surrounded by anti covid vax people. \\nSo ...</td>\n",
       "      <td>-0.9364</td>\n",
       "    </tr>\n",
       "    <tr>\n",
       "      <th>8</th>\n",
       "      <td>5753</td>\n",
       "      <td>anxiety</td>\n",
       "      <td>1635192653</td>\n",
       "      <td>Wow! I just found this sub Reddit today, not r...</td>\n",
       "      <td>-0.9878</td>\n",
       "    </tr>\n",
       "    <tr>\n",
       "      <th>12</th>\n",
       "      <td>7513</td>\n",
       "      <td>anxiety</td>\n",
       "      <td>1635188671</td>\n",
       "      <td>You'll be fine.  The study results have shown ...</td>\n",
       "      <td>0.9834</td>\n",
       "    </tr>\n",
       "    <tr>\n",
       "      <th>...</th>\n",
       "      <td>...</td>\n",
       "      <td>...</td>\n",
       "      <td>...</td>\n",
       "      <td>...</td>\n",
       "      <td>...</td>\n",
       "    </tr>\n",
       "    <tr>\n",
       "      <th>45878</th>\n",
       "      <td>17777040</td>\n",
       "      <td>anxiety</td>\n",
       "      <td>1581474617</td>\n",
       "      <td>Very interesting indeed. It's also interesting...</td>\n",
       "      <td>0.9428</td>\n",
       "    </tr>\n",
       "    <tr>\n",
       "      <th>45879</th>\n",
       "      <td>17777050</td>\n",
       "      <td>anxiety</td>\n",
       "      <td>1581473713</td>\n",
       "      <td>It is quite interesting, in terms of somewhat ...</td>\n",
       "      <td>-0.9256</td>\n",
       "    </tr>\n",
       "    <tr>\n",
       "      <th>45880</th>\n",
       "      <td>17777094</td>\n",
       "      <td>anxiety</td>\n",
       "      <td>1581466598</td>\n",
       "      <td>Stay focused on what the experts are saying an...</td>\n",
       "      <td>0.7430</td>\n",
       "    </tr>\n",
       "    <tr>\n",
       "      <th>45881</th>\n",
       "      <td>17777113</td>\n",
       "      <td>anxiety</td>\n",
       "      <td>1581463547</td>\n",
       "      <td>No new COVID-19 cases in B.C., 4 confirmed pat...</td>\n",
       "      <td>-0.1531</td>\n",
       "    </tr>\n",
       "    <tr>\n",
       "      <th>45883</th>\n",
       "      <td>17777368</td>\n",
       "      <td>anxiety</td>\n",
       "      <td>1581071322</td>\n",
       "      <td>***MORE UPDATES  ON MY OTHER COMMENT ON THIS T...</td>\n",
       "      <td>0.9325</td>\n",
       "    </tr>\n",
       "  </tbody>\n",
       "</table>\n",
       "<p>16689 rows × 5 columns</p>\n",
       "</div>"
      ],
      "text/plain": [
       "       Unnamed: 0 subreddit.name  created_utc  \\\n",
       "1             967        anxiety   1635203988   \n",
       "2            1142        anxiety   1635203613   \n",
       "7            5439        anxiety   1635193321   \n",
       "8            5753        anxiety   1635192653   \n",
       "12           7513        anxiety   1635188671   \n",
       "...           ...            ...          ...   \n",
       "45878    17777040        anxiety   1581474617   \n",
       "45879    17777050        anxiety   1581473713   \n",
       "45880    17777094        anxiety   1581466598   \n",
       "45881    17777113        anxiety   1581463547   \n",
       "45883    17777368        anxiety   1581071322   \n",
       "\n",
       "                                                    body  sentiment  \n",
       "1      Currently 8 and a half months pregnant and als...    -0.8555  \n",
       "2      Few people had COVID in my building and refuse...    -0.2960  \n",
       "7      I’m surrounded by anti covid vax people. \\nSo ...    -0.9364  \n",
       "8      Wow! I just found this sub Reddit today, not r...    -0.9878  \n",
       "12     You'll be fine.  The study results have shown ...     0.9834  \n",
       "...                                                  ...        ...  \n",
       "45878  Very interesting indeed. It's also interesting...     0.9428  \n",
       "45879  It is quite interesting, in terms of somewhat ...    -0.9256  \n",
       "45880  Stay focused on what the experts are saying an...     0.7430  \n",
       "45881  No new COVID-19 cases in B.C., 4 confirmed pat...    -0.1531  \n",
       "45883  ***MORE UPDATES  ON MY OTHER COMMENT ON THIS T...     0.9325  \n",
       "\n",
       "[16689 rows x 5 columns]"
      ]
     },
     "execution_count": 7,
     "metadata": {},
     "output_type": "execute_result"
    }
   ],
   "source": [
    "anxiety_sample = df.drop(drop_list, axis = 0)\n",
    "anxiety_sample"
   ]
  },
  {
   "cell_type": "code",
   "execution_count": 8,
   "id": "4c48bf4c",
   "metadata": {},
   "outputs": [],
   "source": [
    "for sentiment in anxiety_sample['sentiment']:\n",
    "    anxiety_sample['sentiment'].replace({sentiment : 'anxiety'}, inplace=True)"
   ]
  },
  {
   "cell_type": "code",
   "execution_count": 9,
   "id": "99143e6e",
   "metadata": {},
   "outputs": [],
   "source": [
    "anxiety_control = control_dataset.sample(16689)"
   ]
  },
  {
   "cell_type": "code",
   "execution_count": 10,
   "id": "59d3b012",
   "metadata": {},
   "outputs": [],
   "source": [
    "for sentiment in anxiety_control['sentiment']:\n",
    "    anxiety_control['sentiment'].replace({sentiment : 'control'}, inplace=True)"
   ]
  },
  {
   "cell_type": "code",
   "execution_count": 11,
   "id": "377beb3b",
   "metadata": {},
   "outputs": [
    {
     "data": {
      "text/html": [
       "<div>\n",
       "<style scoped>\n",
       "    .dataframe tbody tr th:only-of-type {\n",
       "        vertical-align: middle;\n",
       "    }\n",
       "\n",
       "    .dataframe tbody tr th {\n",
       "        vertical-align: top;\n",
       "    }\n",
       "\n",
       "    .dataframe thead th {\n",
       "        text-align: right;\n",
       "    }\n",
       "</style>\n",
       "<table border=\"1\" class=\"dataframe\">\n",
       "  <thead>\n",
       "    <tr style=\"text-align: right;\">\n",
       "      <th></th>\n",
       "      <th>Unnamed: 0</th>\n",
       "      <th>subreddit.name</th>\n",
       "      <th>created_utc</th>\n",
       "      <th>body</th>\n",
       "      <th>sentiment</th>\n",
       "    </tr>\n",
       "  </thead>\n",
       "  <tbody>\n",
       "    <tr>\n",
       "      <th>1</th>\n",
       "      <td>967</td>\n",
       "      <td>anxiety</td>\n",
       "      <td>1635203988</td>\n",
       "      <td>Currently 8 and a half months pregnant and als...</td>\n",
       "      <td>anxiety</td>\n",
       "    </tr>\n",
       "    <tr>\n",
       "      <th>2</th>\n",
       "      <td>1142</td>\n",
       "      <td>anxiety</td>\n",
       "      <td>1635203613</td>\n",
       "      <td>Few people had COVID in my building and refuse...</td>\n",
       "      <td>anxiety</td>\n",
       "    </tr>\n",
       "    <tr>\n",
       "      <th>7</th>\n",
       "      <td>5439</td>\n",
       "      <td>anxiety</td>\n",
       "      <td>1635193321</td>\n",
       "      <td>I’m surrounded by anti covid vax people. \\nSo ...</td>\n",
       "      <td>anxiety</td>\n",
       "    </tr>\n",
       "    <tr>\n",
       "      <th>8</th>\n",
       "      <td>5753</td>\n",
       "      <td>anxiety</td>\n",
       "      <td>1635192653</td>\n",
       "      <td>Wow! I just found this sub Reddit today, not r...</td>\n",
       "      <td>anxiety</td>\n",
       "    </tr>\n",
       "    <tr>\n",
       "      <th>12</th>\n",
       "      <td>7513</td>\n",
       "      <td>anxiety</td>\n",
       "      <td>1635188671</td>\n",
       "      <td>You'll be fine.  The study results have shown ...</td>\n",
       "      <td>anxiety</td>\n",
       "    </tr>\n",
       "    <tr>\n",
       "      <th>...</th>\n",
       "      <td>...</td>\n",
       "      <td>...</td>\n",
       "      <td>...</td>\n",
       "      <td>...</td>\n",
       "      <td>...</td>\n",
       "    </tr>\n",
       "    <tr>\n",
       "      <th>1068</th>\n",
       "      <td>2395849</td>\n",
       "      <td>latterdaysaints</td>\n",
       "      <td>1629789711</td>\n",
       "      <td>I'm struggling too OP. I'm high risk and lucki...</td>\n",
       "      <td>control</td>\n",
       "    </tr>\n",
       "    <tr>\n",
       "      <th>3028</th>\n",
       "      <td>10244137</td>\n",
       "      <td>france</td>\n",
       "      <td>1606907680</td>\n",
       "      <td>Ça roule, j'aurais essayé :p\\n\\nSuggestion à f...</td>\n",
       "      <td>control</td>\n",
       "    </tr>\n",
       "    <tr>\n",
       "      <th>28353</th>\n",
       "      <td>11566617</td>\n",
       "      <td>michigan</td>\n",
       "      <td>1603315023</td>\n",
       "      <td>For good or ill, fear was a big part of the re...</td>\n",
       "      <td>control</td>\n",
       "    </tr>\n",
       "    <tr>\n",
       "      <th>881</th>\n",
       "      <td>4718852</td>\n",
       "      <td>conspiracy</td>\n",
       "      <td>1623556389</td>\n",
       "      <td>Your use sciency sounding words probably makes...</td>\n",
       "      <td>control</td>\n",
       "    </tr>\n",
       "    <tr>\n",
       "      <th>44899</th>\n",
       "      <td>10177334</td>\n",
       "      <td>politics</td>\n",
       "      <td>1607067571</td>\n",
       "      <td>No there are not. That's a factoid, not a fact...</td>\n",
       "      <td>control</td>\n",
       "    </tr>\n",
       "  </tbody>\n",
       "</table>\n",
       "<p>33378 rows × 5 columns</p>\n",
       "</div>"
      ],
      "text/plain": [
       "       Unnamed: 0   subreddit.name  created_utc  \\\n",
       "1             967          anxiety   1635203988   \n",
       "2            1142          anxiety   1635203613   \n",
       "7            5439          anxiety   1635193321   \n",
       "8            5753          anxiety   1635192653   \n",
       "12           7513          anxiety   1635188671   \n",
       "...           ...              ...          ...   \n",
       "1068      2395849  latterdaysaints   1629789711   \n",
       "3028     10244137           france   1606907680   \n",
       "28353    11566617         michigan   1603315023   \n",
       "881       4718852       conspiracy   1623556389   \n",
       "44899    10177334         politics   1607067571   \n",
       "\n",
       "                                                    body sentiment  \n",
       "1      Currently 8 and a half months pregnant and als...   anxiety  \n",
       "2      Few people had COVID in my building and refuse...   anxiety  \n",
       "7      I’m surrounded by anti covid vax people. \\nSo ...   anxiety  \n",
       "8      Wow! I just found this sub Reddit today, not r...   anxiety  \n",
       "12     You'll be fine.  The study results have shown ...   anxiety  \n",
       "...                                                  ...       ...  \n",
       "1068   I'm struggling too OP. I'm high risk and lucki...   control  \n",
       "3028   Ça roule, j'aurais essayé :p\\n\\nSuggestion à f...   control  \n",
       "28353  For good or ill, fear was a big part of the re...   control  \n",
       "881    Your use sciency sounding words probably makes...   control  \n",
       "44899  No there are not. That's a factoid, not a fact...   control  \n",
       "\n",
       "[33378 rows x 5 columns]"
      ]
     },
     "execution_count": 11,
     "metadata": {},
     "output_type": "execute_result"
    }
   ],
   "source": [
    "anxiety_dataset = pd.concat([anxiety_sample, anxiety_control])\n",
    "anxiety_dataset"
   ]
  },
  {
   "cell_type": "code",
   "execution_count": 13,
   "id": "083defb4",
   "metadata": {},
   "outputs": [],
   "source": [
    "from sklearn.model_selection import train_test_split"
   ]
  },
  {
   "cell_type": "code",
   "execution_count": 14,
   "id": "5a0c15ae",
   "metadata": {},
   "outputs": [
    {
     "name": "stdout",
     "output_type": "stream",
     "text": [
      "Train Data size: 26702\n",
      "Test Data size 6676\n"
     ]
    }
   ],
   "source": [
    " # Splits Dataset into Training and Testing set\n",
    "train_size = 0.8\n",
    "train_data, test_data = train_test_split(anxiety_dataset, test_size=1-train_size, random_state=42, shuffle=True)\n",
    "print(\"Train Data size:\", len(train_data))\n",
    "print(\"Test Data size\", len(test_data))"
   ]
  },
  {
   "cell_type": "code",
   "execution_count": 15,
   "id": "0b90f2d0",
   "metadata": {},
   "outputs": [],
   "source": [
    "from sklearn.feature_extraction.text import TfidfVectorizer"
   ]
  },
  {
   "cell_type": "code",
   "execution_count": 16,
   "id": "21affd0a",
   "metadata": {},
   "outputs": [],
   "source": [
    "vectorizer = TfidfVectorizer(max_features=14000,\n",
    "                             min_df = 5,\n",
    "                             max_df = 0.8,\n",
    "                             sublinear_tf = True,\n",
    "                             use_idf = True)\n",
    "vectorizer.fit(train_data.body.to_list())\n",
    "x_train = vectorizer.transform(train_data.body.to_list())\n",
    "x_test = vectorizer.transform(test_data.body.to_list())"
   ]
  },
  {
   "cell_type": "code",
   "execution_count": 17,
   "id": "4fa50b90",
   "metadata": {},
   "outputs": [
    {
     "name": "stdout",
     "output_type": "stream",
     "text": [
      "anxiety_train Shape: (26702, 13907)\n",
      "anxiety_test Shape: (6676, 13907)\n"
     ]
    }
   ],
   "source": [
    "print(\"anxiety_train Shape:\",x_train.shape)\n",
    "print(\"anxiety_test Shape:\",x_test.shape)"
   ]
  },
  {
   "cell_type": "code",
   "execution_count": 18,
   "id": "b0d523f9",
   "metadata": {},
   "outputs": [],
   "source": [
    "from sklearn.preprocessing import LabelEncoder"
   ]
  },
  {
   "cell_type": "code",
   "execution_count": 19,
   "id": "1305b31f",
   "metadata": {},
   "outputs": [
    {
     "name": "stdout",
     "output_type": "stream",
     "text": [
      "y_train shape: (26702, 1)\n",
      "y_test shape: (6676, 1)\n"
     ]
    }
   ],
   "source": [
    "encoder = LabelEncoder() #https://scikit-learn.org/stable/modules/generated/sklearn.preprocessing.LabelEncoder.html\n",
    "encoder.fit(train_data.sentiment.to_list())\n",
    "\n",
    "y_train = encoder.transform(train_data.sentiment.to_list())\n",
    "y_test = encoder.transform(test_data.sentiment.to_list())\n",
    "\n",
    "y_train = y_train.reshape(-1,1)\n",
    "y_test = y_test.reshape(-1,1)\n",
    "\n",
    "print(\"y_train shape:\", y_train.shape)\n",
    "print(\"y_test shape:\", y_test.shape)"
   ]
  },
  {
   "cell_type": "code",
   "execution_count": 21,
   "id": "d6f376a1",
   "metadata": {},
   "outputs": [],
   "source": [
    "import time\n",
    "from sklearn import svm\n",
    "from sklearn.metrics import classification_report\n",
    "from sklearn import metrics"
   ]
  },
  {
   "cell_type": "code",
   "execution_count": 22,
   "id": "c1e46be4",
   "metadata": {},
   "outputs": [
    {
     "name": "stdout",
     "output_type": "stream",
     "text": [
      "Training time: 279.380158s; Prediction time: 366.654224s\n",
      "Accuracy: 0.8654883163571001\n",
      "control:  {'precision': 0.8925278219395867, 'recall': 0.8336798336798337, 'f1-score': 0.8621007371007371, 'support': 3367}\n",
      "anxiety:  {'precision': 0.8414047012177853, 'recall': 0.8978543366576005, 'f1-score': 0.8687134502923977, 'support': 3309}\n"
     ]
    }
   ],
   "source": [
    "# Perform classification with SVM, kernel=linear\n",
    "anxiety_classifier = svm.SVC(kernel='linear')\n",
    "t0 = time.time()\n",
    "anxiety_classifier.fit(x_train, y_train.ravel())\n",
    "t1 = time.time()\n",
    "prediction_linear = anxiety_classifier.predict(x_test)\n",
    "t2 = time.time()\n",
    "time_linear_train = t1-t0\n",
    "time_linear_predict = t2-t1\n",
    "\n",
    "labels = [0.0, 1.0]\n",
    "target_names = ['control', 'anxiety']\n",
    "\n",
    "# results\n",
    "print(\"Training time: %fs; Prediction time: %fs\" % (time_linear_train, time_linear_predict))\n",
    "\n",
    "report = classification_report(y_test, prediction_linear, labels = labels, target_names = target_names, output_dict=True)\n",
    "\n",
    "print(\"Accuracy:\", metrics.accuracy_score(y_test, prediction_linear))\n",
    "\n",
    "print('control: ', report['control'])\n",
    "print('anxiety: ', report['anxiety'])"
   ]
  },
  {
   "cell_type": "markdown",
   "id": "7feb98ea",
   "metadata": {},
   "source": [
    "### Depression SVM"
   ]
  },
  {
   "cell_type": "code",
   "execution_count": 23,
   "id": "9e568166",
   "metadata": {},
   "outputs": [],
   "source": [
    "drop_list = []\n",
    "for a in range(45884):\n",
    "    if df.at[a, 'subreddit.name'] != 'depression':\n",
    "        drop_list.append(a)"
   ]
  },
  {
   "cell_type": "code",
   "execution_count": 24,
   "id": "a37eb24f",
   "metadata": {},
   "outputs": [
    {
     "data": {
      "text/html": [
       "<div>\n",
       "<style scoped>\n",
       "    .dataframe tbody tr th:only-of-type {\n",
       "        vertical-align: middle;\n",
       "    }\n",
       "\n",
       "    .dataframe tbody tr th {\n",
       "        vertical-align: top;\n",
       "    }\n",
       "\n",
       "    .dataframe thead th {\n",
       "        text-align: right;\n",
       "    }\n",
       "</style>\n",
       "<table border=\"1\" class=\"dataframe\">\n",
       "  <thead>\n",
       "    <tr style=\"text-align: right;\">\n",
       "      <th></th>\n",
       "      <th>Unnamed: 0</th>\n",
       "      <th>subreddit.name</th>\n",
       "      <th>created_utc</th>\n",
       "      <th>body</th>\n",
       "      <th>sentiment</th>\n",
       "    </tr>\n",
       "  </thead>\n",
       "  <tbody>\n",
       "    <tr>\n",
       "      <th>4</th>\n",
       "      <td>1616</td>\n",
       "      <td>depression</td>\n",
       "      <td>1635202459</td>\n",
       "      <td>This hits close to home. \\n\\nHe sounds similar...</td>\n",
       "      <td>-0.4006</td>\n",
       "    </tr>\n",
       "    <tr>\n",
       "      <th>6</th>\n",
       "      <td>5124</td>\n",
       "      <td>depression</td>\n",
       "      <td>1635194028</td>\n",
       "      <td>I'm so sorry about your dog &amp;amp; what you're ...</td>\n",
       "      <td>-0.6387</td>\n",
       "    </tr>\n",
       "    <tr>\n",
       "      <th>43</th>\n",
       "      <td>25236</td>\n",
       "      <td>depression</td>\n",
       "      <td>1635130949</td>\n",
       "      <td>Hey man, I care about how you feel. I'm 23 and...</td>\n",
       "      <td>-0.3371</td>\n",
       "    </tr>\n",
       "    <tr>\n",
       "      <th>44</th>\n",
       "      <td>25409</td>\n",
       "      <td>depression</td>\n",
       "      <td>1635130321</td>\n",
       "      <td>You do everything in life moving forward for y...</td>\n",
       "      <td>0.4323</td>\n",
       "    </tr>\n",
       "    <tr>\n",
       "      <th>63</th>\n",
       "      <td>37410</td>\n",
       "      <td>depression</td>\n",
       "      <td>1635096893</td>\n",
       "      <td>It makes it basically like a nasty cold when y...</td>\n",
       "      <td>-0.5106</td>\n",
       "    </tr>\n",
       "    <tr>\n",
       "      <th>...</th>\n",
       "      <td>...</td>\n",
       "      <td>...</td>\n",
       "      <td>...</td>\n",
       "      <td>...</td>\n",
       "      <td>...</td>\n",
       "    </tr>\n",
       "    <tr>\n",
       "      <th>45591</th>\n",
       "      <td>17714315</td>\n",
       "      <td>depression</td>\n",
       "      <td>1583509183</td>\n",
       "      <td>The hospital was crowded because of Covid-19 p...</td>\n",
       "      <td>-0.5719</td>\n",
       "    </tr>\n",
       "    <tr>\n",
       "      <th>45654</th>\n",
       "      <td>17730423</td>\n",
       "      <td>depression</td>\n",
       "      <td>1583294463</td>\n",
       "      <td>There was the first confirmed case of COVID-19...</td>\n",
       "      <td>-0.9345</td>\n",
       "    </tr>\n",
       "    <tr>\n",
       "      <th>45655</th>\n",
       "      <td>17730635</td>\n",
       "      <td>depression</td>\n",
       "      <td>1583291007</td>\n",
       "      <td>Covid 19 is coming, no worries bro</td>\n",
       "      <td>0.3252</td>\n",
       "    </tr>\n",
       "    <tr>\n",
       "      <th>45779</th>\n",
       "      <td>17766846</td>\n",
       "      <td>depression</td>\n",
       "      <td>1582518347</td>\n",
       "      <td>My advice is to talk to a recruiter.  With a b...</td>\n",
       "      <td>0.0000</td>\n",
       "    </tr>\n",
       "    <tr>\n",
       "      <th>45854</th>\n",
       "      <td>17773958</td>\n",
       "      <td>depression</td>\n",
       "      <td>1581857879</td>\n",
       "      <td>Can you explain the reasoning here? What were ...</td>\n",
       "      <td>-0.9630</td>\n",
       "    </tr>\n",
       "  </tbody>\n",
       "</table>\n",
       "<p>5871 rows × 5 columns</p>\n",
       "</div>"
      ],
      "text/plain": [
       "       Unnamed: 0 subreddit.name  created_utc  \\\n",
       "4            1616     depression   1635202459   \n",
       "6            5124     depression   1635194028   \n",
       "43          25236     depression   1635130949   \n",
       "44          25409     depression   1635130321   \n",
       "63          37410     depression   1635096893   \n",
       "...           ...            ...          ...   \n",
       "45591    17714315     depression   1583509183   \n",
       "45654    17730423     depression   1583294463   \n",
       "45655    17730635     depression   1583291007   \n",
       "45779    17766846     depression   1582518347   \n",
       "45854    17773958     depression   1581857879   \n",
       "\n",
       "                                                    body  sentiment  \n",
       "4      This hits close to home. \\n\\nHe sounds similar...    -0.4006  \n",
       "6      I'm so sorry about your dog &amp; what you're ...    -0.6387  \n",
       "43     Hey man, I care about how you feel. I'm 23 and...    -0.3371  \n",
       "44     You do everything in life moving forward for y...     0.4323  \n",
       "63     It makes it basically like a nasty cold when y...    -0.5106  \n",
       "...                                                  ...        ...  \n",
       "45591  The hospital was crowded because of Covid-19 p...    -0.5719  \n",
       "45654  There was the first confirmed case of COVID-19...    -0.9345  \n",
       "45655                 Covid 19 is coming, no worries bro     0.3252  \n",
       "45779  My advice is to talk to a recruiter.  With a b...     0.0000  \n",
       "45854  Can you explain the reasoning here? What were ...    -0.9630  \n",
       "\n",
       "[5871 rows x 5 columns]"
      ]
     },
     "execution_count": 24,
     "metadata": {},
     "output_type": "execute_result"
    }
   ],
   "source": [
    "depression_sample = df.drop(drop_list, axis = 0)\n",
    "depression_sample"
   ]
  },
  {
   "cell_type": "code",
   "execution_count": 25,
   "id": "cfeaf902",
   "metadata": {},
   "outputs": [],
   "source": [
    "for sentiment in depression_sample['sentiment']:\n",
    "    depression_sample['sentiment'].replace({sentiment : 'depression'}, inplace=True)"
   ]
  },
  {
   "cell_type": "code",
   "execution_count": 26,
   "id": "74109513",
   "metadata": {},
   "outputs": [],
   "source": [
    "depression_control = control_dataset.sample(5871)"
   ]
  },
  {
   "cell_type": "code",
   "execution_count": 27,
   "id": "bb254f9a",
   "metadata": {},
   "outputs": [],
   "source": [
    "for sentiment in depression_control['sentiment']:\n",
    "    depression_control['sentiment'].replace({sentiment : 'control'}, inplace=True)"
   ]
  },
  {
   "cell_type": "code",
   "execution_count": 28,
   "id": "7c271398",
   "metadata": {},
   "outputs": [
    {
     "data": {
      "text/html": [
       "<div>\n",
       "<style scoped>\n",
       "    .dataframe tbody tr th:only-of-type {\n",
       "        vertical-align: middle;\n",
       "    }\n",
       "\n",
       "    .dataframe tbody tr th {\n",
       "        vertical-align: top;\n",
       "    }\n",
       "\n",
       "    .dataframe thead th {\n",
       "        text-align: right;\n",
       "    }\n",
       "</style>\n",
       "<table border=\"1\" class=\"dataframe\">\n",
       "  <thead>\n",
       "    <tr style=\"text-align: right;\">\n",
       "      <th></th>\n",
       "      <th>Unnamed: 0</th>\n",
       "      <th>subreddit.name</th>\n",
       "      <th>created_utc</th>\n",
       "      <th>body</th>\n",
       "      <th>sentiment</th>\n",
       "    </tr>\n",
       "  </thead>\n",
       "  <tbody>\n",
       "    <tr>\n",
       "      <th>4</th>\n",
       "      <td>1616</td>\n",
       "      <td>depression</td>\n",
       "      <td>1635202459</td>\n",
       "      <td>This hits close to home. \\n\\nHe sounds similar...</td>\n",
       "      <td>depression</td>\n",
       "    </tr>\n",
       "    <tr>\n",
       "      <th>6</th>\n",
       "      <td>5124</td>\n",
       "      <td>depression</td>\n",
       "      <td>1635194028</td>\n",
       "      <td>I'm so sorry about your dog &amp;amp; what you're ...</td>\n",
       "      <td>depression</td>\n",
       "    </tr>\n",
       "    <tr>\n",
       "      <th>43</th>\n",
       "      <td>25236</td>\n",
       "      <td>depression</td>\n",
       "      <td>1635130949</td>\n",
       "      <td>Hey man, I care about how you feel. I'm 23 and...</td>\n",
       "      <td>depression</td>\n",
       "    </tr>\n",
       "    <tr>\n",
       "      <th>44</th>\n",
       "      <td>25409</td>\n",
       "      <td>depression</td>\n",
       "      <td>1635130321</td>\n",
       "      <td>You do everything in life moving forward for y...</td>\n",
       "      <td>depression</td>\n",
       "    </tr>\n",
       "    <tr>\n",
       "      <th>63</th>\n",
       "      <td>37410</td>\n",
       "      <td>depression</td>\n",
       "      <td>1635096893</td>\n",
       "      <td>It makes it basically like a nasty cold when y...</td>\n",
       "      <td>depression</td>\n",
       "    </tr>\n",
       "    <tr>\n",
       "      <th>...</th>\n",
       "      <td>...</td>\n",
       "      <td>...</td>\n",
       "      <td>...</td>\n",
       "      <td>...</td>\n",
       "      <td>...</td>\n",
       "    </tr>\n",
       "    <tr>\n",
       "      <th>26192</th>\n",
       "      <td>10667105</td>\n",
       "      <td>coronavirusma</td>\n",
       "      <td>1605795295</td>\n",
       "      <td>Well I think you’re brave as hell for navigati...</td>\n",
       "      <td>control</td>\n",
       "    </tr>\n",
       "    <tr>\n",
       "      <th>882</th>\n",
       "      <td>15265641</td>\n",
       "      <td>italy</td>\n",
       "      <td>1591902032</td>\n",
       "      <td>Non ho letto tutto l'articolo ma credo sia opi...</td>\n",
       "      <td>control</td>\n",
       "    </tr>\n",
       "    <tr>\n",
       "      <th>40101</th>\n",
       "      <td>16491485</td>\n",
       "      <td>insanepeoplefacebook</td>\n",
       "      <td>1587507682</td>\n",
       "      <td>Ikr, covid-19 is just natural selection doing ...</td>\n",
       "      <td>control</td>\n",
       "    </tr>\n",
       "    <tr>\n",
       "      <th>39445</th>\n",
       "      <td>16595870</td>\n",
       "      <td>irs</td>\n",
       "      <td>1587164418</td>\n",
       "      <td>Trust me, that is just wishful thinking. If yo...</td>\n",
       "      <td>control</td>\n",
       "    </tr>\n",
       "    <tr>\n",
       "      <th>5874</th>\n",
       "      <td>13431834</td>\n",
       "      <td>huskers</td>\n",
       "      <td>1597438414</td>\n",
       "      <td>The new commissioner sucks balls.  No reason t...</td>\n",
       "      <td>control</td>\n",
       "    </tr>\n",
       "  </tbody>\n",
       "</table>\n",
       "<p>11742 rows × 5 columns</p>\n",
       "</div>"
      ],
      "text/plain": [
       "       Unnamed: 0        subreddit.name  created_utc  \\\n",
       "4            1616            depression   1635202459   \n",
       "6            5124            depression   1635194028   \n",
       "43          25236            depression   1635130949   \n",
       "44          25409            depression   1635130321   \n",
       "63          37410            depression   1635096893   \n",
       "...           ...                   ...          ...   \n",
       "26192    10667105         coronavirusma   1605795295   \n",
       "882      15265641                 italy   1591902032   \n",
       "40101    16491485  insanepeoplefacebook   1587507682   \n",
       "39445    16595870                   irs   1587164418   \n",
       "5874     13431834               huskers   1597438414   \n",
       "\n",
       "                                                    body   sentiment  \n",
       "4      This hits close to home. \\n\\nHe sounds similar...  depression  \n",
       "6      I'm so sorry about your dog &amp; what you're ...  depression  \n",
       "43     Hey man, I care about how you feel. I'm 23 and...  depression  \n",
       "44     You do everything in life moving forward for y...  depression  \n",
       "63     It makes it basically like a nasty cold when y...  depression  \n",
       "...                                                  ...         ...  \n",
       "26192  Well I think you’re brave as hell for navigati...     control  \n",
       "882    Non ho letto tutto l'articolo ma credo sia opi...     control  \n",
       "40101  Ikr, covid-19 is just natural selection doing ...     control  \n",
       "39445  Trust me, that is just wishful thinking. If yo...     control  \n",
       "5874   The new commissioner sucks balls.  No reason t...     control  \n",
       "\n",
       "[11742 rows x 5 columns]"
      ]
     },
     "execution_count": 28,
     "metadata": {},
     "output_type": "execute_result"
    }
   ],
   "source": [
    "depression_dataset = pd.concat([depression_sample, depression_control])\n",
    "depression_dataset"
   ]
  },
  {
   "cell_type": "code",
   "execution_count": 29,
   "id": "59601dcc",
   "metadata": {},
   "outputs": [
    {
     "name": "stdout",
     "output_type": "stream",
     "text": [
      "Train Data size: 9393\n",
      "Test Data size 2349\n"
     ]
    }
   ],
   "source": [
    " # Splits Dataset into Training and Testing set\n",
    "train_size = 0.8\n",
    "train_data, test_data = train_test_split(depression_dataset, test_size=1-train_size, random_state=42, shuffle=True)\n",
    "print(\"Train Data size:\", len(train_data))\n",
    "print(\"Test Data size\", len(test_data))"
   ]
  },
  {
   "cell_type": "code",
   "execution_count": 30,
   "id": "5f27eb79",
   "metadata": {},
   "outputs": [],
   "source": [
    "vectorizer = TfidfVectorizer(max_features=14000,\n",
    "                             min_df = 5,\n",
    "                             max_df = 0.8,\n",
    "                             sublinear_tf = True,\n",
    "                             use_idf = True)\n",
    "vectorizer.fit(train_data.body.to_list())\n",
    "x_train = vectorizer.transform(train_data.body.to_list())\n",
    "x_test = vectorizer.transform(test_data.body.to_list())"
   ]
  },
  {
   "cell_type": "code",
   "execution_count": 31,
   "id": "2f5e1caf",
   "metadata": {},
   "outputs": [
    {
     "name": "stdout",
     "output_type": "stream",
     "text": [
      "x_train Shape: (9393, 7794)\n",
      "x_test Shape: (2349, 7794)\n"
     ]
    }
   ],
   "source": [
    "print(\"x_train Shape:\",x_train.shape)\n",
    "print(\"x_test Shape:\",x_test.shape)"
   ]
  },
  {
   "cell_type": "code",
   "execution_count": 32,
   "id": "ff14d592",
   "metadata": {},
   "outputs": [
    {
     "name": "stdout",
     "output_type": "stream",
     "text": [
      "y_train shape: (9393, 1)\n",
      "y_test shape: (2349, 1)\n"
     ]
    }
   ],
   "source": [
    "encoder = LabelEncoder() #https://scikit-learn.org/stable/modules/generated/sklearn.preprocessing.LabelEncoder.html\n",
    "encoder.fit(train_data.sentiment.to_list())\n",
    "\n",
    "y_train = encoder.transform(train_data.sentiment.to_list())\n",
    "y_test = encoder.transform(test_data.sentiment.to_list())\n",
    "\n",
    "y_train = y_train.reshape(-1,1)\n",
    "y_test = y_test.reshape(-1,1)\n",
    "\n",
    "print(\"y_train shape:\", y_train.shape)\n",
    "print(\"y_test shape:\", y_test.shape)"
   ]
  },
  {
   "cell_type": "code",
   "execution_count": 33,
   "id": "0b2e00f6",
   "metadata": {},
   "outputs": [
    {
     "name": "stdout",
     "output_type": "stream",
     "text": [
      "Training time: 18.664401s; Prediction time: 3.696212s\n",
      "Accuracy: 0.8859088974031503\n",
      "control:  {'precision': 0.873534338358459, 'recall': 0.8991379310344828, 'f1-score': 0.8861512319456245, 'support': 1160}\n",
      "depression:  {'precision': 0.8987012987012987, 'recall': 0.8730025231286795, 'f1-score': 0.8856655290102388, 'support': 1189}\n"
     ]
    }
   ],
   "source": [
    "# Perform classification with SVM, kernel=linear\n",
    "depression_classifier = svm.SVC(kernel='linear')\n",
    "t0 = time.time()\n",
    "depression_classifier.fit(x_train, y_train.ravel())\n",
    "t1 = time.time()\n",
    "prediction_linear = depression_classifier.predict(x_test)\n",
    "t2 = time.time()\n",
    "time_linear_train = t1-t0\n",
    "time_linear_predict = t2-t1\n",
    "\n",
    "labels = [0.0, 1.0]\n",
    "target_names = ['control', 'depression']\n",
    "\n",
    "# results\n",
    "print(\"Training time: %fs; Prediction time: %fs\" % (time_linear_train, time_linear_predict))\n",
    "\n",
    "report = classification_report(y_test, prediction_linear, labels = labels, target_names = target_names, output_dict=True)\n",
    "\n",
    "print(\"Accuracy:\", metrics.accuracy_score(y_test, prediction_linear))\n",
    "\n",
    "print('control: ', report['control'])\n",
    "print('depression: ', report['depression'])"
   ]
  },
  {
   "cell_type": "markdown",
   "id": "e1512ede",
   "metadata": {},
   "source": [
    "### MentalHealth SVM"
   ]
  },
  {
   "cell_type": "code",
   "execution_count": 34,
   "id": "9122baff",
   "metadata": {},
   "outputs": [],
   "source": [
    "drop_list = []\n",
    "for a in range(45884):\n",
    "    if df.at[a, 'subreddit.name'] != 'mentalhealth':\n",
    "        drop_list.append(a)"
   ]
  },
  {
   "cell_type": "code",
   "execution_count": 35,
   "id": "df55193e",
   "metadata": {},
   "outputs": [
    {
     "data": {
      "text/html": [
       "<div>\n",
       "<style scoped>\n",
       "    .dataframe tbody tr th:only-of-type {\n",
       "        vertical-align: middle;\n",
       "    }\n",
       "\n",
       "    .dataframe tbody tr th {\n",
       "        vertical-align: top;\n",
       "    }\n",
       "\n",
       "    .dataframe thead th {\n",
       "        text-align: right;\n",
       "    }\n",
       "</style>\n",
       "<table border=\"1\" class=\"dataframe\">\n",
       "  <thead>\n",
       "    <tr style=\"text-align: right;\">\n",
       "      <th></th>\n",
       "      <th>Unnamed: 0</th>\n",
       "      <th>subreddit.name</th>\n",
       "      <th>created_utc</th>\n",
       "      <th>body</th>\n",
       "      <th>sentiment</th>\n",
       "    </tr>\n",
       "  </thead>\n",
       "  <tbody>\n",
       "    <tr>\n",
       "      <th>9</th>\n",
       "      <td>6594</td>\n",
       "      <td>mentalhealth</td>\n",
       "      <td>1635190779</td>\n",
       "      <td>Covid, I have to be with my girlfriend at home...</td>\n",
       "      <td>0.1615</td>\n",
       "    </tr>\n",
       "    <tr>\n",
       "      <th>13</th>\n",
       "      <td>8232</td>\n",
       "      <td>mentalhealth</td>\n",
       "      <td>1635187037</td>\n",
       "      <td>I'm like this. My company made all of us work ...</td>\n",
       "      <td>0.7631</td>\n",
       "    </tr>\n",
       "    <tr>\n",
       "      <th>27</th>\n",
       "      <td>13991</td>\n",
       "      <td>mentalhealth</td>\n",
       "      <td>1635174447</td>\n",
       "      <td>Not to sound egotistical, but I used to have t...</td>\n",
       "      <td>0.8508</td>\n",
       "    </tr>\n",
       "    <tr>\n",
       "      <th>29</th>\n",
       "      <td>16648</td>\n",
       "      <td>mentalhealth</td>\n",
       "      <td>1635167578</td>\n",
       "      <td>95, that’s a really good age. Accept her decis...</td>\n",
       "      <td>0.9847</td>\n",
       "    </tr>\n",
       "    <tr>\n",
       "      <th>31</th>\n",
       "      <td>16902</td>\n",
       "      <td>mentalhealth</td>\n",
       "      <td>1635166737</td>\n",
       "      <td>Hey I’m sorry you’re going through a tough tim...</td>\n",
       "      <td>0.9747</td>\n",
       "    </tr>\n",
       "    <tr>\n",
       "      <th>...</th>\n",
       "      <td>...</td>\n",
       "      <td>...</td>\n",
       "      <td>...</td>\n",
       "      <td>...</td>\n",
       "      <td>...</td>\n",
       "    </tr>\n",
       "    <tr>\n",
       "      <th>45301</th>\n",
       "      <td>17612619</td>\n",
       "      <td>mentalhealth</td>\n",
       "      <td>1584120252</td>\n",
       "      <td>You’re right to worry about this. I’m worried ...</td>\n",
       "      <td>-0.9284</td>\n",
       "    </tr>\n",
       "    <tr>\n",
       "      <th>45323</th>\n",
       "      <td>17622751</td>\n",
       "      <td>mentalhealth</td>\n",
       "      <td>1584086361</td>\n",
       "      <td>Don't watch TV or search for covid info online</td>\n",
       "      <td>0.0000</td>\n",
       "    </tr>\n",
       "    <tr>\n",
       "      <th>45331</th>\n",
       "      <td>17624677</td>\n",
       "      <td>mentalhealth</td>\n",
       "      <td>1584077134</td>\n",
       "      <td>I’m sorry to hear your anxieties are acting up...</td>\n",
       "      <td>-0.9574</td>\n",
       "    </tr>\n",
       "    <tr>\n",
       "      <th>45441</th>\n",
       "      <td>17670621</td>\n",
       "      <td>mentalhealth</td>\n",
       "      <td>1583895477</td>\n",
       "      <td>You don't need to worry. \\n\\nYou should take a...</td>\n",
       "      <td>0.9730</td>\n",
       "    </tr>\n",
       "    <tr>\n",
       "      <th>45882</th>\n",
       "      <td>17777197</td>\n",
       "      <td>mentalhealth</td>\n",
       "      <td>1581454025</td>\n",
       "      <td>Hi mate, as someone with GAD I can relate to y...</td>\n",
       "      <td>0.5332</td>\n",
       "    </tr>\n",
       "  </tbody>\n",
       "</table>\n",
       "<p>3307 rows × 5 columns</p>\n",
       "</div>"
      ],
      "text/plain": [
       "       Unnamed: 0 subreddit.name  created_utc  \\\n",
       "9            6594   mentalhealth   1635190779   \n",
       "13           8232   mentalhealth   1635187037   \n",
       "27          13991   mentalhealth   1635174447   \n",
       "29          16648   mentalhealth   1635167578   \n",
       "31          16902   mentalhealth   1635166737   \n",
       "...           ...            ...          ...   \n",
       "45301    17612619   mentalhealth   1584120252   \n",
       "45323    17622751   mentalhealth   1584086361   \n",
       "45331    17624677   mentalhealth   1584077134   \n",
       "45441    17670621   mentalhealth   1583895477   \n",
       "45882    17777197   mentalhealth   1581454025   \n",
       "\n",
       "                                                    body  sentiment  \n",
       "9      Covid, I have to be with my girlfriend at home...     0.1615  \n",
       "13     I'm like this. My company made all of us work ...     0.7631  \n",
       "27     Not to sound egotistical, but I used to have t...     0.8508  \n",
       "29     95, that’s a really good age. Accept her decis...     0.9847  \n",
       "31     Hey I’m sorry you’re going through a tough tim...     0.9747  \n",
       "...                                                  ...        ...  \n",
       "45301  You’re right to worry about this. I’m worried ...    -0.9284  \n",
       "45323     Don't watch TV or search for covid info online     0.0000  \n",
       "45331  I’m sorry to hear your anxieties are acting up...    -0.9574  \n",
       "45441  You don't need to worry. \\n\\nYou should take a...     0.9730  \n",
       "45882  Hi mate, as someone with GAD I can relate to y...     0.5332  \n",
       "\n",
       "[3307 rows x 5 columns]"
      ]
     },
     "execution_count": 35,
     "metadata": {},
     "output_type": "execute_result"
    }
   ],
   "source": [
    "mentalhealth_sample = df.drop(drop_list, axis = 0)\n",
    "mentalhealth_sample"
   ]
  },
  {
   "cell_type": "code",
   "execution_count": 36,
   "id": "6b2cb195",
   "metadata": {},
   "outputs": [],
   "source": [
    "for sentiment in mentalhealth_sample['sentiment']:\n",
    "    mentalhealth_sample['sentiment'].replace({sentiment : 'mentalhealth'}, inplace=True)"
   ]
  },
  {
   "cell_type": "code",
   "execution_count": 37,
   "id": "266a06b2",
   "metadata": {},
   "outputs": [],
   "source": [
    "mentalhealth_control = control_dataset.sample(3307)"
   ]
  },
  {
   "cell_type": "code",
   "execution_count": 38,
   "id": "324e7fb3",
   "metadata": {},
   "outputs": [],
   "source": [
    "for sentiment in mentalhealth_control['sentiment']:\n",
    "    mentalhealth_control['sentiment'].replace({sentiment : 'control'}, inplace=True)"
   ]
  },
  {
   "cell_type": "code",
   "execution_count": 39,
   "id": "c8f4d96b",
   "metadata": {},
   "outputs": [
    {
     "data": {
      "text/html": [
       "<div>\n",
       "<style scoped>\n",
       "    .dataframe tbody tr th:only-of-type {\n",
       "        vertical-align: middle;\n",
       "    }\n",
       "\n",
       "    .dataframe tbody tr th {\n",
       "        vertical-align: top;\n",
       "    }\n",
       "\n",
       "    .dataframe thead th {\n",
       "        text-align: right;\n",
       "    }\n",
       "</style>\n",
       "<table border=\"1\" class=\"dataframe\">\n",
       "  <thead>\n",
       "    <tr style=\"text-align: right;\">\n",
       "      <th></th>\n",
       "      <th>Unnamed: 0</th>\n",
       "      <th>subreddit.name</th>\n",
       "      <th>created_utc</th>\n",
       "      <th>body</th>\n",
       "      <th>sentiment</th>\n",
       "    </tr>\n",
       "  </thead>\n",
       "  <tbody>\n",
       "    <tr>\n",
       "      <th>9</th>\n",
       "      <td>6594</td>\n",
       "      <td>mentalhealth</td>\n",
       "      <td>1635190779</td>\n",
       "      <td>Covid, I have to be with my girlfriend at home...</td>\n",
       "      <td>mentalhealth</td>\n",
       "    </tr>\n",
       "    <tr>\n",
       "      <th>13</th>\n",
       "      <td>8232</td>\n",
       "      <td>mentalhealth</td>\n",
       "      <td>1635187037</td>\n",
       "      <td>I'm like this. My company made all of us work ...</td>\n",
       "      <td>mentalhealth</td>\n",
       "    </tr>\n",
       "    <tr>\n",
       "      <th>27</th>\n",
       "      <td>13991</td>\n",
       "      <td>mentalhealth</td>\n",
       "      <td>1635174447</td>\n",
       "      <td>Not to sound egotistical, but I used to have t...</td>\n",
       "      <td>mentalhealth</td>\n",
       "    </tr>\n",
       "    <tr>\n",
       "      <th>29</th>\n",
       "      <td>16648</td>\n",
       "      <td>mentalhealth</td>\n",
       "      <td>1635167578</td>\n",
       "      <td>95, that’s a really good age. Accept her decis...</td>\n",
       "      <td>mentalhealth</td>\n",
       "    </tr>\n",
       "    <tr>\n",
       "      <th>31</th>\n",
       "      <td>16902</td>\n",
       "      <td>mentalhealth</td>\n",
       "      <td>1635166737</td>\n",
       "      <td>Hey I’m sorry you’re going through a tough tim...</td>\n",
       "      <td>mentalhealth</td>\n",
       "    </tr>\n",
       "    <tr>\n",
       "      <th>...</th>\n",
       "      <td>...</td>\n",
       "      <td>...</td>\n",
       "      <td>...</td>\n",
       "      <td>...</td>\n",
       "      <td>...</td>\n",
       "    </tr>\n",
       "    <tr>\n",
       "      <th>7439</th>\n",
       "      <td>4213850</td>\n",
       "      <td>purplepilldebate</td>\n",
       "      <td>1625556272</td>\n",
       "      <td>Just got my first dose of COVID vaccine and th...</td>\n",
       "      <td>control</td>\n",
       "    </tr>\n",
       "    <tr>\n",
       "      <th>2147</th>\n",
       "      <td>15005724</td>\n",
       "      <td>unemployment</td>\n",
       "      <td>1592923757</td>\n",
       "      <td>Yes. I was only putting that option to explain...</td>\n",
       "      <td>control</td>\n",
       "    </tr>\n",
       "    <tr>\n",
       "      <th>9626</th>\n",
       "      <td>1659207</td>\n",
       "      <td>hermancainaward</td>\n",
       "      <td>1631130975</td>\n",
       "      <td>I think current observations show that for sur...</td>\n",
       "      <td>control</td>\n",
       "    </tr>\n",
       "    <tr>\n",
       "      <th>10272</th>\n",
       "      <td>1851459</td>\n",
       "      <td>politicalcompassmemes</td>\n",
       "      <td>1630722746</td>\n",
       "      <td>What's false? That the covid vaccine doesn't p...</td>\n",
       "      <td>control</td>\n",
       "    </tr>\n",
       "    <tr>\n",
       "      <th>39154</th>\n",
       "      <td>11145297</td>\n",
       "      <td>neoliberal</td>\n",
       "      <td>1604520428</td>\n",
       "      <td>Honestly I wonder if at the end of the day, th...</td>\n",
       "      <td>control</td>\n",
       "    </tr>\n",
       "  </tbody>\n",
       "</table>\n",
       "<p>6614 rows × 5 columns</p>\n",
       "</div>"
      ],
      "text/plain": [
       "       Unnamed: 0         subreddit.name  created_utc  \\\n",
       "9            6594           mentalhealth   1635190779   \n",
       "13           8232           mentalhealth   1635187037   \n",
       "27          13991           mentalhealth   1635174447   \n",
       "29          16648           mentalhealth   1635167578   \n",
       "31          16902           mentalhealth   1635166737   \n",
       "...           ...                    ...          ...   \n",
       "7439      4213850       purplepilldebate   1625556272   \n",
       "2147     15005724           unemployment   1592923757   \n",
       "9626      1659207        hermancainaward   1631130975   \n",
       "10272     1851459  politicalcompassmemes   1630722746   \n",
       "39154    11145297             neoliberal   1604520428   \n",
       "\n",
       "                                                    body     sentiment  \n",
       "9      Covid, I have to be with my girlfriend at home...  mentalhealth  \n",
       "13     I'm like this. My company made all of us work ...  mentalhealth  \n",
       "27     Not to sound egotistical, but I used to have t...  mentalhealth  \n",
       "29     95, that’s a really good age. Accept her decis...  mentalhealth  \n",
       "31     Hey I’m sorry you’re going through a tough tim...  mentalhealth  \n",
       "...                                                  ...           ...  \n",
       "7439   Just got my first dose of COVID vaccine and th...       control  \n",
       "2147   Yes. I was only putting that option to explain...       control  \n",
       "9626   I think current observations show that for sur...       control  \n",
       "10272  What's false? That the covid vaccine doesn't p...       control  \n",
       "39154  Honestly I wonder if at the end of the day, th...       control  \n",
       "\n",
       "[6614 rows x 5 columns]"
      ]
     },
     "execution_count": 39,
     "metadata": {},
     "output_type": "execute_result"
    }
   ],
   "source": [
    "mentalhealth_dataset = pd.concat([mentalhealth_sample, mentalhealth_control])\n",
    "mentalhealth_dataset"
   ]
  },
  {
   "cell_type": "code",
   "execution_count": 40,
   "id": "ce71d978",
   "metadata": {},
   "outputs": [
    {
     "name": "stdout",
     "output_type": "stream",
     "text": [
      "Train Data size: 5291\n",
      "Test Data size 1323\n"
     ]
    }
   ],
   "source": [
    " # Splits Dataset into Training and Testing set\n",
    "train_size = 0.8\n",
    "train_data, test_data = train_test_split(mentalhealth_dataset, test_size=1-train_size, random_state=42, shuffle=True)\n",
    "print(\"Train Data size:\", len(train_data))\n",
    "print(\"Test Data size\", len(test_data))"
   ]
  },
  {
   "cell_type": "code",
   "execution_count": 41,
   "id": "da4311b4",
   "metadata": {},
   "outputs": [],
   "source": [
    "vectorizer = TfidfVectorizer(max_features=14000,\n",
    "                             min_df = 5,\n",
    "                             max_df = 0.8,\n",
    "                             sublinear_tf = True,\n",
    "                             use_idf = True)\n",
    "vectorizer.fit(train_data.body.to_list())\n",
    "x_train = vectorizer.transform(train_data.body.to_list())\n",
    "x_test = vectorizer.transform(test_data.body.to_list())"
   ]
  },
  {
   "cell_type": "code",
   "execution_count": 43,
   "id": "525338a1",
   "metadata": {},
   "outputs": [
    {
     "name": "stdout",
     "output_type": "stream",
     "text": [
      "x_train Shape: (5291, 5862)\n",
      "x_test Shape: (1323, 5862)\n"
     ]
    }
   ],
   "source": [
    "print(\"x_train Shape:\",x_train.shape)\n",
    "print(\"x_test Shape:\",x_test.shape)"
   ]
  },
  {
   "cell_type": "code",
   "execution_count": 44,
   "id": "299a321b",
   "metadata": {},
   "outputs": [
    {
     "name": "stdout",
     "output_type": "stream",
     "text": [
      "y_train shape: (5291, 1)\n",
      "y_test shape: (1323, 1)\n"
     ]
    }
   ],
   "source": [
    "encoder = LabelEncoder() #https://scikit-learn.org/stable/modules/generated/sklearn.preprocessing.LabelEncoder.html\n",
    "encoder.fit(train_data.sentiment.to_list())\n",
    "\n",
    "y_train = encoder.transform(train_data.sentiment.to_list())\n",
    "y_test = encoder.transform(test_data.sentiment.to_list())\n",
    "\n",
    "y_train = y_train.reshape(-1,1)\n",
    "y_test = y_test.reshape(-1,1)\n",
    "\n",
    "print(\"y_train shape:\", y_train.shape)\n",
    "print(\"y_test shape:\", y_test.shape)"
   ]
  },
  {
   "cell_type": "code",
   "execution_count": 45,
   "id": "ba3eeeac",
   "metadata": {},
   "outputs": [
    {
     "name": "stdout",
     "output_type": "stream",
     "text": [
      "Training time: 7.022244s; Prediction time: 1.462286s\n",
      "Accuracy: 0.8465608465608465\n",
      "control:  {'precision': 0.8236151603498543, 'recall': 0.8732612055641422, 'f1-score': 0.8477119279819955, 'support': 647}\n",
      "depression:  {'precision': 0.8712715855572999, 'recall': 0.8210059171597633, 'f1-score': 0.8453922315308454, 'support': 676}\n"
     ]
    }
   ],
   "source": [
    "# Perform classification with SVM, kernel=linear\n",
    "mentalhealth_classifier = svm.SVC(kernel='linear')\n",
    "t0 = time.time()\n",
    "mentalhealth_classifier.fit(x_train, y_train.ravel())\n",
    "t1 = time.time()\n",
    "prediction_linear = mentalhealth_classifier.predict(x_test)\n",
    "t2 = time.time()\n",
    "time_linear_train = t1-t0\n",
    "time_linear_predict = t2-t1\n",
    "\n",
    "labels = [0.0, 1.0]\n",
    "target_names = ['control', 'mentalhealth']\n",
    "\n",
    "# results\n",
    "print(\"Training time: %fs; Prediction time: %fs\" % (time_linear_train, time_linear_predict))\n",
    "\n",
    "report = classification_report(y_test, prediction_linear, labels = labels, target_names = target_names, output_dict=True)\n",
    "\n",
    "print(\"Accuracy:\", metrics.accuracy_score(y_test, prediction_linear))\n",
    "\n",
    "print('control: ', report['control'])\n",
    "print('mentalhealth: ', report['mentalhealth'])"
   ]
  },
  {
   "cell_type": "markdown",
   "id": "a55a1681",
   "metadata": {},
   "source": [
    "### SuicideWatch SVM"
   ]
  },
  {
   "cell_type": "code",
   "execution_count": 46,
   "id": "dbfabae8",
   "metadata": {},
   "outputs": [],
   "source": [
    "drop_list = []\n",
    "for a in range(45884):\n",
    "    if df.at[a, 'subreddit.name'] != 'suicidewatch':\n",
    "        drop_list.append(a)"
   ]
  },
  {
   "cell_type": "code",
   "execution_count": 47,
   "id": "466c77dd",
   "metadata": {
    "scrolled": true
   },
   "outputs": [
    {
     "data": {
      "text/html": [
       "<div>\n",
       "<style scoped>\n",
       "    .dataframe tbody tr th:only-of-type {\n",
       "        vertical-align: middle;\n",
       "    }\n",
       "\n",
       "    .dataframe tbody tr th {\n",
       "        vertical-align: top;\n",
       "    }\n",
       "\n",
       "    .dataframe thead th {\n",
       "        text-align: right;\n",
       "    }\n",
       "</style>\n",
       "<table border=\"1\" class=\"dataframe\">\n",
       "  <thead>\n",
       "    <tr style=\"text-align: right;\">\n",
       "      <th></th>\n",
       "      <th>Unnamed: 0</th>\n",
       "      <th>subreddit.name</th>\n",
       "      <th>created_utc</th>\n",
       "      <th>body</th>\n",
       "      <th>sentiment</th>\n",
       "    </tr>\n",
       "  </thead>\n",
       "  <tbody>\n",
       "    <tr>\n",
       "      <th>16</th>\n",
       "      <td>9252</td>\n",
       "      <td>suicidewatch</td>\n",
       "      <td>1635184847</td>\n",
       "      <td>I am sorry to hear this. I also kind of blame ...</td>\n",
       "      <td>0.0534</td>\n",
       "    </tr>\n",
       "    <tr>\n",
       "      <th>33</th>\n",
       "      <td>18264</td>\n",
       "      <td>suicidewatch</td>\n",
       "      <td>1635161963</td>\n",
       "      <td>Yeah, the way things are, the COVID age, it fu...</td>\n",
       "      <td>-0.9579</td>\n",
       "    </tr>\n",
       "    <tr>\n",
       "      <th>36</th>\n",
       "      <td>21384</td>\n",
       "      <td>suicidewatch</td>\n",
       "      <td>1635146582</td>\n",
       "      <td>When its your final exams you'll right it can....</td>\n",
       "      <td>0.9455</td>\n",
       "    </tr>\n",
       "    <tr>\n",
       "      <th>38</th>\n",
       "      <td>22331</td>\n",
       "      <td>suicidewatch</td>\n",
       "      <td>1635141823</td>\n",
       "      <td>U sound worn out. A few bad exams aren’t going...</td>\n",
       "      <td>-0.9260</td>\n",
       "    </tr>\n",
       "    <tr>\n",
       "      <th>39</th>\n",
       "      <td>22499</td>\n",
       "      <td>suicidewatch</td>\n",
       "      <td>1635141016</td>\n",
       "      <td>There are limitless options for you including ...</td>\n",
       "      <td>0.8519</td>\n",
       "    </tr>\n",
       "    <tr>\n",
       "      <th>...</th>\n",
       "      <td>...</td>\n",
       "      <td>...</td>\n",
       "      <td>...</td>\n",
       "      <td>...</td>\n",
       "      <td>...</td>\n",
       "    </tr>\n",
       "    <tr>\n",
       "      <th>45543</th>\n",
       "      <td>17698755</td>\n",
       "      <td>suicidewatch</td>\n",
       "      <td>1583683763</td>\n",
       "      <td>Of course and, COVID-19 shouldn’t be downplaye...</td>\n",
       "      <td>0.8612</td>\n",
       "    </tr>\n",
       "    <tr>\n",
       "      <th>45576</th>\n",
       "      <td>17706874</td>\n",
       "      <td>suicidewatch</td>\n",
       "      <td>1583592020</td>\n",
       "      <td>Yes, to bolster what you thought and what u/Qu...</td>\n",
       "      <td>-0.1513</td>\n",
       "    </tr>\n",
       "    <tr>\n",
       "      <th>45651</th>\n",
       "      <td>17729169</td>\n",
       "      <td>suicidewatch</td>\n",
       "      <td>1583321376</td>\n",
       "      <td>At this point in time I think that talking is ...</td>\n",
       "      <td>0.7411</td>\n",
       "    </tr>\n",
       "    <tr>\n",
       "      <th>45722</th>\n",
       "      <td>17743055</td>\n",
       "      <td>suicidewatch</td>\n",
       "      <td>1583101515</td>\n",
       "      <td>For now. Chances of getting it should pick up ...</td>\n",
       "      <td>-0.9186</td>\n",
       "    </tr>\n",
       "    <tr>\n",
       "      <th>45733</th>\n",
       "      <td>17746305</td>\n",
       "      <td>suicidewatch</td>\n",
       "      <td>1583033993</td>\n",
       "      <td>I’m not sure why you want a cold or flu. Most ...</td>\n",
       "      <td>-0.7211</td>\n",
       "    </tr>\n",
       "  </tbody>\n",
       "</table>\n",
       "<p>4049 rows × 5 columns</p>\n",
       "</div>"
      ],
      "text/plain": [
       "       Unnamed: 0 subreddit.name  created_utc  \\\n",
       "16           9252   suicidewatch   1635184847   \n",
       "33          18264   suicidewatch   1635161963   \n",
       "36          21384   suicidewatch   1635146582   \n",
       "38          22331   suicidewatch   1635141823   \n",
       "39          22499   suicidewatch   1635141016   \n",
       "...           ...            ...          ...   \n",
       "45543    17698755   suicidewatch   1583683763   \n",
       "45576    17706874   suicidewatch   1583592020   \n",
       "45651    17729169   suicidewatch   1583321376   \n",
       "45722    17743055   suicidewatch   1583101515   \n",
       "45733    17746305   suicidewatch   1583033993   \n",
       "\n",
       "                                                    body  sentiment  \n",
       "16     I am sorry to hear this. I also kind of blame ...     0.0534  \n",
       "33     Yeah, the way things are, the COVID age, it fu...    -0.9579  \n",
       "36     When its your final exams you'll right it can....     0.9455  \n",
       "38     U sound worn out. A few bad exams aren’t going...    -0.9260  \n",
       "39     There are limitless options for you including ...     0.8519  \n",
       "...                                                  ...        ...  \n",
       "45543  Of course and, COVID-19 shouldn’t be downplaye...     0.8612  \n",
       "45576  Yes, to bolster what you thought and what u/Qu...    -0.1513  \n",
       "45651  At this point in time I think that talking is ...     0.7411  \n",
       "45722  For now. Chances of getting it should pick up ...    -0.9186  \n",
       "45733  I’m not sure why you want a cold or flu. Most ...    -0.7211  \n",
       "\n",
       "[4049 rows x 5 columns]"
      ]
     },
     "execution_count": 47,
     "metadata": {},
     "output_type": "execute_result"
    }
   ],
   "source": [
    "SuicideWatch_sample = df.drop(drop_list, axis = 0)\n",
    "SuicideWatch_sample"
   ]
  },
  {
   "cell_type": "code",
   "execution_count": 48,
   "id": "254a5510",
   "metadata": {},
   "outputs": [],
   "source": [
    "for sentiment in SuicideWatch_sample['sentiment']:\n",
    "    SuicideWatch_sample['sentiment'].replace({sentiment : 'suicidewatch'}, inplace=True)"
   ]
  },
  {
   "cell_type": "code",
   "execution_count": 49,
   "id": "2933c289",
   "metadata": {},
   "outputs": [],
   "source": [
    "SuicideWatch_control = control_dataset.sample(4049)"
   ]
  },
  {
   "cell_type": "code",
   "execution_count": 50,
   "id": "285111a7",
   "metadata": {},
   "outputs": [],
   "source": [
    "for sentiment in SuicideWatch_control['sentiment']:\n",
    "    SuicideWatch_control['sentiment'].replace({sentiment : 'control'}, inplace=True)"
   ]
  },
  {
   "cell_type": "code",
   "execution_count": 51,
   "id": "ed89ebf9",
   "metadata": {},
   "outputs": [
    {
     "data": {
      "text/html": [
       "<div>\n",
       "<style scoped>\n",
       "    .dataframe tbody tr th:only-of-type {\n",
       "        vertical-align: middle;\n",
       "    }\n",
       "\n",
       "    .dataframe tbody tr th {\n",
       "        vertical-align: top;\n",
       "    }\n",
       "\n",
       "    .dataframe thead th {\n",
       "        text-align: right;\n",
       "    }\n",
       "</style>\n",
       "<table border=\"1\" class=\"dataframe\">\n",
       "  <thead>\n",
       "    <tr style=\"text-align: right;\">\n",
       "      <th></th>\n",
       "      <th>Unnamed: 0</th>\n",
       "      <th>subreddit.name</th>\n",
       "      <th>created_utc</th>\n",
       "      <th>body</th>\n",
       "      <th>sentiment</th>\n",
       "    </tr>\n",
       "  </thead>\n",
       "  <tbody>\n",
       "    <tr>\n",
       "      <th>16</th>\n",
       "      <td>9252</td>\n",
       "      <td>suicidewatch</td>\n",
       "      <td>1635184847</td>\n",
       "      <td>I am sorry to hear this. I also kind of blame ...</td>\n",
       "      <td>suicidewatch</td>\n",
       "    </tr>\n",
       "    <tr>\n",
       "      <th>33</th>\n",
       "      <td>18264</td>\n",
       "      <td>suicidewatch</td>\n",
       "      <td>1635161963</td>\n",
       "      <td>Yeah, the way things are, the COVID age, it fu...</td>\n",
       "      <td>suicidewatch</td>\n",
       "    </tr>\n",
       "    <tr>\n",
       "      <th>36</th>\n",
       "      <td>21384</td>\n",
       "      <td>suicidewatch</td>\n",
       "      <td>1635146582</td>\n",
       "      <td>When its your final exams you'll right it can....</td>\n",
       "      <td>suicidewatch</td>\n",
       "    </tr>\n",
       "    <tr>\n",
       "      <th>38</th>\n",
       "      <td>22331</td>\n",
       "      <td>suicidewatch</td>\n",
       "      <td>1635141823</td>\n",
       "      <td>U sound worn out. A few bad exams aren’t going...</td>\n",
       "      <td>suicidewatch</td>\n",
       "    </tr>\n",
       "    <tr>\n",
       "      <th>39</th>\n",
       "      <td>22499</td>\n",
       "      <td>suicidewatch</td>\n",
       "      <td>1635141016</td>\n",
       "      <td>There are limitless options for you including ...</td>\n",
       "      <td>suicidewatch</td>\n",
       "    </tr>\n",
       "    <tr>\n",
       "      <th>...</th>\n",
       "      <td>...</td>\n",
       "      <td>...</td>\n",
       "      <td>...</td>\n",
       "      <td>...</td>\n",
       "      <td>...</td>\n",
       "    </tr>\n",
       "    <tr>\n",
       "      <th>21254</th>\n",
       "      <td>1139353</td>\n",
       "      <td>byebyejob</td>\n",
       "      <td>1632172688</td>\n",
       "      <td>At this point, I think the risk of an adverse ...</td>\n",
       "      <td>control</td>\n",
       "    </tr>\n",
       "    <tr>\n",
       "      <th>24720</th>\n",
       "      <td>16527116</td>\n",
       "      <td>videos</td>\n",
       "      <td>1587401459</td>\n",
       "      <td>I get paid exactly the same and we've had at l...</td>\n",
       "      <td>control</td>\n",
       "    </tr>\n",
       "    <tr>\n",
       "      <th>44133</th>\n",
       "      <td>14740645</td>\n",
       "      <td>askreddit</td>\n",
       "      <td>1593742861</td>\n",
       "      <td>I'm really getting tired of doing research for...</td>\n",
       "      <td>control</td>\n",
       "    </tr>\n",
       "    <tr>\n",
       "      <th>44855</th>\n",
       "      <td>17668605</td>\n",
       "      <td>melbourne</td>\n",
       "      <td>1583911901</td>\n",
       "      <td>Everything you just quoted refers to static, i...</td>\n",
       "      <td>control</td>\n",
       "    </tr>\n",
       "    <tr>\n",
       "      <th>26052</th>\n",
       "      <td>10976954</td>\n",
       "      <td>mildlyinfuriating</td>\n",
       "      <td>1605020859</td>\n",
       "      <td>My area is the funny in-between land where COV...</td>\n",
       "      <td>control</td>\n",
       "    </tr>\n",
       "  </tbody>\n",
       "</table>\n",
       "<p>8098 rows × 5 columns</p>\n",
       "</div>"
      ],
      "text/plain": [
       "       Unnamed: 0     subreddit.name  created_utc  \\\n",
       "16           9252       suicidewatch   1635184847   \n",
       "33          18264       suicidewatch   1635161963   \n",
       "36          21384       suicidewatch   1635146582   \n",
       "38          22331       suicidewatch   1635141823   \n",
       "39          22499       suicidewatch   1635141016   \n",
       "...           ...                ...          ...   \n",
       "21254     1139353          byebyejob   1632172688   \n",
       "24720    16527116             videos   1587401459   \n",
       "44133    14740645          askreddit   1593742861   \n",
       "44855    17668605          melbourne   1583911901   \n",
       "26052    10976954  mildlyinfuriating   1605020859   \n",
       "\n",
       "                                                    body     sentiment  \n",
       "16     I am sorry to hear this. I also kind of blame ...  suicidewatch  \n",
       "33     Yeah, the way things are, the COVID age, it fu...  suicidewatch  \n",
       "36     When its your final exams you'll right it can....  suicidewatch  \n",
       "38     U sound worn out. A few bad exams aren’t going...  suicidewatch  \n",
       "39     There are limitless options for you including ...  suicidewatch  \n",
       "...                                                  ...           ...  \n",
       "21254  At this point, I think the risk of an adverse ...       control  \n",
       "24720  I get paid exactly the same and we've had at l...       control  \n",
       "44133  I'm really getting tired of doing research for...       control  \n",
       "44855  Everything you just quoted refers to static, i...       control  \n",
       "26052  My area is the funny in-between land where COV...       control  \n",
       "\n",
       "[8098 rows x 5 columns]"
      ]
     },
     "execution_count": 51,
     "metadata": {},
     "output_type": "execute_result"
    }
   ],
   "source": [
    "SuicideWatch_dataset = pd.concat([SuicideWatch_sample, SuicideWatch_control])\n",
    "SuicideWatch_dataset"
   ]
  },
  {
   "cell_type": "code",
   "execution_count": 52,
   "id": "782c19dd",
   "metadata": {},
   "outputs": [
    {
     "name": "stdout",
     "output_type": "stream",
     "text": [
      "Train Data size: 6478\n",
      "Test Data size 1620\n"
     ]
    }
   ],
   "source": [
    " # Splits Dataset into Training and Testing set\n",
    "train_size = 0.8\n",
    "train_data, test_data = train_test_split(SuicideWatch_dataset, test_size=1-train_size, random_state=42, shuffle=True)\n",
    "print(\"Train Data size:\", len(train_data))\n",
    "print(\"Test Data size\", len(test_data))"
   ]
  },
  {
   "cell_type": "code",
   "execution_count": 53,
   "id": "89fc7373",
   "metadata": {},
   "outputs": [],
   "source": [
    "vectorizer = TfidfVectorizer(max_features=14000,\n",
    "                             min_df = 5,\n",
    "                             max_df = 0.8,\n",
    "                             sublinear_tf = True,\n",
    "                             use_idf = True)\n",
    "vectorizer.fit(train_data.body.to_list())\n",
    "x_train = vectorizer.transform(train_data.body.to_list())\n",
    "x_test = vectorizer.transform(test_data.body.to_list())"
   ]
  },
  {
   "cell_type": "code",
   "execution_count": 54,
   "id": "9e7b7543",
   "metadata": {},
   "outputs": [
    {
     "name": "stdout",
     "output_type": "stream",
     "text": [
      "x_train Shape: (6478, 6085)\n",
      "x_test Shape: (1620, 6085)\n"
     ]
    }
   ],
   "source": [
    "print(\"x_train Shape:\",x_train.shape)\n",
    "print(\"x_test Shape:\",x_test.shape)"
   ]
  },
  {
   "cell_type": "code",
   "execution_count": 55,
   "id": "4711dbec",
   "metadata": {},
   "outputs": [
    {
     "name": "stdout",
     "output_type": "stream",
     "text": [
      "y_train shape: (6478, 1)\n",
      "y_test shape: (1620, 1)\n"
     ]
    }
   ],
   "source": [
    "encoder = LabelEncoder() #https://scikit-learn.org/stable/modules/generated/sklearn.preprocessing.LabelEncoder.html\n",
    "encoder.fit(train_data.sentiment.to_list())\n",
    "\n",
    "y_train = encoder.transform(train_data.sentiment.to_list())\n",
    "y_test = encoder.transform(test_data.sentiment.to_list())\n",
    "\n",
    "y_train = y_train.reshape(-1,1)\n",
    "y_test = y_test.reshape(-1,1)\n",
    "\n",
    "print(\"y_train shape:\", y_train.shape)\n",
    "print(\"y_test shape:\", y_test.shape)"
   ]
  },
  {
   "cell_type": "code",
   "execution_count": 56,
   "id": "b7c18437",
   "metadata": {},
   "outputs": [
    {
     "name": "stdout",
     "output_type": "stream",
     "text": [
      "Training time: 8.674118s; Prediction time: 1.932333s\n",
      "Accuracy: 0.8716049382716049\n",
      "control:  {'precision': 0.8534798534798534, 'recall': 0.8881829733163914, 'f1-score': 0.8704856787048567, 'support': 787}\n",
      "depression:  {'precision': 0.8901373283395755, 'recall': 0.8559423769507803, 'f1-score': 0.8727050183598531, 'support': 833}\n"
     ]
    }
   ],
   "source": [
    "# Perform classification with SVM, kernel=linear\n",
    "suicidewatch_classifier = svm.SVC(kernel='linear')\n",
    "t0 = time.time()\n",
    "suicidewatch_classifier.fit(x_train, y_train.ravel())\n",
    "t1 = time.time()\n",
    "prediction_linear = suicidewatch_classifier.predict(x_test)\n",
    "t2 = time.time()\n",
    "time_linear_train = t1-t0\n",
    "time_linear_predict = t2-t1\n",
    "\n",
    "labels = [0.0, 1.0]\n",
    "target_names = ['control', 'suicidewatch']\n",
    "\n",
    "# results\n",
    "print(\"Training time: %fs; Prediction time: %fs\" % (time_linear_train, time_linear_predict))\n",
    "\n",
    "report = classification_report(y_test, prediction_linear, labels = labels, target_names = target_names, output_dict=True)\n",
    "\n",
    "print(\"Accuracy:\", metrics.accuracy_score(y_test, prediction_linear))\n",
    "\n",
    "print('control: ', report['control'])\n",
    "print('suicidewatch: ', report['suicidewatch'])"
   ]
  },
  {
   "cell_type": "markdown",
   "id": "b1ab769b",
   "metadata": {},
   "source": [
    "### COVID19_support SVM"
   ]
  },
  {
   "cell_type": "code",
   "execution_count": 57,
   "id": "2b5f9492",
   "metadata": {},
   "outputs": [],
   "source": [
    "drop_list = []\n",
    "for a in range(45884):\n",
    "    if df.at[a, 'subreddit.name'] != 'covid19_support':\n",
    "        drop_list.append(a)"
   ]
  },
  {
   "cell_type": "code",
   "execution_count": 58,
   "id": "a11c4886",
   "metadata": {},
   "outputs": [
    {
     "data": {
      "text/html": [
       "<div>\n",
       "<style scoped>\n",
       "    .dataframe tbody tr th:only-of-type {\n",
       "        vertical-align: middle;\n",
       "    }\n",
       "\n",
       "    .dataframe tbody tr th {\n",
       "        vertical-align: top;\n",
       "    }\n",
       "\n",
       "    .dataframe thead th {\n",
       "        text-align: right;\n",
       "    }\n",
       "</style>\n",
       "<table border=\"1\" class=\"dataframe\">\n",
       "  <thead>\n",
       "    <tr style=\"text-align: right;\">\n",
       "      <th></th>\n",
       "      <th>Unnamed: 0</th>\n",
       "      <th>subreddit.name</th>\n",
       "      <th>created_utc</th>\n",
       "      <th>body</th>\n",
       "      <th>sentiment</th>\n",
       "    </tr>\n",
       "  </thead>\n",
       "  <tbody>\n",
       "    <tr>\n",
       "      <th>0</th>\n",
       "      <td>963</td>\n",
       "      <td>covid19_support</td>\n",
       "      <td>1635203992</td>\n",
       "      <td>This. Plus remember the poster in here a few w...</td>\n",
       "      <td>-0.6652</td>\n",
       "    </tr>\n",
       "    <tr>\n",
       "      <th>3</th>\n",
       "      <td>1403</td>\n",
       "      <td>covid19_support</td>\n",
       "      <td>1635202948</td>\n",
       "      <td>My friend will be so relieved she didn't actua...</td>\n",
       "      <td>0.7626</td>\n",
       "    </tr>\n",
       "    <tr>\n",
       "      <th>5</th>\n",
       "      <td>4886</td>\n",
       "      <td>covid19_support</td>\n",
       "      <td>1635194581</td>\n",
       "      <td>This is a good overview article:\\n\\nhttps://ww...</td>\n",
       "      <td>0.4404</td>\n",
       "    </tr>\n",
       "    <tr>\n",
       "      <th>10</th>\n",
       "      <td>6751</td>\n",
       "      <td>covid19_support</td>\n",
       "      <td>1635190382</td>\n",
       "      <td>I’m wondering this too. Held off on the vaccin...</td>\n",
       "      <td>0.5122</td>\n",
       "    </tr>\n",
       "    <tr>\n",
       "      <th>11</th>\n",
       "      <td>6861</td>\n",
       "      <td>covid19_support</td>\n",
       "      <td>1635190117</td>\n",
       "      <td>Hi there - hope you are on the mend soon!!\\n\\n...</td>\n",
       "      <td>-0.8652</td>\n",
       "    </tr>\n",
       "    <tr>\n",
       "      <th>...</th>\n",
       "      <td>...</td>\n",
       "      <td>...</td>\n",
       "      <td>...</td>\n",
       "      <td>...</td>\n",
       "      <td>...</td>\n",
       "    </tr>\n",
       "    <tr>\n",
       "      <th>45759</th>\n",
       "      <td>17760404</td>\n",
       "      <td>covid19_support</td>\n",
       "      <td>1582754661</td>\n",
       "      <td>I am crying, thank you so much for the kind an...</td>\n",
       "      <td>0.9465</td>\n",
       "    </tr>\n",
       "    <tr>\n",
       "      <th>45789</th>\n",
       "      <td>17767975</td>\n",
       "      <td>covid19_support</td>\n",
       "      <td>1582448772</td>\n",
       "      <td>You're going to be fine. It's highly unlikely ...</td>\n",
       "      <td>0.6369</td>\n",
       "    </tr>\n",
       "    <tr>\n",
       "      <th>45833</th>\n",
       "      <td>17772941</td>\n",
       "      <td>covid19_support</td>\n",
       "      <td>1581974557</td>\n",
       "      <td>No worries, I'm pretty busy myself. Mostly wit...</td>\n",
       "      <td>0.6738</td>\n",
       "    </tr>\n",
       "    <tr>\n",
       "      <th>45849</th>\n",
       "      <td>17773901</td>\n",
       "      <td>covid19_support</td>\n",
       "      <td>1581865627</td>\n",
       "      <td>https://www.xjtlu.edu.cn/en/news/2020/02/mode...</td>\n",
       "      <td>0.1868</td>\n",
       "    </tr>\n",
       "    <tr>\n",
       "      <th>45850</th>\n",
       "      <td>17773902</td>\n",
       "      <td>covid19_support</td>\n",
       "      <td>1581865600</td>\n",
       "      <td>[https://www.xjtlu.edu.cn/en/news/2020/02/mode...</td>\n",
       "      <td>0.1868</td>\n",
       "    </tr>\n",
       "  </tbody>\n",
       "</table>\n",
       "<p>15968 rows × 5 columns</p>\n",
       "</div>"
      ],
      "text/plain": [
       "       Unnamed: 0   subreddit.name  created_utc  \\\n",
       "0             963  covid19_support   1635203992   \n",
       "3            1403  covid19_support   1635202948   \n",
       "5            4886  covid19_support   1635194581   \n",
       "10           6751  covid19_support   1635190382   \n",
       "11           6861  covid19_support   1635190117   \n",
       "...           ...              ...          ...   \n",
       "45759    17760404  covid19_support   1582754661   \n",
       "45789    17767975  covid19_support   1582448772   \n",
       "45833    17772941  covid19_support   1581974557   \n",
       "45849    17773901  covid19_support   1581865627   \n",
       "45850    17773902  covid19_support   1581865600   \n",
       "\n",
       "                                                    body  sentiment  \n",
       "0      This. Plus remember the poster in here a few w...    -0.6652  \n",
       "3      My friend will be so relieved she didn't actua...     0.7626  \n",
       "5      This is a good overview article:\\n\\nhttps://ww...     0.4404  \n",
       "10     I’m wondering this too. Held off on the vaccin...     0.5122  \n",
       "11     Hi there - hope you are on the mend soon!!\\n\\n...    -0.8652  \n",
       "...                                                  ...        ...  \n",
       "45759  I am crying, thank you so much for the kind an...     0.9465  \n",
       "45789  You're going to be fine. It's highly unlikely ...     0.6369  \n",
       "45833  No worries, I'm pretty busy myself. Mostly wit...     0.6738  \n",
       "45849   https://www.xjtlu.edu.cn/en/news/2020/02/mode...     0.1868  \n",
       "45850  [https://www.xjtlu.edu.cn/en/news/2020/02/mode...     0.1868  \n",
       "\n",
       "[15968 rows x 5 columns]"
      ]
     },
     "execution_count": 58,
     "metadata": {},
     "output_type": "execute_result"
    }
   ],
   "source": [
    "COVID19_support_sample = df.drop(drop_list, axis = 0)\n",
    "COVID19_support_sample"
   ]
  },
  {
   "cell_type": "code",
   "execution_count": 59,
   "id": "b92946dc",
   "metadata": {},
   "outputs": [],
   "source": [
    "for sentiment in COVID19_support_sample['sentiment']:\n",
    "    COVID19_support_sample['sentiment'].replace({sentiment : 'covid19_support'}, inplace=True)"
   ]
  },
  {
   "cell_type": "code",
   "execution_count": 60,
   "id": "60c2c48a",
   "metadata": {},
   "outputs": [],
   "source": [
    "COVID19_support_control = control_dataset.sample(15968)"
   ]
  },
  {
   "cell_type": "code",
   "execution_count": 61,
   "id": "31207285",
   "metadata": {},
   "outputs": [],
   "source": [
    "for sentiment in COVID19_support_control['sentiment']:\n",
    "    COVID19_support_control['sentiment'].replace({sentiment : 'control'}, inplace=True)"
   ]
  },
  {
   "cell_type": "code",
   "execution_count": 62,
   "id": "646b33c1",
   "metadata": {},
   "outputs": [
    {
     "data": {
      "text/html": [
       "<div>\n",
       "<style scoped>\n",
       "    .dataframe tbody tr th:only-of-type {\n",
       "        vertical-align: middle;\n",
       "    }\n",
       "\n",
       "    .dataframe tbody tr th {\n",
       "        vertical-align: top;\n",
       "    }\n",
       "\n",
       "    .dataframe thead th {\n",
       "        text-align: right;\n",
       "    }\n",
       "</style>\n",
       "<table border=\"1\" class=\"dataframe\">\n",
       "  <thead>\n",
       "    <tr style=\"text-align: right;\">\n",
       "      <th></th>\n",
       "      <th>Unnamed: 0</th>\n",
       "      <th>subreddit.name</th>\n",
       "      <th>created_utc</th>\n",
       "      <th>body</th>\n",
       "      <th>sentiment</th>\n",
       "    </tr>\n",
       "  </thead>\n",
       "  <tbody>\n",
       "    <tr>\n",
       "      <th>0</th>\n",
       "      <td>963</td>\n",
       "      <td>covid19_support</td>\n",
       "      <td>1635203992</td>\n",
       "      <td>This. Plus remember the poster in here a few w...</td>\n",
       "      <td>covid19_support</td>\n",
       "    </tr>\n",
       "    <tr>\n",
       "      <th>3</th>\n",
       "      <td>1403</td>\n",
       "      <td>covid19_support</td>\n",
       "      <td>1635202948</td>\n",
       "      <td>My friend will be so relieved she didn't actua...</td>\n",
       "      <td>covid19_support</td>\n",
       "    </tr>\n",
       "    <tr>\n",
       "      <th>5</th>\n",
       "      <td>4886</td>\n",
       "      <td>covid19_support</td>\n",
       "      <td>1635194581</td>\n",
       "      <td>This is a good overview article:\\n\\nhttps://ww...</td>\n",
       "      <td>covid19_support</td>\n",
       "    </tr>\n",
       "    <tr>\n",
       "      <th>10</th>\n",
       "      <td>6751</td>\n",
       "      <td>covid19_support</td>\n",
       "      <td>1635190382</td>\n",
       "      <td>I’m wondering this too. Held off on the vaccin...</td>\n",
       "      <td>covid19_support</td>\n",
       "    </tr>\n",
       "    <tr>\n",
       "      <th>11</th>\n",
       "      <td>6861</td>\n",
       "      <td>covid19_support</td>\n",
       "      <td>1635190117</td>\n",
       "      <td>Hi there - hope you are on the mend soon!!\\n\\n...</td>\n",
       "      <td>covid19_support</td>\n",
       "    </tr>\n",
       "    <tr>\n",
       "      <th>...</th>\n",
       "      <td>...</td>\n",
       "      <td>...</td>\n",
       "      <td>...</td>\n",
       "      <td>...</td>\n",
       "      <td>...</td>\n",
       "    </tr>\n",
       "    <tr>\n",
       "      <th>11070</th>\n",
       "      <td>4599641</td>\n",
       "      <td>libertarian</td>\n",
       "      <td>1624021510</td>\n",
       "      <td>&amp;gt; Because Trump is not racist.\\n\\n[Except f...</td>\n",
       "      <td>control</td>\n",
       "    </tr>\n",
       "    <tr>\n",
       "      <th>27711</th>\n",
       "      <td>15645944</td>\n",
       "      <td>samharris</td>\n",
       "      <td>1590446712</td>\n",
       "      <td>Ahh yes...\\n\\nYou are truly a discerning consu...</td>\n",
       "      <td>control</td>\n",
       "    </tr>\n",
       "    <tr>\n",
       "      <th>4143</th>\n",
       "      <td>17403592</td>\n",
       "      <td>millionairemakers</td>\n",
       "      <td>1584778048</td>\n",
       "      <td>Hopefully this helps one of us through the cov...</td>\n",
       "      <td>control</td>\n",
       "    </tr>\n",
       "    <tr>\n",
       "      <th>22196</th>\n",
       "      <td>10465119</td>\n",
       "      <td>millwrights</td>\n",
       "      <td>1606289599</td>\n",
       "      <td>agreed noone should be harassed and if said ha...</td>\n",
       "      <td>control</td>\n",
       "    </tr>\n",
       "    <tr>\n",
       "      <th>8163</th>\n",
       "      <td>16088732</td>\n",
       "      <td>murderedbywords</td>\n",
       "      <td>1588877641</td>\n",
       "      <td>My partner's mother was on the phone complaini...</td>\n",
       "      <td>control</td>\n",
       "    </tr>\n",
       "  </tbody>\n",
       "</table>\n",
       "<p>31936 rows × 5 columns</p>\n",
       "</div>"
      ],
      "text/plain": [
       "       Unnamed: 0     subreddit.name  created_utc  \\\n",
       "0             963    covid19_support   1635203992   \n",
       "3            1403    covid19_support   1635202948   \n",
       "5            4886    covid19_support   1635194581   \n",
       "10           6751    covid19_support   1635190382   \n",
       "11           6861    covid19_support   1635190117   \n",
       "...           ...                ...          ...   \n",
       "11070     4599641        libertarian   1624021510   \n",
       "27711    15645944          samharris   1590446712   \n",
       "4143     17403592  millionairemakers   1584778048   \n",
       "22196    10465119        millwrights   1606289599   \n",
       "8163     16088732    murderedbywords   1588877641   \n",
       "\n",
       "                                                    body        sentiment  \n",
       "0      This. Plus remember the poster in here a few w...  covid19_support  \n",
       "3      My friend will be so relieved she didn't actua...  covid19_support  \n",
       "5      This is a good overview article:\\n\\nhttps://ww...  covid19_support  \n",
       "10     I’m wondering this too. Held off on the vaccin...  covid19_support  \n",
       "11     Hi there - hope you are on the mend soon!!\\n\\n...  covid19_support  \n",
       "...                                                  ...              ...  \n",
       "11070  &gt; Because Trump is not racist.\\n\\n[Except f...          control  \n",
       "27711  Ahh yes...\\n\\nYou are truly a discerning consu...          control  \n",
       "4143   Hopefully this helps one of us through the cov...          control  \n",
       "22196  agreed noone should be harassed and if said ha...          control  \n",
       "8163   My partner's mother was on the phone complaini...          control  \n",
       "\n",
       "[31936 rows x 5 columns]"
      ]
     },
     "execution_count": 62,
     "metadata": {},
     "output_type": "execute_result"
    }
   ],
   "source": [
    "COVID19_support_dataset = pd.concat([COVID19_support_sample, COVID19_support_control])\n",
    "COVID19_support_dataset"
   ]
  },
  {
   "cell_type": "code",
   "execution_count": 63,
   "id": "ac38b00f",
   "metadata": {},
   "outputs": [
    {
     "name": "stdout",
     "output_type": "stream",
     "text": [
      "Train Data size: 25548\n",
      "Test Data size 6388\n"
     ]
    }
   ],
   "source": [
    " # Splits Dataset into Training and Testing set\n",
    "train_size = 0.8\n",
    "train_data, test_data = train_test_split(COVID19_support_dataset, test_size=1-train_size, random_state=42, shuffle=True)\n",
    "print(\"Train Data size:\", len(train_data))\n",
    "print(\"Test Data size\", len(test_data))"
   ]
  },
  {
   "cell_type": "code",
   "execution_count": 64,
   "id": "b1444eba",
   "metadata": {},
   "outputs": [],
   "source": [
    "vectorizer = TfidfVectorizer(max_features=14000,\n",
    "                             min_df = 5,\n",
    "                             max_df = 0.8,\n",
    "                             sublinear_tf = True,\n",
    "                             use_idf = True)\n",
    "vectorizer.fit(train_data.body.to_list())\n",
    "x_train = vectorizer.transform(train_data.body.to_list())\n",
    "x_test = vectorizer.transform(test_data.body.to_list())"
   ]
  },
  {
   "cell_type": "code",
   "execution_count": 65,
   "id": "8986d207",
   "metadata": {},
   "outputs": [
    {
     "name": "stdout",
     "output_type": "stream",
     "text": [
      "x_train Shape: (25548, 14000)\n",
      "x_test Shape: (6388, 14000)\n"
     ]
    }
   ],
   "source": [
    "print(\"x_train Shape:\",x_train.shape)\n",
    "print(\"x_test Shape:\",x_test.shape)"
   ]
  },
  {
   "cell_type": "code",
   "execution_count": 66,
   "id": "e7d65970",
   "metadata": {},
   "outputs": [
    {
     "name": "stdout",
     "output_type": "stream",
     "text": [
      "y_train shape: (25548, 1)\n",
      "y_test shape: (6388, 1)\n"
     ]
    }
   ],
   "source": [
    "encoder = LabelEncoder() #https://scikit-learn.org/stable/modules/generated/sklearn.preprocessing.LabelEncoder.html\n",
    "encoder.fit(train_data.sentiment.to_list())\n",
    "\n",
    "y_train = encoder.transform(train_data.sentiment.to_list())\n",
    "y_test = encoder.transform(test_data.sentiment.to_list())\n",
    "\n",
    "y_train = y_train.reshape(-1,1)\n",
    "y_test = y_test.reshape(-1,1)\n",
    "\n",
    "print(\"y_train shape:\", y_train.shape)\n",
    "print(\"y_test shape:\", y_test.shape)"
   ]
  },
  {
   "cell_type": "code",
   "execution_count": 67,
   "id": "8fceb95c",
   "metadata": {},
   "outputs": [
    {
     "name": "stdout",
     "output_type": "stream",
     "text": [
      "Training time: 373.116922s; Prediction time: 43.850811s\n",
      "Accuracy: 0.7988415779586725\n",
      "control:  {'precision': 0.7874727329386102, 'recall': 0.8073482428115016, 'f1-score': 0.7972866382710208, 'support': 3130}\n",
      "depression:  {'precision': 0.8103177099716892, 'recall': 0.7906691221608348, 'f1-score': 0.8003728444927761, 'support': 3258}\n"
     ]
    }
   ],
   "source": [
    "# Perform classification with SVM, kernel=linear\n",
    "covid19_support_classifier = svm.SVC(kernel='linear')\n",
    "t0 = time.time()\n",
    "covid19_support_classifier.fit(x_train, y_train.ravel())\n",
    "t1 = time.time()\n",
    "prediction_linear = covid19_support_classifier.predict(x_test)\n",
    "t2 = time.time()\n",
    "time_linear_train = t1-t0\n",
    "time_linear_predict = t2-t1\n",
    "\n",
    "labels = [0.0, 1.0]\n",
    "target_names = ['control', 'scovid19_support']\n",
    "\n",
    "# results\n",
    "print(\"Training time: %fs; Prediction time: %fs\" % (time_linear_train, time_linear_predict))\n",
    "\n",
    "report = classification_report(y_test, prediction_linear, labels = labels, target_names = target_names, output_dict=True)\n",
    "\n",
    "print(\"Accuracy:\", metrics.accuracy_score(y_test, prediction_linear))\n",
    "\n",
    "print('control: ', report['control'])\n",
    "print('covid19_support: ', report['covid19_support'])"
   ]
  },
  {
   "cell_type": "markdown",
   "id": "2aec85d3",
   "metadata": {},
   "source": [
    "## Binary Classification Feature Importance"
   ]
  },
  {
   "cell_type": "code",
   "execution_count": 68,
   "id": "77fb471c",
   "metadata": {},
   "outputs": [
    {
     "data": {
      "image/png": "[encoded data removed]",
      "text/plain": [
       "<Figure size 432x288 with 1 Axes>"
      ]
     },
     "metadata": {
      "needs_background": "light"
     },
     "output_type": "display_data"
    }
   ],
   "source": [
    "def f_importances(coef, names):\n",
    "    imp = coef\n",
    "    imp,names = zip(*sorted(zip(imp,names)))\n",
    "    plt.barh(range(len(names)), imp, align='center')\n",
    "    plt.yticks(range(len(names)), names)\n",
    "    plt.show()\n",
    "\n",
    "features_names = ['corona', \n",
    "                  'virus', \n",
    "                  'viral', \n",
    "                  'covid', \n",
    "                  'influenza', \n",
    "                  'pandemic', \n",
    "                  'epidemic', \n",
    "                  'quarantine', \n",
    "                  'lockdown',\n",
    "                  'distancing', \n",
    "                  'national emergency', \n",
    "                  'flatten', \n",
    "                  'infect', \n",
    "                  'ventilator', \n",
    "                  'mask', \n",
    "                  'symptomatic', \n",
    "                  'immune', \n",
    "                  'incubation', \n",
    "                  'transmission', \n",
    "                  'vaccine',\n",
    "                  'confirmed case',\n",
    "                  'coronavirus',\n",
    "                  'covid-19',\n",
    "                  'outbreak',\n",
    "                  'ppe',\n",
    "                  'isolation'\n",
    "                  'social distancing' ]\n",
    "f_importances(anxiety_classifier.coef_.toarray()[0], features_names)"
   ]
  },
  {
   "cell_type": "code",
   "execution_count": 69,
   "id": "24608e9b",
   "metadata": {},
   "outputs": [
    {
     "data": {
      "image/png": "[encoded data removed]",
      "text/plain": [
       "<Figure size 432x288 with 1 Axes>"
      ]
     },
     "metadata": {
      "needs_background": "light"
     },
     "output_type": "display_data"
    }
   ],
   "source": [
    "f_importances(depression_classifier.coef_.toarray()[0], features_names)"
   ]
  },
  {
   "cell_type": "code",
   "execution_count": 70,
   "id": "06aed65a",
   "metadata": {},
   "outputs": [
    {
     "data": {
      "image/png": "[encoded data removed]",
      "text/plain": [
       "<Figure size 432x288 with 1 Axes>"
      ]
     },
     "metadata": {
      "needs_background": "light"
     },
     "output_type": "display_data"
    }
   ],
   "source": [
    "f_importances(mentalhealth_classifier.coef_.toarray()[0], features_names)"
   ]
  },
  {
   "cell_type": "code",
   "execution_count": 71,
   "id": "e419e39b",
   "metadata": {},
   "outputs": [
    {
     "data": {
      "image/png": "[encoded data removed]",
      "text/plain": [
       "<Figure size 432x288 with 1 Axes>"
      ]
     },
     "metadata": {
      "needs_background": "light"
     },
     "output_type": "display_data"
    }
   ],
   "source": [
    "f_importances(suicidewatch_classifier.coef_.toarray()[0], features_names)"
   ]
  },
  {
   "cell_type": "code",
   "execution_count": 72,
   "id": "8754d43a",
   "metadata": {},
   "outputs": [
    {
     "data": {
      "image/png": "[encoded data removed]",
      "text/plain": [
       "<Figure size 432x288 with 1 Axes>"
      ]
     },
     "metadata": {
      "needs_background": "light"
     },
     "output_type": "display_data"
    }
   ],
   "source": [
    "f_importances(covid19_support_classifier.coef_.toarray()[0], features_names)"
   ]
  },
  {
   "cell_type": "code",
   "execution_count": 78,
   "id": "9a134572",
   "metadata": {},
   "outputs": [],
   "source": [
    "from sklearn.feature_extraction.text import CountVectorizer\n",
    "from sklearn.svm import LinearSVC"
   ]
  },
  {
   "cell_type": "code",
   "execution_count": 79,
   "id": "1268c6f4",
   "metadata": {},
   "outputs": [
    {
     "name": "stdout",
     "output_type": "stream",
     "text": [
      "60914\n"
     ]
    },
    {
     "name": "stderr",
     "output_type": "stream",
     "text": [
      "/Users/justinchen/opt/anaconda3/lib/python3.8/site-packages/sklearn/utils/validation.py:993: DataConversionWarning: A column-vector y was passed when a 1d array was expected. Please change the shape of y to (n_samples, ), for example using ravel().\n",
      "  y = column_or_1d(y, warn=True)\n",
      "/Users/justinchen/opt/anaconda3/lib/python3.8/site-packages/sklearn/utils/deprecation.py:87: FutureWarning: Function get_feature_names is deprecated; get_feature_names is deprecated in 1.0 and will be removed in 1.2. Please use get_feature_names_out instead.\n",
      "  warnings.warn(msg, category=FutureWarning)\n"
     ]
    },
    {
     "data": {
      "image/png": "[encoded data removed]",
      "text/plain": [
       "<Figure size 1080x360 with 1 Axes>"
      ]
     },
     "metadata": {
      "needs_background": "light"
     },
     "output_type": "display_data"
    }
   ],
   "source": [
    "def plot_coefficients(classifier, feature_names, top_features=30):\n",
    "    coef = classifier.coef_.ravel()\n",
    "    top_positive_coefficients = np.argsort(coef)[-top_features:]\n",
    "    top_negative_coefficients = np.argsort(coef)[:top_features]\n",
    "    top_coefficients = np.hstack([top_negative_coefficients, top_positive_coefficients])\n",
    "    # create plot\n",
    "    plt.figure(figsize=(15, 5))\n",
    "    colors = ['red' if c < 0 else 'blue' for c in coef[top_coefficients]]\n",
    "    plt.bar(np.arange(2 * top_features), coef[top_coefficients], color=colors)\n",
    "    feature_names = np.array(feature_names)\n",
    "    plt.xticks(np.arange(1, 1 + 2 * top_features), feature_names[top_coefficients], rotation=60, ha='right')\n",
    "    plt.show()\n",
    "    \n",
    "cv = CountVectorizer(stop_words = 'english')\n",
    "cv.fit(train_data.body.to_list())\n",
    "print (len(cv.vocabulary_))\n",
    "\n",
    "svm = LinearSVC()\n",
    "svm.fit(x_train, y_train)\n",
    "\n",
    "plot_coefficients(svm, cv.get_feature_names())"
   ]
  }
 ],
 "metadata": {
  "kernelspec": {
   "display_name": "Python 3 (ipykernel)",
   "language": "python",
   "name": "python3"
  },
  "language_info": {
   "codemirror_mode": {
    "name": "ipython",
    "version": 3
   },
   "file_extension": ".py",
   "mimetype": "text/x-python",
   "name": "python",
   "nbconvert_exporter": "python",
   "pygments_lexer": "ipython3",
   "version": "3.8.2"
  }
 },
 "nbformat": 4,
 "nbformat_minor": 5
}
