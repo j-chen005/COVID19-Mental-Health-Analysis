{
 "cells": [
  {
   "cell_type": "code",
   "execution_count": 1,
   "metadata": {},
   "outputs": [
    {
     "name": "stderr",
     "output_type": "stream",
     "text": [
      "[nltk_data] Downloading package stopwords to\n",
      "[nltk_data]     /Users/justinchen/nltk_data...\n",
      "[nltk_data]   Package stopwords is already up-to-date!\n"
     ]
    }
   ],
   "source": [
    "import pandas as pd\n",
    "from collections import Counter\n",
    "import numpy as np\n",
    "import math\n",
    "import nltk\n",
    "nltk.download('stopwords')\n",
    "from nltk.corpus import stopwords\n",
    "from nltk.stem import SnowballStemmer\n",
    "%matplotlib inline\n",
    "import matplotlib.pyplot as plt"
   ]
  },
  {
   "cell_type": "code",
   "execution_count": 3,
   "metadata": {},
   "outputs": [],
   "source": [
    "dataset = pd.read_csv('/Users/justinchen/Desktop/AARD Datasets/mental_health_subreddits_dataset.csv')"
   ]
  },
  {
   "cell_type": "code",
   "execution_count": 97,
   "metadata": {},
   "outputs": [
    {
     "data": {
      "text/html": [
       "<div>\n",
       "<style scoped>\n",
       "    .dataframe tbody tr th:only-of-type {\n",
       "        vertical-align: middle;\n",
       "    }\n",
       "\n",
       "    .dataframe tbody tr th {\n",
       "        vertical-align: top;\n",
       "    }\n",
       "\n",
       "    .dataframe thead th {\n",
       "        text-align: right;\n",
       "    }\n",
       "</style>\n",
       "<table border=\"1\" class=\"dataframe\">\n",
       "  <thead>\n",
       "    <tr style=\"text-align: right;\">\n",
       "      <th></th>\n",
       "      <th>Unnamed: 0</th>\n",
       "      <th>subreddit.name</th>\n",
       "      <th>created_utc</th>\n",
       "      <th>body</th>\n",
       "      <th>sentiment</th>\n",
       "    </tr>\n",
       "  </thead>\n",
       "  <tbody>\n",
       "    <tr>\n",
       "      <th>34724</th>\n",
       "      <td>14656403</td>\n",
       "      <td>anxiety</td>\n",
       "      <td>1594040602</td>\n",
       "      <td>This Could Be the Coronavirus' \"Achilles Heel,...</td>\n",
       "      <td>0.9119</td>\n",
       "    </tr>\n",
       "    <tr>\n",
       "      <th>38385</th>\n",
       "      <td>15621798</td>\n",
       "      <td>anxiety</td>\n",
       "      <td>1590530784</td>\n",
       "      <td>It looks like you've mentioned COVID-19 in you...</td>\n",
       "      <td>0.8434</td>\n",
       "    </tr>\n",
       "    <tr>\n",
       "      <th>7577</th>\n",
       "      <td>4569307</td>\n",
       "      <td>anxiety</td>\n",
       "      <td>1624138728</td>\n",
       "      <td>That is awesome! I am happy for you. \\n\\nFor m...</td>\n",
       "      <td>0.9697</td>\n",
       "    </tr>\n",
       "    <tr>\n",
       "      <th>41715</th>\n",
       "      <td>16483616</td>\n",
       "      <td>anxiety</td>\n",
       "      <td>1587532059</td>\n",
       "      <td>It looks like you've mentioned COVID-19 in you...</td>\n",
       "      <td>0.8434</td>\n",
       "    </tr>\n",
       "    <tr>\n",
       "      <th>29422</th>\n",
       "      <td>13175345</td>\n",
       "      <td>suicidewatch</td>\n",
       "      <td>1598294613</td>\n",
       "      <td>Might have the covid foo drink alot of water. ...</td>\n",
       "      <td>0.4404</td>\n",
       "    </tr>\n",
       "  </tbody>\n",
       "</table>\n",
       "</div>"
      ],
      "text/plain": [
       "       Unnamed: 0 subreddit.name  created_utc  \\\n",
       "34724    14656403        anxiety   1594040602   \n",
       "38385    15621798        anxiety   1590530784   \n",
       "7577      4569307        anxiety   1624138728   \n",
       "41715    16483616        anxiety   1587532059   \n",
       "29422    13175345   suicidewatch   1598294613   \n",
       "\n",
       "                                                    body  sentiment  \n",
       "34724  This Could Be the Coronavirus' \"Achilles Heel,...     0.9119  \n",
       "38385  It looks like you've mentioned COVID-19 in you...     0.8434  \n",
       "7577   That is awesome! I am happy for you. \\n\\nFor m...     0.9697  \n",
       "41715  It looks like you've mentioned COVID-19 in you...     0.8434  \n",
       "29422  Might have the covid foo drink alot of water. ...     0.4404  "
      ]
     },
     "execution_count": 97,
     "metadata": {},
     "output_type": "execute_result"
    }
   ],
   "source": [
    "sample = dataset.sample(45000)\n",
    "sample.head()"
   ]
  },
  {
   "cell_type": "code",
   "execution_count": 5,
   "metadata": {},
   "outputs": [
    {
     "data": {
      "text/plain": [
       "Counter({'depression': 5749,\n",
       "         'mentalhealth': 3256,\n",
       "         'COVID19_support': 15645,\n",
       "         'SuicideWatch': 3967,\n",
       "         'anxiety': 16383})"
      ]
     },
     "execution_count": 5,
     "metadata": {},
     "output_type": "execute_result"
    }
   ],
   "source": [
    "count = Counter()\n",
    "for index, row in sample.iterrows():\n",
    "    if row['subreddit.name'] == 'anxiety':\n",
    "        count['anxiety'] += 1\n",
    "    if row['subreddit.name'] == 'depression':\n",
    "        count['depression'] += 1\n",
    "    if row['subreddit.name'] == 'suicidewatch':\n",
    "        count['SuicideWatch'] += 1\n",
    "    if row['subreddit.name'] == 'mentalhealth':\n",
    "        count['mentalhealth'] += 1\n",
    "    if row['subreddit.name'] == 'covid19_support':\n",
    "        count['COVID19_support'] += 1\n",
    "count"
   ]
  },
  {
   "cell_type": "markdown",
   "metadata": {},
   "source": [
    "## Preprocessing"
   ]
  },
  {
   "cell_type": "code",
   "execution_count": 8,
   "metadata": {},
   "outputs": [],
   "source": [
    "import re\n",
    "import demoji"
   ]
  },
  {
   "cell_type": "code",
   "execution_count": 9,
   "metadata": {},
   "outputs": [],
   "source": [
    "def pre_cleaning(text):\n",
    "    line=re.sub(r\"\\Bu/\\w+\", \"USERNAME\", text) #replace username with USERNAME\n",
    "    line = demoji.replace(line, repl=' ')\n",
    "    return line"
   ]
  },
  {
   "cell_type": "code",
   "execution_count": 99,
   "metadata": {},
   "outputs": [],
   "source": [
    "#removing stopwords and urls, stemming, making lowercase \n",
    "stop_words = stopwords.words('english')\n",
    "stemmer = SnowballStemmer('english')\n",
    "\n",
    "text_cleaning_re = \"@\\S+|https?:\\S+|http?:\\S|[^A-Za-z0-9]+\"\n",
    "\n",
    "def cleaning(text):\n",
    "    text = re.sub(text_cleaning_re, ' ', str(text).lower()).strip()\n",
    "    tokens = []\n",
    "    for token in text.split():\n",
    "        if token not in stop_words:\n",
    "            tokens.append(stemmer.stem(token))\n",
    "    return \" \".join(tokens)"
   ]
  },
  {
   "cell_type": "code",
   "execution_count": 11,
   "metadata": {},
   "outputs": [],
   "source": [
    "def post_cleaning(text):\n",
    "    # Remove all the special characters\n",
    "    processed_feature = re.sub(r'\\W', ' ',text)\n",
    "\n",
    "    # remove all single characters\n",
    "    processed_feature= re.sub(r'\\s+[a-zA-Z]\\s+', ' ', processed_feature)\n",
    "\n",
    "    # Remove single characters from the start\n",
    "    processed_feature = re.sub(r'\\^[a-zA-Z]\\s+', ' ', processed_feature) \n",
    "    \n",
    "    #remove digits\n",
    "    processed_feature = re.sub(\"^\\d+\\s|\\s\\d+\\s|\\s\\d+$\", \" \", processed_feature)\n",
    "\n",
    "    # Substituting multiple spaces with single space\n",
    "    processed_feature = re.sub(r'\\s+', ' ', processed_feature, flags=re.I)\n",
    "\n",
    "    return processed_feature"
   ]
  },
  {
   "cell_type": "code",
   "execution_count": 98,
   "metadata": {},
   "outputs": [],
   "source": [
    "#above functions combined\n",
    "def preprocessing(text):\n",
    "    line = pre_cleaning(text)\n",
    "    line = cleaning(line)\n",
    "    line = post_cleaning (line)\n",
    "    return line"
   ]
  },
  {
   "cell_type": "code",
   "execution_count": 100,
   "metadata": {},
   "outputs": [],
   "source": [
    "sample.body = sample.body.apply(lambda x: preprocessing(x))"
   ]
  },
  {
   "cell_type": "code",
   "execution_count": 84,
   "metadata": {},
   "outputs": [
    {
     "data": {
      "text/html": [
       "<div>\n",
       "<style scoped>\n",
       "    .dataframe tbody tr th:only-of-type {\n",
       "        vertical-align: middle;\n",
       "    }\n",
       "\n",
       "    .dataframe tbody tr th {\n",
       "        vertical-align: top;\n",
       "    }\n",
       "\n",
       "    .dataframe thead th {\n",
       "        text-align: right;\n",
       "    }\n",
       "</style>\n",
       "<table border=\"1\" class=\"dataframe\">\n",
       "  <thead>\n",
       "    <tr style=\"text-align: right;\">\n",
       "      <th></th>\n",
       "      <th>Unnamed: 0</th>\n",
       "      <th>subreddit.name</th>\n",
       "      <th>created_utc</th>\n",
       "      <th>body</th>\n",
       "      <th>sentiment</th>\n",
       "    </tr>\n",
       "  </thead>\n",
       "  <tbody>\n",
       "    <tr>\n",
       "      <th>3220</th>\n",
       "      <td>2164843</td>\n",
       "      <td>covid19_support</td>\n",
       "      <td>1630182140</td>\n",
       "      <td>know realli hard right feel lot thwart expect ...</td>\n",
       "      <td>-0.9543</td>\n",
       "    </tr>\n",
       "    <tr>\n",
       "      <th>3072</th>\n",
       "      <td>2072480</td>\n",
       "      <td>covid19_support</td>\n",
       "      <td>1630359602</td>\n",
       "      <td>feel self conscious mask place anyway decid an...</td>\n",
       "      <td>-0.9829</td>\n",
       "    </tr>\n",
       "    <tr>\n",
       "      <th>43854</th>\n",
       "      <td>17155415</td>\n",
       "      <td>anxiety</td>\n",
       "      <td>1585489783</td>\n",
       "      <td>brave cystic fibrosi suffer beat coronavirus i...</td>\n",
       "      <td>-0.3699</td>\n",
       "    </tr>\n",
       "    <tr>\n",
       "      <th>30956</th>\n",
       "      <td>13583177</td>\n",
       "      <td>mentalhealth</td>\n",
       "      <td>1597004249</td>\n",
       "      <td>wish everyon could know servic vari region may...</td>\n",
       "      <td>0.9878</td>\n",
       "    </tr>\n",
       "    <tr>\n",
       "      <th>44457</th>\n",
       "      <td>17350201</td>\n",
       "      <td>covid19_support</td>\n",
       "      <td>1584943369</td>\n",
       "      <td>bad idea might take get use day liter look cov...</td>\n",
       "      <td>0.5773</td>\n",
       "    </tr>\n",
       "  </tbody>\n",
       "</table>\n",
       "</div>"
      ],
      "text/plain": [
       "       Unnamed: 0   subreddit.name  created_utc  \\\n",
       "3220      2164843  covid19_support   1630182140   \n",
       "3072      2072480  covid19_support   1630359602   \n",
       "43854    17155415          anxiety   1585489783   \n",
       "30956    13583177     mentalhealth   1597004249   \n",
       "44457    17350201  covid19_support   1584943369   \n",
       "\n",
       "                                                    body  sentiment  \n",
       "3220   know realli hard right feel lot thwart expect ...    -0.9543  \n",
       "3072   feel self conscious mask place anyway decid an...    -0.9829  \n",
       "43854  brave cystic fibrosi suffer beat coronavirus i...    -0.3699  \n",
       "30956  wish everyon could know servic vari region may...     0.9878  \n",
       "44457  bad idea might take get use day liter look cov...     0.5773  "
      ]
     },
     "execution_count": 84,
     "metadata": {},
     "output_type": "execute_result"
    }
   ],
   "source": [
    "sample.head()"
   ]
  },
  {
   "cell_type": "code",
   "execution_count": 101,
   "metadata": {},
   "outputs": [],
   "source": [
    "for sentiment in sample['sentiment']:\n",
    "    if sentiment > 0:\n",
    "        sample['sentiment'].replace({sentiment : 'positive'}, inplace=True)\n",
    "    if sentiment < 0:\n",
    "        sample['sentiment'].replace({sentiment : 'negative'}, inplace=True)\n",
    "    else:\n",
    "        sample['sentiment'].replace({sentiment : 'neutral'}, inplace=True)"
   ]
  },
  {
   "cell_type": "code",
   "execution_count": 86,
   "metadata": {},
   "outputs": [
    {
     "data": {
      "text/plain": [
       "Text(0.5, 1.0, 'Sentiment Data Distribution')"
      ]
     },
     "execution_count": 86,
     "metadata": {},
     "output_type": "execute_result"
    },
    {
     "data": {
      "image/png": "[encoded data removed]",
      "text/plain": [
       "<Figure size 576x288 with 1 Axes>"
      ]
     },
     "metadata": {
      "needs_background": "light"
     },
     "output_type": "display_data"
    }
   ],
   "source": [
    "#Graphing\n",
    "val_count = sample.sentiment.value_counts()\n",
    "plt.figure(figsize=(8,4))\n",
    "plt.bar(val_count.index, val_count.values)\n",
    "plt.title(\"Sentiment Data Distribution\")"
   ]
  },
  {
   "cell_type": "code",
   "execution_count": 87,
   "metadata": {},
   "outputs": [
    {
     "data": {
      "text/html": [
       "<div>\n",
       "<style scoped>\n",
       "    .dataframe tbody tr th:only-of-type {\n",
       "        vertical-align: middle;\n",
       "    }\n",
       "\n",
       "    .dataframe tbody tr th {\n",
       "        vertical-align: top;\n",
       "    }\n",
       "\n",
       "    .dataframe thead th {\n",
       "        text-align: right;\n",
       "    }\n",
       "</style>\n",
       "<table border=\"1\" class=\"dataframe\">\n",
       "  <thead>\n",
       "    <tr style=\"text-align: right;\">\n",
       "      <th></th>\n",
       "      <th>Unnamed: 0</th>\n",
       "      <th>subreddit.name</th>\n",
       "      <th>created_utc</th>\n",
       "      <th>body</th>\n",
       "      <th>sentiment</th>\n",
       "    </tr>\n",
       "  </thead>\n",
       "  <tbody>\n",
       "    <tr>\n",
       "      <th>3220</th>\n",
       "      <td>2164843</td>\n",
       "      <td>covid19_support</td>\n",
       "      <td>1630182140</td>\n",
       "      <td>know realli hard right feel lot thwart expect ...</td>\n",
       "      <td>negative</td>\n",
       "    </tr>\n",
       "    <tr>\n",
       "      <th>3072</th>\n",
       "      <td>2072480</td>\n",
       "      <td>covid19_support</td>\n",
       "      <td>1630359602</td>\n",
       "      <td>feel self conscious mask place anyway decid an...</td>\n",
       "      <td>negative</td>\n",
       "    </tr>\n",
       "    <tr>\n",
       "      <th>43854</th>\n",
       "      <td>17155415</td>\n",
       "      <td>anxiety</td>\n",
       "      <td>1585489783</td>\n",
       "      <td>brave cystic fibrosi suffer beat coronavirus i...</td>\n",
       "      <td>negative</td>\n",
       "    </tr>\n",
       "    <tr>\n",
       "      <th>30956</th>\n",
       "      <td>13583177</td>\n",
       "      <td>mentalhealth</td>\n",
       "      <td>1597004249</td>\n",
       "      <td>wish everyon could know servic vari region may...</td>\n",
       "      <td>positive</td>\n",
       "    </tr>\n",
       "    <tr>\n",
       "      <th>44457</th>\n",
       "      <td>17350201</td>\n",
       "      <td>covid19_support</td>\n",
       "      <td>1584943369</td>\n",
       "      <td>bad idea might take get use day liter look cov...</td>\n",
       "      <td>positive</td>\n",
       "    </tr>\n",
       "  </tbody>\n",
       "</table>\n",
       "</div>"
      ],
      "text/plain": [
       "       Unnamed: 0   subreddit.name  created_utc  \\\n",
       "3220      2164843  covid19_support   1630182140   \n",
       "3072      2072480  covid19_support   1630359602   \n",
       "43854    17155415          anxiety   1585489783   \n",
       "30956    13583177     mentalhealth   1597004249   \n",
       "44457    17350201  covid19_support   1584943369   \n",
       "\n",
       "                                                    body sentiment  \n",
       "3220   know realli hard right feel lot thwart expect ...  negative  \n",
       "3072   feel self conscious mask place anyway decid an...  negative  \n",
       "43854  brave cystic fibrosi suffer beat coronavirus i...  negative  \n",
       "30956  wish everyon could know servic vari region may...  positive  \n",
       "44457  bad idea might take get use day liter look cov...  positive  "
      ]
     },
     "execution_count": 87,
     "metadata": {},
     "output_type": "execute_result"
    }
   ],
   "source": [
    "sample.head()"
   ]
  },
  {
   "cell_type": "code",
   "execution_count": 18,
   "metadata": {},
   "outputs": [],
   "source": [
    "from sklearn.model_selection import train_test_split"
   ]
  },
  {
   "cell_type": "code",
   "execution_count": 102,
   "metadata": {},
   "outputs": [
    {
     "name": "stdout",
     "output_type": "stream",
     "text": [
      "Train Data size: 36000\n",
      "Test Data size 9000\n"
     ]
    }
   ],
   "source": [
    " # Splits Dataset into Training and Testing set\n",
    "train_size = 0.8\n",
    "train_data, test_data = train_test_split(sample, test_size=1-train_size, random_state=42, shuffle=True)\n",
    "print(\"Train Data size:\", len(train_data))\n",
    "print(\"Test Data size\", len(test_data))"
   ]
  },
  {
   "cell_type": "markdown",
   "metadata": {},
   "source": [
    "## Vectorizing"
   ]
  },
  {
   "cell_type": "code",
   "execution_count": 20,
   "metadata": {},
   "outputs": [],
   "source": [
    "from sklearn.feature_extraction.text import TfidfVectorizer"
   ]
  },
  {
   "cell_type": "code",
   "execution_count": 103,
   "metadata": {},
   "outputs": [],
   "source": [
    "vectorizer = TfidfVectorizer(max_features=10000,\n",
    "                             min_df = 5,\n",
    "                             max_df = 0.8,\n",
    "                             sublinear_tf = True,\n",
    "                             use_idf = True)\n",
    "vectorizer.fit(train_data.body.to_list())\n",
    "x_train = vectorizer.transform(train_data.body.to_list())\n",
    "x_test = vectorizer.transform(test_data.body.to_list())"
   ]
  },
  {
   "cell_type": "code",
   "execution_count": 90,
   "metadata": {},
   "outputs": [
    {
     "name": "stdout",
     "output_type": "stream",
     "text": [
      "x_train Shape: (36000, 8367)\n",
      "x_test Shape: (9000, 8367)\n"
     ]
    }
   ],
   "source": [
    "print(\"x_train Shape:\",x_train.shape)\n",
    "print(\"x_test Shape:\",x_test.shape)"
   ]
  },
  {
   "cell_type": "code",
   "execution_count": 23,
   "metadata": {},
   "outputs": [],
   "source": [
    "from sklearn.preprocessing import LabelEncoder"
   ]
  },
  {
   "cell_type": "code",
   "execution_count": 104,
   "metadata": {},
   "outputs": [
    {
     "name": "stdout",
     "output_type": "stream",
     "text": [
      "y_train shape: (36000, 1)\n",
      "y_test shape: (9000, 1)\n"
     ]
    }
   ],
   "source": [
    "encoder = LabelEncoder() #https://scikit-learn.org/stable/modules/generated/sklearn.preprocessing.LabelEncoder.html\n",
    "encoder.fit(train_data.sentiment.to_list())\n",
    "\n",
    "y_train = encoder.transform(train_data.sentiment.to_list())\n",
    "y_test = encoder.transform(test_data.sentiment.to_list())\n",
    "\n",
    "y_train = y_train.reshape(-1,1)\n",
    "y_test = y_test.reshape(-1,1)\n",
    "\n",
    "print(\"y_train shape:\", y_train.shape)\n",
    "print(\"y_test shape:\", y_test.shape)"
   ]
  },
  {
   "cell_type": "markdown",
   "metadata": {},
   "source": [
    "## Random Forest Model"
   ]
  },
  {
   "cell_type": "code",
   "execution_count": 25,
   "metadata": {},
   "outputs": [],
   "source": [
    "from sklearn.ensemble import RandomForestClassifier"
   ]
  },
  {
   "cell_type": "code",
   "execution_count": 105,
   "metadata": {},
   "outputs": [
    {
     "name": "stdout",
     "output_type": "stream",
     "text": [
      "Accuracy: 0.7661111111111111\n"
     ]
    }
   ],
   "source": [
    "model = RandomForestClassifier()\n",
    "model.fit(x_train, y_train.ravel())\n",
    "predicted_labels = model.predict(x_test)\n",
    "print ('Accuracy:', model.score(x_test, y_test))"
   ]
  },
  {
   "cell_type": "markdown",
   "metadata": {},
   "source": [
    "## Feature Importances"
   ]
  },
  {
   "cell_type": "code",
   "execution_count": 26,
   "metadata": {},
   "outputs": [],
   "source": [
    "from sklearn.tree import DecisionTreeClassifier \n",
    "from sklearn import tree\n",
    "from sklearn.tree import export_graphviz"
   ]
  },
  {
   "cell_type": "code",
   "execution_count": null,
   "metadata": {},
   "outputs": [],
   "source": [
    "from sklearn.tree import export_text\n",
    "for tree in model.estimators_:\n",
    "    text_representation = export_text(tree, feature_names = vectorizer.get_feature_names())\n",
    "    print(text_representation)"
   ]
  },
  {
   "cell_type": "code",
   "execution_count": 59,
   "metadata": {},
   "outputs": [
    {
     "name": "stderr",
     "output_type": "stream",
     "text": [
      "/Users/justinchen/opt/anaconda3/lib/python3.8/site-packages/sklearn/utils/deprecation.py:87: FutureWarning: Function get_feature_names is deprecated; get_feature_names is deprecated in 1.0 and will be removed in 1.2. Please use get_feature_names_out instead.\n",
      "  warnings.warn(msg, category=FutureWarning)\n"
     ]
    }
   ],
   "source": [
    "import graphviz\n",
    "# DOT data\n",
    "for tree in model.estimators_:\n",
    "    dot_data = export_graphviz(tree, out_file=None, \n",
    "                                feature_names=vectorizer.get_feature_names(),  \n",
    "                                class_names=['negative', 'neutral', 'positive'],\n",
    "                                filled=True)\n",
    "\n",
    "# Draw graph\n",
    "graph = graphviz.Source(dot_data, format=\"png\") "
   ]
  },
  {
   "cell_type": "code",
   "execution_count": 61,
   "metadata": {},
   "outputs": [
    {
     "data": {
      "text/plain": [
       "'decision_tree_COVID.png'"
      ]
     },
     "execution_count": 61,
     "metadata": {},
     "output_type": "execute_result"
    }
   ],
   "source": [
    "graph.render(\"decision_tree_COVID\")"
   ]
  },
  {
   "cell_type": "code",
   "execution_count": 45,
   "metadata": {
    "scrolled": true
   },
   "outputs": [
    {
     "data": {
      "image/png": "[encoded data removed]",
      "text/plain": [
       "<Figure size 432x288 with 1 Axes>"
      ]
     },
     "metadata": {
      "needs_background": "light"
     },
     "output_type": "display_data"
    }
   ],
   "source": [
    "# Get feature importances from our random forest model\n",
    "importances = model.feature_importances_\n",
    "\n",
    "# Get the index of importances from greatest importance to least\n",
    "sorted_index = np.argsort(importances)[::-1]\n",
    "indices = sorted_index[0:20]\n",
    "x = range(len(indices))\n",
    "\n",
    "# Create tick labels\n",
    "features = vectorizer.get_feature_names()\n",
    "labels = np.array(features)[indices]\n",
    "plt.bar(x, importances[indices], tick_label=labels)\n",
    "\n",
    "# Rotate tick labels to vertical\n",
    "plt.xticks(rotation=90)\n",
    "plt.show()"
   ]
  }
 ],
 "metadata": {
  "kernelspec": {
   "display_name": "Python 3 (ipykernel)",
   "language": "python",
   "name": "python3"
  },
  "language_info": {
   "codemirror_mode": {
    "name": "ipython",
    "version": 3
   },
   "file_extension": ".py",
   "mimetype": "text/x-python",
   "name": "python",
   "nbconvert_exporter": "python",
   "pygments_lexer": "ipython3",
   "version": "3.11.2"
  }
 },
 "nbformat": 4,
 "nbformat_minor": 4
}
