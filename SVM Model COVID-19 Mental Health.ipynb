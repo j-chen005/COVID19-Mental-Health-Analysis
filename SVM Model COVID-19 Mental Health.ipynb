{
 "cells": [
  {
   "cell_type": "code",
   "execution_count": 1,
   "metadata": {},
   "outputs": [
    {
     "name": "stderr",
     "output_type": "stream",
     "text": [
      "[nltk_data] Downloading package stopwords to\n",
      "[nltk_data]     /Users/justinchen/nltk_data...\n",
      "[nltk_data]   Package stopwords is already up-to-date!\n"
     ]
    }
   ],
   "source": [
    "import pandas as pd\n",
    "from collections import Counter\n",
    "import numpy as np\n",
    "import math\n",
    "import nltk\n",
    "nltk.download('stopwords')\n",
    "from nltk.corpus import stopwords\n",
    "from nltk.stem import SnowballStemmer\n",
    "%matplotlib inline\n",
    "import matplotlib.pyplot as plt"
   ]
  },
  {
   "cell_type": "code",
   "execution_count": 2,
   "metadata": {},
   "outputs": [],
   "source": [
    "df = pd.read_csv('/Users/justinchen/Desktop/AARD Datasets/mental_health_subreddits_dataset.csv')"
   ]
  },
  {
   "cell_type": "code",
   "execution_count": 3,
   "metadata": {},
   "outputs": [
    {
     "data": {
      "text/html": [
       "<div>\n",
       "<style scoped>\n",
       "    .dataframe tbody tr th:only-of-type {\n",
       "        vertical-align: middle;\n",
       "    }\n",
       "\n",
       "    .dataframe tbody tr th {\n",
       "        vertical-align: top;\n",
       "    }\n",
       "\n",
       "    .dataframe thead th {\n",
       "        text-align: right;\n",
       "    }\n",
       "</style>\n",
       "<table border=\"1\" class=\"dataframe\">\n",
       "  <thead>\n",
       "    <tr style=\"text-align: right;\">\n",
       "      <th></th>\n",
       "      <th>Unnamed: 0</th>\n",
       "      <th>subreddit.name</th>\n",
       "      <th>created_utc</th>\n",
       "      <th>body</th>\n",
       "      <th>sentiment</th>\n",
       "    </tr>\n",
       "  </thead>\n",
       "  <tbody>\n",
       "    <tr>\n",
       "      <th>0</th>\n",
       "      <td>963</td>\n",
       "      <td>covid19_support</td>\n",
       "      <td>1635203992</td>\n",
       "      <td>This. Plus remember the poster in here a few w...</td>\n",
       "      <td>-0.6652</td>\n",
       "    </tr>\n",
       "    <tr>\n",
       "      <th>1</th>\n",
       "      <td>967</td>\n",
       "      <td>anxiety</td>\n",
       "      <td>1635203988</td>\n",
       "      <td>Currently 8 and a half months pregnant and als...</td>\n",
       "      <td>-0.8555</td>\n",
       "    </tr>\n",
       "    <tr>\n",
       "      <th>2</th>\n",
       "      <td>1142</td>\n",
       "      <td>anxiety</td>\n",
       "      <td>1635203613</td>\n",
       "      <td>Few people had COVID in my building and refuse...</td>\n",
       "      <td>-0.2960</td>\n",
       "    </tr>\n",
       "    <tr>\n",
       "      <th>3</th>\n",
       "      <td>1403</td>\n",
       "      <td>covid19_support</td>\n",
       "      <td>1635202948</td>\n",
       "      <td>My friend will be so relieved she didn't actua...</td>\n",
       "      <td>0.7626</td>\n",
       "    </tr>\n",
       "    <tr>\n",
       "      <th>4</th>\n",
       "      <td>1616</td>\n",
       "      <td>depression</td>\n",
       "      <td>1635202459</td>\n",
       "      <td>This hits close to home. \\n\\nHe sounds similar...</td>\n",
       "      <td>-0.4006</td>\n",
       "    </tr>\n",
       "    <tr>\n",
       "      <th>...</th>\n",
       "      <td>...</td>\n",
       "      <td>...</td>\n",
       "      <td>...</td>\n",
       "      <td>...</td>\n",
       "      <td>...</td>\n",
       "    </tr>\n",
       "    <tr>\n",
       "      <th>45879</th>\n",
       "      <td>17777050</td>\n",
       "      <td>anxiety</td>\n",
       "      <td>1581473713</td>\n",
       "      <td>It is quite interesting, in terms of somewhat ...</td>\n",
       "      <td>-0.9256</td>\n",
       "    </tr>\n",
       "    <tr>\n",
       "      <th>45880</th>\n",
       "      <td>17777094</td>\n",
       "      <td>anxiety</td>\n",
       "      <td>1581466598</td>\n",
       "      <td>Stay focused on what the experts are saying an...</td>\n",
       "      <td>0.7430</td>\n",
       "    </tr>\n",
       "    <tr>\n",
       "      <th>45881</th>\n",
       "      <td>17777113</td>\n",
       "      <td>anxiety</td>\n",
       "      <td>1581463547</td>\n",
       "      <td>No new COVID-19 cases in B.C., 4 confirmed pat...</td>\n",
       "      <td>-0.1531</td>\n",
       "    </tr>\n",
       "    <tr>\n",
       "      <th>45882</th>\n",
       "      <td>17777197</td>\n",
       "      <td>mentalhealth</td>\n",
       "      <td>1581454025</td>\n",
       "      <td>Hi mate, as someone with GAD I can relate to y...</td>\n",
       "      <td>0.5332</td>\n",
       "    </tr>\n",
       "    <tr>\n",
       "      <th>45883</th>\n",
       "      <td>17777368</td>\n",
       "      <td>anxiety</td>\n",
       "      <td>1581071322</td>\n",
       "      <td>***MORE UPDATES  ON MY OTHER COMMENT ON THIS T...</td>\n",
       "      <td>0.9325</td>\n",
       "    </tr>\n",
       "  </tbody>\n",
       "</table>\n",
       "<p>45721 rows × 5 columns</p>\n",
       "</div>"
      ],
      "text/plain": [
       "       Unnamed: 0   subreddit.name  created_utc  \\\n",
       "0             963  covid19_support   1635203992   \n",
       "1             967          anxiety   1635203988   \n",
       "2            1142          anxiety   1635203613   \n",
       "3            1403  covid19_support   1635202948   \n",
       "4            1616       depression   1635202459   \n",
       "...           ...              ...          ...   \n",
       "45879    17777050          anxiety   1581473713   \n",
       "45880    17777094          anxiety   1581466598   \n",
       "45881    17777113          anxiety   1581463547   \n",
       "45882    17777197     mentalhealth   1581454025   \n",
       "45883    17777368          anxiety   1581071322   \n",
       "\n",
       "                                                    body  sentiment  \n",
       "0      This. Plus remember the poster in here a few w...    -0.6652  \n",
       "1      Currently 8 and a half months pregnant and als...    -0.8555  \n",
       "2      Few people had COVID in my building and refuse...    -0.2960  \n",
       "3      My friend will be so relieved she didn't actua...     0.7626  \n",
       "4      This hits close to home. \\n\\nHe sounds similar...    -0.4006  \n",
       "...                                                  ...        ...  \n",
       "45879  It is quite interesting, in terms of somewhat ...    -0.9256  \n",
       "45880  Stay focused on what the experts are saying an...     0.7430  \n",
       "45881  No new COVID-19 cases in B.C., 4 confirmed pat...    -0.1531  \n",
       "45882  Hi mate, as someone with GAD I can relate to y...     0.5332  \n",
       "45883  ***MORE UPDATES  ON MY OTHER COMMENT ON THIS T...     0.9325  \n",
       "\n",
       "[45721 rows x 5 columns]"
      ]
     },
     "execution_count": 3,
     "metadata": {},
     "output_type": "execute_result"
    }
   ],
   "source": [
    "df.dropna(axis = 0, how = 'any')"
   ]
  },
  {
   "cell_type": "code",
   "execution_count": 4,
   "metadata": {},
   "outputs": [
    {
     "data": {
      "text/html": [
       "<div>\n",
       "<style scoped>\n",
       "    .dataframe tbody tr th:only-of-type {\n",
       "        vertical-align: middle;\n",
       "    }\n",
       "\n",
       "    .dataframe tbody tr th {\n",
       "        vertical-align: top;\n",
       "    }\n",
       "\n",
       "    .dataframe thead th {\n",
       "        text-align: right;\n",
       "    }\n",
       "</style>\n",
       "<table border=\"1\" class=\"dataframe\">\n",
       "  <thead>\n",
       "    <tr style=\"text-align: right;\">\n",
       "      <th></th>\n",
       "      <th>Unnamed: 0</th>\n",
       "      <th>subreddit.name</th>\n",
       "      <th>created_utc</th>\n",
       "      <th>body</th>\n",
       "      <th>sentiment</th>\n",
       "    </tr>\n",
       "  </thead>\n",
       "  <tbody>\n",
       "    <tr>\n",
       "      <th>42853</th>\n",
       "      <td>16853281</td>\n",
       "      <td>anxiety</td>\n",
       "      <td>1586348385</td>\n",
       "      <td>This guy's site has been a source of comfort f...</td>\n",
       "      <td>0.1154</td>\n",
       "    </tr>\n",
       "    <tr>\n",
       "      <th>45252</th>\n",
       "      <td>17595778</td>\n",
       "      <td>depression</td>\n",
       "      <td>1584180295</td>\n",
       "      <td>through the crisis I had just no time to think...</td>\n",
       "      <td>-0.6232</td>\n",
       "    </tr>\n",
       "    <tr>\n",
       "      <th>35572</th>\n",
       "      <td>14894892</td>\n",
       "      <td>anxiety</td>\n",
       "      <td>1593268333</td>\n",
       "      <td>Your post has **not** been removed or flagged....</td>\n",
       "      <td>0.7635</td>\n",
       "    </tr>\n",
       "    <tr>\n",
       "      <th>12642</th>\n",
       "      <td>7060082</td>\n",
       "      <td>anxiety</td>\n",
       "      <td>1616048148</td>\n",
       "      <td>Do you have health insurance?  Since COVID man...</td>\n",
       "      <td>0.9070</td>\n",
       "    </tr>\n",
       "    <tr>\n",
       "      <th>20307</th>\n",
       "      <td>10081549</td>\n",
       "      <td>covid19_support</td>\n",
       "      <td>1607321650</td>\n",
       "      <td>It's hard being a new mum.  When I had my litt...</td>\n",
       "      <td>0.9756</td>\n",
       "    </tr>\n",
       "  </tbody>\n",
       "</table>\n",
       "</div>"
      ],
      "text/plain": [
       "       Unnamed: 0   subreddit.name  created_utc  \\\n",
       "42853    16853281          anxiety   1586348385   \n",
       "45252    17595778       depression   1584180295   \n",
       "35572    14894892          anxiety   1593268333   \n",
       "12642     7060082          anxiety   1616048148   \n",
       "20307    10081549  covid19_support   1607321650   \n",
       "\n",
       "                                                    body  sentiment  \n",
       "42853  This guy's site has been a source of comfort f...     0.1154  \n",
       "45252  through the crisis I had just no time to think...    -0.6232  \n",
       "35572  Your post has **not** been removed or flagged....     0.7635  \n",
       "12642  Do you have health insurance?  Since COVID man...     0.9070  \n",
       "20307  It's hard being a new mum.  When I had my litt...     0.9756  "
      ]
     },
     "execution_count": 4,
     "metadata": {},
     "output_type": "execute_result"
    }
   ],
   "source": [
    "sample = df.sample(45000)\n",
    "sample.head()"
   ]
  },
  {
   "cell_type": "code",
   "execution_count": 5,
   "metadata": {},
   "outputs": [
    {
     "data": {
      "text/plain": [
       "Counter({'anxiety': 16370,\n",
       "         'depression': 5763,\n",
       "         'COVID19_support': 15655,\n",
       "         'SuicideWatch': 3971,\n",
       "         'mentalhealth': 3241})"
      ]
     },
     "execution_count": 5,
     "metadata": {},
     "output_type": "execute_result"
    }
   ],
   "source": [
    "count = Counter()\n",
    "for index, row in sample.iterrows():\n",
    "    if row['subreddit.name'] == 'anxiety':\n",
    "        count['anxiety'] += 1\n",
    "    if row['subreddit.name'] == 'depression':\n",
    "        count['depression'] += 1\n",
    "    if row['subreddit.name'] == 'suicidewatch':\n",
    "        count['SuicideWatch'] += 1\n",
    "    if row['subreddit.name'] == 'mentalhealth':\n",
    "        count['mentalhealth'] += 1\n",
    "    if row['subreddit.name'] == 'covid19_support':\n",
    "        count['COVID19_support'] += 1\n",
    "count"
   ]
  },
  {
   "cell_type": "markdown",
   "metadata": {},
   "source": [
    "## Preprocessing "
   ]
  },
  {
   "cell_type": "code",
   "execution_count": 6,
   "metadata": {},
   "outputs": [],
   "source": [
    "import re #regex library used for substituting words\n",
    "import demoji #https://github.com/bsolomon1124/demoji"
   ]
  },
  {
   "cell_type": "code",
   "execution_count": 7,
   "metadata": {},
   "outputs": [],
   "source": [
    "def pre_cleaning(text):\n",
    "    line=re.sub(r\"\\Bu/\\w+\", \"USERNAME\", text) #replace username with USERNAME\n",
    "    line = demoji.replace(line, repl=' ')\n",
    "    return line"
   ]
  },
  {
   "cell_type": "code",
   "execution_count": 8,
   "metadata": {},
   "outputs": [],
   "source": [
    "#removing stopwords and urls, stemming, making lowercase \n",
    "stop_words = stopwords.words('english')\n",
    "stemmer = SnowballStemmer('english')\n",
    "\n",
    "text_cleaning_re = \"@\\S+|https?:\\S+|http?:\\S|[^A-Za-z0-9]+\"\n",
    "\n",
    "def cleaning(text, stem=False):\n",
    "    text = re.sub(text_cleaning_re, ' ', str(text).lower()).strip()\n",
    "    tokens = []\n",
    "    for token in text.split():\n",
    "        if token not in stop_words:\n",
    "            if stem:\n",
    "                tokens.append(stemmer.stem(token))\n",
    "            else:\n",
    "                tokens.append(token)\n",
    "    return \" \".join(tokens)"
   ]
  },
  {
   "cell_type": "code",
   "execution_count": 9,
   "metadata": {},
   "outputs": [],
   "source": [
    "def post_cleaning(text):\n",
    "    # Remove all the special characters\n",
    "    processed_feature = re.sub(r'\\W', ' ',text)\n",
    "\n",
    "    # remove all single characters\n",
    "    processed_feature= re.sub(r'\\s+[a-zA-Z]\\s+', ' ', processed_feature)\n",
    "\n",
    "    # Remove single characters from the start\n",
    "    processed_feature = re.sub(r'\\^[a-zA-Z]\\s+', ' ', processed_feature) \n",
    "    \n",
    "    #remove digits\n",
    "    processed_feature = re.sub(\"^\\d+\\s|\\s\\d+\\s|\\s\\d+$\", \" \", processed_feature)\n",
    "\n",
    "    # Substituting multiple spaces with single space\n",
    "    processed_feature = re.sub(r'\\s+', ' ', processed_feature, flags=re.I)\n",
    "\n",
    "    return processed_feature"
   ]
  },
  {
   "cell_type": "code",
   "execution_count": 10,
   "metadata": {},
   "outputs": [],
   "source": [
    "#above functions combined\n",
    "def preprocessing(text):\n",
    "    line = pre_cleaning(text)\n",
    "    line = cleaning(line)\n",
    "    line = post_cleaning (line)\n",
    "    return line"
   ]
  },
  {
   "cell_type": "code",
   "execution_count": 11,
   "metadata": {},
   "outputs": [],
   "source": [
    "sample.body = sample.body.apply(lambda x: preprocessing(x))"
   ]
  },
  {
   "cell_type": "code",
   "execution_count": 12,
   "metadata": {},
   "outputs": [
    {
     "data": {
      "text/html": [
       "<div>\n",
       "<style scoped>\n",
       "    .dataframe tbody tr th:only-of-type {\n",
       "        vertical-align: middle;\n",
       "    }\n",
       "\n",
       "    .dataframe tbody tr th {\n",
       "        vertical-align: top;\n",
       "    }\n",
       "\n",
       "    .dataframe thead th {\n",
       "        text-align: right;\n",
       "    }\n",
       "</style>\n",
       "<table border=\"1\" class=\"dataframe\">\n",
       "  <thead>\n",
       "    <tr style=\"text-align: right;\">\n",
       "      <th></th>\n",
       "      <th>Unnamed: 0</th>\n",
       "      <th>subreddit.name</th>\n",
       "      <th>created_utc</th>\n",
       "      <th>body</th>\n",
       "      <th>sentiment</th>\n",
       "    </tr>\n",
       "  </thead>\n",
       "  <tbody>\n",
       "    <tr>\n",
       "      <th>42853</th>\n",
       "      <td>16853281</td>\n",
       "      <td>anxiety</td>\n",
       "      <td>1586348385</td>\n",
       "      <td>guy site source comfort people late gone prett...</td>\n",
       "      <td>0.1154</td>\n",
       "    </tr>\n",
       "    <tr>\n",
       "      <th>45252</th>\n",
       "      <td>17595778</td>\n",
       "      <td>depression</td>\n",
       "      <td>1584180295</td>\n",
       "      <td>crisis time think depression feelings much eve...</td>\n",
       "      <td>-0.6232</td>\n",
       "    </tr>\n",
       "    <tr>\n",
       "      <th>35572</th>\n",
       "      <td>14894892</td>\n",
       "      <td>anxiety</td>\n",
       "      <td>1593268333</td>\n",
       "      <td>post removed flagged see mentioned covid pleas...</td>\n",
       "      <td>0.7635</td>\n",
       "    </tr>\n",
       "    <tr>\n",
       "      <th>12642</th>\n",
       "      <td>7060082</td>\n",
       "      <td>anxiety</td>\n",
       "      <td>1616048148</td>\n",
       "      <td>health insurance since covid many offering fre...</td>\n",
       "      <td>0.9070</td>\n",
       "    </tr>\n",
       "    <tr>\n",
       "      <th>20307</th>\n",
       "      <td>10081549</td>\n",
       "      <td>covid19_support</td>\n",
       "      <td>1607321650</td>\n",
       "      <td>hard new mum little one would check cot contin...</td>\n",
       "      <td>0.9756</td>\n",
       "    </tr>\n",
       "  </tbody>\n",
       "</table>\n",
       "</div>"
      ],
      "text/plain": [
       "       Unnamed: 0   subreddit.name  created_utc  \\\n",
       "42853    16853281          anxiety   1586348385   \n",
       "45252    17595778       depression   1584180295   \n",
       "35572    14894892          anxiety   1593268333   \n",
       "12642     7060082          anxiety   1616048148   \n",
       "20307    10081549  covid19_support   1607321650   \n",
       "\n",
       "                                                    body  sentiment  \n",
       "42853  guy site source comfort people late gone prett...     0.1154  \n",
       "45252  crisis time think depression feelings much eve...    -0.6232  \n",
       "35572  post removed flagged see mentioned covid pleas...     0.7635  \n",
       "12642  health insurance since covid many offering fre...     0.9070  \n",
       "20307  hard new mum little one would check cot contin...     0.9756  "
      ]
     },
     "execution_count": 12,
     "metadata": {},
     "output_type": "execute_result"
    }
   ],
   "source": [
    "sample.head()"
   ]
  },
  {
   "cell_type": "code",
   "execution_count": 13,
   "metadata": {},
   "outputs": [],
   "source": [
    "for sentiment in sample['sentiment']:\n",
    "    if sentiment > 0:\n",
    "        sample['sentiment'].replace({sentiment : 'positive'}, inplace=True)\n",
    "    if sentiment < 0:\n",
    "        sample['sentiment'].replace({sentiment : 'negative'}, inplace=True)\n",
    "    else:\n",
    "        sample['sentiment'].replace({sentiment : 'neutral'}, inplace=True)"
   ]
  },
  {
   "cell_type": "code",
   "execution_count": 14,
   "metadata": {},
   "outputs": [
    {
     "data": {
      "text/plain": [
       "Text(0.5, 1.0, 'Sentiment Data Distribution')"
      ]
     },
     "execution_count": 14,
     "metadata": {},
     "output_type": "execute_result"
    },
    {
     "data": {
      "image/png": "[encoded data removed]",
      "text/plain": [
       "<Figure size 576x288 with 1 Axes>"
      ]
     },
     "metadata": {
      "needs_background": "light"
     },
     "output_type": "display_data"
    }
   ],
   "source": [
    "#Graphing\n",
    "val_count = sample.sentiment.value_counts()\n",
    "plt.figure(figsize=(8,4))\n",
    "plt.bar(val_count.index, val_count.values)\n",
    "plt.title(\"Sentiment Data Distribution\")"
   ]
  },
  {
   "cell_type": "code",
   "execution_count": 17,
   "metadata": {},
   "outputs": [
    {
     "data": {
      "text/html": [
       "<div>\n",
       "<style scoped>\n",
       "    .dataframe tbody tr th:only-of-type {\n",
       "        vertical-align: middle;\n",
       "    }\n",
       "\n",
       "    .dataframe tbody tr th {\n",
       "        vertical-align: top;\n",
       "    }\n",
       "\n",
       "    .dataframe thead th {\n",
       "        text-align: right;\n",
       "    }\n",
       "</style>\n",
       "<table border=\"1\" class=\"dataframe\">\n",
       "  <thead>\n",
       "    <tr style=\"text-align: right;\">\n",
       "      <th></th>\n",
       "      <th>Unnamed: 0</th>\n",
       "      <th>subreddit.name</th>\n",
       "      <th>created_utc</th>\n",
       "      <th>body</th>\n",
       "      <th>sentiment</th>\n",
       "    </tr>\n",
       "  </thead>\n",
       "  <tbody>\n",
       "    <tr>\n",
       "      <th>20244</th>\n",
       "      <td>10051420</td>\n",
       "      <td>anxiety</td>\n",
       "      <td>1607392837</td>\n",
       "      <td>covid cases declining despite increased testing</td>\n",
       "      <td>negative</td>\n",
       "    </tr>\n",
       "    <tr>\n",
       "      <th>12358</th>\n",
       "      <td>6942378</td>\n",
       "      <td>depression</td>\n",
       "      <td>1616438248</td>\n",
       "      <td>know pretty much exactly mean lost best friend...</td>\n",
       "      <td>negative</td>\n",
       "    </tr>\n",
       "    <tr>\n",
       "      <th>4996</th>\n",
       "      <td>3134343</td>\n",
       "      <td>anxiety</td>\n",
       "      <td>1628307597</td>\n",
       "      <td>felt bad also already covid super overly prote...</td>\n",
       "      <td>positive</td>\n",
       "    </tr>\n",
       "    <tr>\n",
       "      <th>9709</th>\n",
       "      <td>5670174</td>\n",
       "      <td>covid19_support</td>\n",
       "      <td>1620252740</td>\n",
       "      <td>past mid night live couple weeks slept soundly...</td>\n",
       "      <td>negative</td>\n",
       "    </tr>\n",
       "    <tr>\n",
       "      <th>33155</th>\n",
       "      <td>14211314</td>\n",
       "      <td>suicidewatch</td>\n",
       "      <td>1595230189</td>\n",
       "      <td>yes therapy since years old go group therapy f...</td>\n",
       "      <td>positive</td>\n",
       "    </tr>\n",
       "  </tbody>\n",
       "</table>\n",
       "</div>"
      ],
      "text/plain": [
       "       Unnamed: 0   subreddit.name  created_utc  \\\n",
       "20244    10051420          anxiety   1607392837   \n",
       "12358     6942378       depression   1616438248   \n",
       "4996      3134343          anxiety   1628307597   \n",
       "9709      5670174  covid19_support   1620252740   \n",
       "33155    14211314     suicidewatch   1595230189   \n",
       "\n",
       "                                                    body sentiment  \n",
       "20244    covid cases declining despite increased testing  negative  \n",
       "12358  know pretty much exactly mean lost best friend...  negative  \n",
       "4996   felt bad also already covid super overly prote...  positive  \n",
       "9709   past mid night live couple weeks slept soundly...  negative  \n",
       "33155  yes therapy since years old go group therapy f...  positive  "
      ]
     },
     "execution_count": 17,
     "metadata": {},
     "output_type": "execute_result"
    }
   ],
   "source": [
    "sample.head()"
   ]
  },
  {
   "cell_type": "code",
   "execution_count": 15,
   "metadata": {},
   "outputs": [],
   "source": [
    "from sklearn.model_selection import train_test_split"
   ]
  },
  {
   "cell_type": "code",
   "execution_count": 16,
   "metadata": {},
   "outputs": [
    {
     "name": "stdout",
     "output_type": "stream",
     "text": [
      "Train Data size: 36000\n",
      "Test Data size 9000\n"
     ]
    }
   ],
   "source": [
    " # Splits Dataset into Training and Testing set\n",
    "train_size = 0.8\n",
    "train_data, test_data = train_test_split(sample, test_size=1-train_size, random_state=42, shuffle=True)\n",
    "print(\"Train Data size:\", len(train_data))\n",
    "print(\"Test Data size\", len(test_data))"
   ]
  },
  {
   "cell_type": "markdown",
   "metadata": {},
   "source": [
    "## Vectorizing"
   ]
  },
  {
   "cell_type": "code",
   "execution_count": 17,
   "metadata": {},
   "outputs": [],
   "source": [
    "from sklearn.feature_extraction.text import TfidfVectorizer"
   ]
  },
  {
   "cell_type": "code",
   "execution_count": 18,
   "metadata": {},
   "outputs": [],
   "source": [
    "vectorizer = TfidfVectorizer(max_features=14000,\n",
    "                             min_df = 5,\n",
    "                             max_df = 0.8,\n",
    "                             sublinear_tf = True,\n",
    "                             use_idf = True)\n",
    "vectorizer.fit(train_data.body.to_list())\n",
    "x_train = vectorizer.transform(train_data.body.to_list())\n",
    "x_test = vectorizer.transform(test_data.body.to_list())"
   ]
  },
  {
   "cell_type": "code",
   "execution_count": 19,
   "metadata": {},
   "outputs": [
    {
     "name": "stdout",
     "output_type": "stream",
     "text": [
      "x_train Shape: (36000, 13250)\n",
      "x_test Shape: (9000, 13250)\n"
     ]
    }
   ],
   "source": [
    "print(\"x_train Shape:\",x_train.shape)\n",
    "print(\"x_test Shape:\",x_test.shape)"
   ]
  },
  {
   "cell_type": "code",
   "execution_count": 20,
   "metadata": {},
   "outputs": [],
   "source": [
    "from sklearn.preprocessing import LabelEncoder"
   ]
  },
  {
   "cell_type": "code",
   "execution_count": 21,
   "metadata": {},
   "outputs": [
    {
     "name": "stdout",
     "output_type": "stream",
     "text": [
      "y_train shape: (36000, 1)\n",
      "y_test shape: (9000, 1)\n"
     ]
    }
   ],
   "source": [
    "encoder = LabelEncoder() #https://scikit-learn.org/stable/modules/generated/sklearn.preprocessing.LabelEncoder.html\n",
    "encoder.fit(train_data.sentiment.to_list())\n",
    "\n",
    "y_train = encoder.transform(train_data.sentiment.to_list())\n",
    "y_test = encoder.transform(test_data.sentiment.to_list())\n",
    "\n",
    "y_train = y_train.reshape(-1,1)\n",
    "y_test = y_test.reshape(-1,1)\n",
    "\n",
    "print(\"y_train shape:\", y_train.shape)\n",
    "print(\"y_test shape:\", y_test.shape)"
   ]
  },
  {
   "cell_type": "markdown",
   "metadata": {},
   "source": [
    "## Linear SVM Model"
   ]
  },
  {
   "cell_type": "code",
   "execution_count": 23,
   "metadata": {},
   "outputs": [],
   "source": [
    "import time\n",
    "from sklearn import svm\n",
    "from sklearn.metrics import classification_report\n",
    "from sklearn import metrics"
   ]
  },
  {
   "cell_type": "code",
   "execution_count": 24,
   "metadata": {},
   "outputs": [
    {
     "name": "stdout",
     "output_type": "stream",
     "text": [
      "Training time: 11992.931945s; Prediction time: 1825.581834s\n",
      "Accuracy: 0.8112222222222222\n",
      "positive:  {'precision': 0.8324521422060164, 'recall': 0.8792605430387059, 'f1-score': 0.855216332646563, 'support': 5193}\n",
      "negative:  {'precision': 0.7796963381958917, 'recall': 0.7608948285880303, 'f1-score': 0.7701808557565064, 'support': 3442}\n",
      "neutral:  {'precision': 0.7435897435897436, 'recall': 0.3178082191780822, 'f1-score': 0.4452975047984645, 'support': 365}\n"
     ]
    }
   ],
   "source": [
    "# Perform classification with SVM, kernel=linear\n",
    "classifier_linear = svm.SVC(kernel='linear')\n",
    "t0 = time.time()\n",
    "classifier_linear.fit(x_train, y_train.ravel())\n",
    "t1 = time.time()\n",
    "prediction_linear = classifier_linear.predict(x_test)\n",
    "t2 = time.time()\n",
    "time_linear_train = t1-t0\n",
    "time_linear_predict = t2-t1\n",
    "\n",
    "labels = [0.0, 1.0, 2.0]\n",
    "target_names = ['negative', 'neutral', 'positive']\n",
    "\n",
    "# results\n",
    "print(\"Training time: %fs; Prediction time: %fs\" % (time_linear_train, time_linear_predict))\n",
    "\n",
    "report = classification_report(y_test, prediction_linear, labels = labels, target_names = target_names, output_dict=True)\n",
    "\n",
    "print(\"Accuracy:\", metrics.accuracy_score(y_test, prediction_linear))\n",
    "\n",
    "print('positive: ', report['positive'])\n",
    "print('negative: ', report['negative'])\n",
    "print('neutral: ', report['neutral'])"
   ]
  },
  {
   "cell_type": "code",
   "execution_count": 27,
   "metadata": {},
   "outputs": [],
   "source": [
    "comment = vectorizer.transform()"
   ]
  },
  {
   "cell_type": "code",
   "execution_count": 28,
   "metadata": {},
   "outputs": [
    {
     "data": {
      "text/plain": [
       "array([1, 1, 1, 1, 1, 1, 1, 1, 1, 1, 1, 1, 1, 1, 1, 1, 1, 1, 1, 1, 1, 1,\n",
       "       1, 1, 1, 1, 1, 1, 1, 1, 1, 1, 1, 1, 1, 1, 1, 1, 1, 1, 1, 1, 1, 1,\n",
       "       1, 1, 1, 1, 1, 1, 1, 1, 1, 1, 1, 1, 1, 1, 1, 1, 1, 1, 1, 1, 1, 1,\n",
       "       1, 1, 1, 1, 1, 1, 1, 1, 1, 1, 1, 1, 1, 1, 1, 1, 1, 1, 1, 1, 1, 1,\n",
       "       1, 1, 1, 1, 1, 1, 1, 1, 1, 1, 1, 1, 1, 1, 1, 1, 1, 1, 1, 1, 1, 1,\n",
       "       1, 1, 1, 1, 1, 1, 1, 1, 1, 1, 1, 1, 1, 1, 1, 1, 1, 1, 1, 1, 1, 1,\n",
       "       1, 1, 1, 1, 1, 1, 1, 1, 1, 1, 1, 1, 1, 1, 1, 1, 1, 1, 1, 1, 1, 1,\n",
       "       1, 1, 1, 1, 1, 1, 1, 1, 1, 1, 1, 1, 1, 1, 1, 1, 1, 1, 1, 1, 1, 1,\n",
       "       1, 1, 1, 1, 1, 1, 1, 1, 1, 1, 1, 1, 1, 1, 1, 1, 1, 1, 1, 1, 1, 1,\n",
       "       1, 1, 1, 1, 1, 1, 1, 1, 1, 1, 1, 1, 1, 1, 1, 1, 1, 1, 1, 1, 1, 1,\n",
       "       1, 1, 1, 1, 1, 1, 1, 1, 1, 1, 1, 1, 1, 1, 1, 1, 1, 1, 1, 1])"
      ]
     },
     "execution_count": 28,
     "metadata": {},
     "output_type": "execute_result"
    }
   ],
   "source": [
    "classifier_linear.predict(comment)"
   ]
  },
  {
   "cell_type": "markdown",
   "metadata": {},
   "source": [
    "### Anxiety SVM"
   ]
  },
  {
   "cell_type": "code",
   "execution_count": 11,
   "metadata": {},
   "outputs": [],
   "source": [
    "drop_list = []\n",
    "for a in range(45884):\n",
    "    if df.at[a, 'subreddit.name'] != 'anxiety':\n",
    "        drop_list.append(a)"
   ]
  },
  {
   "cell_type": "code",
   "execution_count": 12,
   "metadata": {},
   "outputs": [
    {
     "data": {
      "text/html": [
       "<div>\n",
       "<style scoped>\n",
       "    .dataframe tbody tr th:only-of-type {\n",
       "        vertical-align: middle;\n",
       "    }\n",
       "\n",
       "    .dataframe tbody tr th {\n",
       "        vertical-align: top;\n",
       "    }\n",
       "\n",
       "    .dataframe thead th {\n",
       "        text-align: right;\n",
       "    }\n",
       "</style>\n",
       "<table border=\"1\" class=\"dataframe\">\n",
       "  <thead>\n",
       "    <tr style=\"text-align: right;\">\n",
       "      <th></th>\n",
       "      <th>Unnamed: 0</th>\n",
       "      <th>subreddit.name</th>\n",
       "      <th>created_utc</th>\n",
       "      <th>body</th>\n",
       "      <th>sentiment</th>\n",
       "    </tr>\n",
       "  </thead>\n",
       "  <tbody>\n",
       "    <tr>\n",
       "      <th>1</th>\n",
       "      <td>967</td>\n",
       "      <td>anxiety</td>\n",
       "      <td>1635203988</td>\n",
       "      <td>currently half months pregnant also covid suff...</td>\n",
       "      <td>-0.8555</td>\n",
       "    </tr>\n",
       "    <tr>\n",
       "      <th>2</th>\n",
       "      <td>1142</td>\n",
       "      <td>anxiety</td>\n",
       "      <td>1635203613</td>\n",
       "      <td>people covid building refused get vaccinated</td>\n",
       "      <td>-0.2960</td>\n",
       "    </tr>\n",
       "    <tr>\n",
       "      <th>7</th>\n",
       "      <td>5439</td>\n",
       "      <td>anxiety</td>\n",
       "      <td>1635193321</td>\n",
       "      <td>surrounded anti covid vax people mine also sec...</td>\n",
       "      <td>-0.9364</td>\n",
       "    </tr>\n",
       "    <tr>\n",
       "      <th>8</th>\n",
       "      <td>5753</td>\n",
       "      <td>anxiety</td>\n",
       "      <td>1635192653</td>\n",
       "      <td>wow found sub reddit today really ever reddit ...</td>\n",
       "      <td>-0.9878</td>\n",
       "    </tr>\n",
       "    <tr>\n",
       "      <th>12</th>\n",
       "      <td>7513</td>\n",
       "      <td>anxiety</td>\n",
       "      <td>1635188671</td>\n",
       "      <td>fine study results shown amp plus moderna comb...</td>\n",
       "      <td>0.9834</td>\n",
       "    </tr>\n",
       "    <tr>\n",
       "      <th>...</th>\n",
       "      <td>...</td>\n",
       "      <td>...</td>\n",
       "      <td>...</td>\n",
       "      <td>...</td>\n",
       "      <td>...</td>\n",
       "    </tr>\n",
       "    <tr>\n",
       "      <th>45878</th>\n",
       "      <td>17777040</td>\n",
       "      <td>anxiety</td>\n",
       "      <td>1581474617</td>\n",
       "      <td>interesting indeed also interesting much menta...</td>\n",
       "      <td>0.9428</td>\n",
       "    </tr>\n",
       "    <tr>\n",
       "      <th>45879</th>\n",
       "      <td>17777050</td>\n",
       "      <td>anxiety</td>\n",
       "      <td>1581473713</td>\n",
       "      <td>quite interesting terms somewhat putting thing...</td>\n",
       "      <td>-0.9256</td>\n",
       "    </tr>\n",
       "    <tr>\n",
       "      <th>45880</th>\n",
       "      <td>17777094</td>\n",
       "      <td>anxiety</td>\n",
       "      <td>1581466598</td>\n",
       "      <td>stay focused experts saying avoid sensationali...</td>\n",
       "      <td>0.7430</td>\n",
       "    </tr>\n",
       "    <tr>\n",
       "      <th>45881</th>\n",
       "      <td>17777113</td>\n",
       "      <td>anxiety</td>\n",
       "      <td>1581463547</td>\n",
       "      <td>new covid cases c confirmed patients well prov...</td>\n",
       "      <td>-0.1531</td>\n",
       "    </tr>\n",
       "    <tr>\n",
       "      <th>45883</th>\n",
       "      <td>17777368</td>\n",
       "      <td>anxiety</td>\n",
       "      <td>1581071322</td>\n",
       "      <td>updates comment thread update febuary 1650 rec...</td>\n",
       "      <td>0.9325</td>\n",
       "    </tr>\n",
       "  </tbody>\n",
       "</table>\n",
       "<p>16689 rows × 5 columns</p>\n",
       "</div>"
      ],
      "text/plain": [
       "       Unnamed: 0 subreddit.name  created_utc  \\\n",
       "1             967        anxiety   1635203988   \n",
       "2            1142        anxiety   1635203613   \n",
       "7            5439        anxiety   1635193321   \n",
       "8            5753        anxiety   1635192653   \n",
       "12           7513        anxiety   1635188671   \n",
       "...           ...            ...          ...   \n",
       "45878    17777040        anxiety   1581474617   \n",
       "45879    17777050        anxiety   1581473713   \n",
       "45880    17777094        anxiety   1581466598   \n",
       "45881    17777113        anxiety   1581463547   \n",
       "45883    17777368        anxiety   1581071322   \n",
       "\n",
       "                                                    body  sentiment  \n",
       "1      currently half months pregnant also covid suff...    -0.8555  \n",
       "2           people covid building refused get vaccinated    -0.2960  \n",
       "7      surrounded anti covid vax people mine also sec...    -0.9364  \n",
       "8      wow found sub reddit today really ever reddit ...    -0.9878  \n",
       "12     fine study results shown amp plus moderna comb...     0.9834  \n",
       "...                                                  ...        ...  \n",
       "45878  interesting indeed also interesting much menta...     0.9428  \n",
       "45879  quite interesting terms somewhat putting thing...    -0.9256  \n",
       "45880  stay focused experts saying avoid sensationali...     0.7430  \n",
       "45881  new covid cases c confirmed patients well prov...    -0.1531  \n",
       "45883  updates comment thread update febuary 1650 rec...     0.9325  \n",
       "\n",
       "[16689 rows x 5 columns]"
      ]
     },
     "execution_count": 12,
     "metadata": {},
     "output_type": "execute_result"
    }
   ],
   "source": [
    "anxiety_sample = df.drop(drop_list, axis = 0)\n",
    "anxiety_sample"
   ]
  },
  {
   "cell_type": "code",
   "execution_count": 13,
   "metadata": {},
   "outputs": [],
   "source": [
    "for sentiment in anxiety_sample['sentiment']:\n",
    "    anxiety_sample['sentiment'].replace({sentiment : 'anxiety'}, inplace=True)"
   ]
  },
  {
   "cell_type": "code",
   "execution_count": 14,
   "metadata": {},
   "outputs": [],
   "source": [
    "control_list = []\n",
    "for a in range(45884):\n",
    "    if df.at[a, 'subreddit.name'] == 'anxiety':\n",
    "        control_list.append(a)"
   ]
  },
  {
   "cell_type": "code",
   "execution_count": 19,
   "metadata": {},
   "outputs": [
    {
     "data": {
      "text/html": [
       "<div>\n",
       "<style scoped>\n",
       "    .dataframe tbody tr th:only-of-type {\n",
       "        vertical-align: middle;\n",
       "    }\n",
       "\n",
       "    .dataframe tbody tr th {\n",
       "        vertical-align: top;\n",
       "    }\n",
       "\n",
       "    .dataframe thead th {\n",
       "        text-align: right;\n",
       "    }\n",
       "</style>\n",
       "<table border=\"1\" class=\"dataframe\">\n",
       "  <thead>\n",
       "    <tr style=\"text-align: right;\">\n",
       "      <th></th>\n",
       "      <th>Unnamed: 0</th>\n",
       "      <th>subreddit.name</th>\n",
       "      <th>created_utc</th>\n",
       "      <th>body</th>\n",
       "      <th>sentiment</th>\n",
       "    </tr>\n",
       "  </thead>\n",
       "  <tbody>\n",
       "    <tr>\n",
       "      <th>21690</th>\n",
       "      <td>10588883</td>\n",
       "      <td>suicidewatch</td>\n",
       "      <td>1605974727</td>\n",
       "      <td>huh see okay feel way good someone life make s...</td>\n",
       "      <td>0.9794</td>\n",
       "    </tr>\n",
       "    <tr>\n",
       "      <th>6317</th>\n",
       "      <td>3925243</td>\n",
       "      <td>covid19_support</td>\n",
       "      <td>1626527115</td>\n",
       "      <td>unlikely impossible terms long covid virus get...</td>\n",
       "      <td>-0.7684</td>\n",
       "    </tr>\n",
       "    <tr>\n",
       "      <th>18203</th>\n",
       "      <td>9307965</td>\n",
       "      <td>covid19_support</td>\n",
       "      <td>1609360743</td>\n",
       "      <td>whole family gone since covid far planning</td>\n",
       "      <td>0.0000</td>\n",
       "    </tr>\n",
       "    <tr>\n",
       "      <th>9557</th>\n",
       "      <td>5599591</td>\n",
       "      <td>covid19_support</td>\n",
       "      <td>1620458129</td>\n",
       "      <td>went worrying high risk parents kept checking ...</td>\n",
       "      <td>0.9628</td>\n",
       "    </tr>\n",
       "    <tr>\n",
       "      <th>22967</th>\n",
       "      <td>11049139</td>\n",
       "      <td>depression</td>\n",
       "      <td>1604808188</td>\n",
       "      <td>generally tried connecting people classes get ...</td>\n",
       "      <td>-0.7208</td>\n",
       "    </tr>\n",
       "    <tr>\n",
       "      <th>...</th>\n",
       "      <td>...</td>\n",
       "      <td>...</td>\n",
       "      <td>...</td>\n",
       "      <td>...</td>\n",
       "      <td>...</td>\n",
       "    </tr>\n",
       "    <tr>\n",
       "      <th>2848</th>\n",
       "      <td>1897626</td>\n",
       "      <td>covid19_support</td>\n",
       "      <td>1630639480</td>\n",
       "      <td>yep thing happened sis fully vaccinated caught...</td>\n",
       "      <td>0.2960</td>\n",
       "    </tr>\n",
       "    <tr>\n",
       "      <th>29670</th>\n",
       "      <td>13242589</td>\n",
       "      <td>covid19_support</td>\n",
       "      <td>1598049117</td>\n",
       "      <td>know feel mourning life covid</td>\n",
       "      <td>-0.4404</td>\n",
       "    </tr>\n",
       "    <tr>\n",
       "      <th>2756</th>\n",
       "      <td>1826372</td>\n",
       "      <td>covid19_support</td>\n",
       "      <td>1630779425</td>\n",
       "      <td>hate agree covidiot husband anything test woul...</td>\n",
       "      <td>0.9636</td>\n",
       "    </tr>\n",
       "    <tr>\n",
       "      <th>12464</th>\n",
       "      <td>6981685</td>\n",
       "      <td>suicidewatch</td>\n",
       "      <td>1616304975</td>\n",
       "      <td>yes diagnosed adhd recently able get treated d...</td>\n",
       "      <td>-0.8969</td>\n",
       "    </tr>\n",
       "    <tr>\n",
       "      <th>43471</th>\n",
       "      <td>17048719</td>\n",
       "      <td>covid19_support</td>\n",
       "      <td>1585781609</td>\n",
       "      <td>couple friends extreme describe allow wiggle r...</td>\n",
       "      <td>0.8652</td>\n",
       "    </tr>\n",
       "  </tbody>\n",
       "</table>\n",
       "<p>16689 rows × 5 columns</p>\n",
       "</div>"
      ],
      "text/plain": [
       "       Unnamed: 0   subreddit.name  created_utc  \\\n",
       "21690    10588883     suicidewatch   1605974727   \n",
       "6317      3925243  covid19_support   1626527115   \n",
       "18203     9307965  covid19_support   1609360743   \n",
       "9557      5599591  covid19_support   1620458129   \n",
       "22967    11049139       depression   1604808188   \n",
       "...           ...              ...          ...   \n",
       "2848      1897626  covid19_support   1630639480   \n",
       "29670    13242589  covid19_support   1598049117   \n",
       "2756      1826372  covid19_support   1630779425   \n",
       "12464     6981685     suicidewatch   1616304975   \n",
       "43471    17048719  covid19_support   1585781609   \n",
       "\n",
       "                                                    body  sentiment  \n",
       "21690  huh see okay feel way good someone life make s...     0.9794  \n",
       "6317   unlikely impossible terms long covid virus get...    -0.7684  \n",
       "18203         whole family gone since covid far planning     0.0000  \n",
       "9557   went worrying high risk parents kept checking ...     0.9628  \n",
       "22967  generally tried connecting people classes get ...    -0.7208  \n",
       "...                                                  ...        ...  \n",
       "2848   yep thing happened sis fully vaccinated caught...     0.2960  \n",
       "29670                      know feel mourning life covid    -0.4404  \n",
       "2756   hate agree covidiot husband anything test woul...     0.9636  \n",
       "12464  yes diagnosed adhd recently able get treated d...    -0.8969  \n",
       "43471  couple friends extreme describe allow wiggle r...     0.8652  \n",
       "\n",
       "[16689 rows x 5 columns]"
      ]
     },
     "execution_count": 19,
     "metadata": {},
     "output_type": "execute_result"
    }
   ],
   "source": [
    "anxiety_control = df.drop(control_list, axis = 0)\n",
    "anxiety_control = anxiety_control.sample(16689)\n",
    "anxiety_control"
   ]
  },
  {
   "cell_type": "code",
   "execution_count": 20,
   "metadata": {},
   "outputs": [],
   "source": [
    "for sentiment in anxiety_control['sentiment']:\n",
    "    anxiety_control['sentiment'].replace({sentiment : 'control'}, inplace=True)"
   ]
  },
  {
   "cell_type": "code",
   "execution_count": 17,
   "metadata": {},
   "outputs": [
    {
     "data": {
      "text/html": [
       "<div>\n",
       "<style scoped>\n",
       "    .dataframe tbody tr th:only-of-type {\n",
       "        vertical-align: middle;\n",
       "    }\n",
       "\n",
       "    .dataframe tbody tr th {\n",
       "        vertical-align: top;\n",
       "    }\n",
       "\n",
       "    .dataframe thead th {\n",
       "        text-align: right;\n",
       "    }\n",
       "</style>\n",
       "<table border=\"1\" class=\"dataframe\">\n",
       "  <thead>\n",
       "    <tr style=\"text-align: right;\">\n",
       "      <th></th>\n",
       "      <th>Unnamed: 0</th>\n",
       "      <th>subreddit.name</th>\n",
       "      <th>created_utc</th>\n",
       "      <th>body</th>\n",
       "      <th>sentiment</th>\n",
       "    </tr>\n",
       "  </thead>\n",
       "  <tbody>\n",
       "    <tr>\n",
       "      <th>1</th>\n",
       "      <td>967</td>\n",
       "      <td>anxiety</td>\n",
       "      <td>1635203988</td>\n",
       "      <td>currently half months pregnant also covid suff...</td>\n",
       "      <td>anxiety</td>\n",
       "    </tr>\n",
       "    <tr>\n",
       "      <th>2</th>\n",
       "      <td>1142</td>\n",
       "      <td>anxiety</td>\n",
       "      <td>1635203613</td>\n",
       "      <td>people covid building refused get vaccinated</td>\n",
       "      <td>anxiety</td>\n",
       "    </tr>\n",
       "    <tr>\n",
       "      <th>7</th>\n",
       "      <td>5439</td>\n",
       "      <td>anxiety</td>\n",
       "      <td>1635193321</td>\n",
       "      <td>surrounded anti covid vax people mine also sec...</td>\n",
       "      <td>anxiety</td>\n",
       "    </tr>\n",
       "    <tr>\n",
       "      <th>8</th>\n",
       "      <td>5753</td>\n",
       "      <td>anxiety</td>\n",
       "      <td>1635192653</td>\n",
       "      <td>wow found sub reddit today really ever reddit ...</td>\n",
       "      <td>anxiety</td>\n",
       "    </tr>\n",
       "    <tr>\n",
       "      <th>12</th>\n",
       "      <td>7513</td>\n",
       "      <td>anxiety</td>\n",
       "      <td>1635188671</td>\n",
       "      <td>fine study results shown amp plus moderna comb...</td>\n",
       "      <td>anxiety</td>\n",
       "    </tr>\n",
       "    <tr>\n",
       "      <th>...</th>\n",
       "      <td>...</td>\n",
       "      <td>...</td>\n",
       "      <td>...</td>\n",
       "      <td>...</td>\n",
       "      <td>...</td>\n",
       "    </tr>\n",
       "    <tr>\n",
       "      <th>5510</th>\n",
       "      <td>3413526</td>\n",
       "      <td>covid19_support</td>\n",
       "      <td>1627753110</td>\n",
       "      <td>still possibility catch covid less severe prob...</td>\n",
       "      <td>control</td>\n",
       "    </tr>\n",
       "    <tr>\n",
       "      <th>42478</th>\n",
       "      <td>16725260</td>\n",
       "      <td>depression</td>\n",
       "      <td>1586756648</td>\n",
       "      <td>jesus mean may cake help attracted compulsive ...</td>\n",
       "      <td>control</td>\n",
       "    </tr>\n",
       "    <tr>\n",
       "      <th>24010</th>\n",
       "      <td>11466594</td>\n",
       "      <td>covid19_support</td>\n",
       "      <td>1603645200</td>\n",
       "      <td>also wisconsin sympathize level anxiety talkin...</td>\n",
       "      <td>control</td>\n",
       "    </tr>\n",
       "    <tr>\n",
       "      <th>26990</th>\n",
       "      <td>12488733</td>\n",
       "      <td>depression</td>\n",
       "      <td>1600548422</td>\n",
       "      <td>think manage never home alone covid always som...</td>\n",
       "      <td>control</td>\n",
       "    </tr>\n",
       "    <tr>\n",
       "      <th>16639</th>\n",
       "      <td>8744478</td>\n",
       "      <td>covid19_support</td>\n",
       "      <td>1610830459</td>\n",
       "      <td>lived someone positive meaning around breathin...</td>\n",
       "      <td>control</td>\n",
       "    </tr>\n",
       "  </tbody>\n",
       "</table>\n",
       "<p>33378 rows × 5 columns</p>\n",
       "</div>"
      ],
      "text/plain": [
       "       Unnamed: 0   subreddit.name  created_utc  \\\n",
       "1             967          anxiety   1635203988   \n",
       "2            1142          anxiety   1635203613   \n",
       "7            5439          anxiety   1635193321   \n",
       "8            5753          anxiety   1635192653   \n",
       "12           7513          anxiety   1635188671   \n",
       "...           ...              ...          ...   \n",
       "5510      3413526  covid19_support   1627753110   \n",
       "42478    16725260       depression   1586756648   \n",
       "24010    11466594  covid19_support   1603645200   \n",
       "26990    12488733       depression   1600548422   \n",
       "16639     8744478  covid19_support   1610830459   \n",
       "\n",
       "                                                    body sentiment  \n",
       "1      currently half months pregnant also covid suff...   anxiety  \n",
       "2           people covid building refused get vaccinated   anxiety  \n",
       "7      surrounded anti covid vax people mine also sec...   anxiety  \n",
       "8      wow found sub reddit today really ever reddit ...   anxiety  \n",
       "12     fine study results shown amp plus moderna comb...   anxiety  \n",
       "...                                                  ...       ...  \n",
       "5510   still possibility catch covid less severe prob...   control  \n",
       "42478  jesus mean may cake help attracted compulsive ...   control  \n",
       "24010  also wisconsin sympathize level anxiety talkin...   control  \n",
       "26990  think manage never home alone covid always som...   control  \n",
       "16639  lived someone positive meaning around breathin...   control  \n",
       "\n",
       "[33378 rows x 5 columns]"
      ]
     },
     "execution_count": 17,
     "metadata": {},
     "output_type": "execute_result"
    }
   ],
   "source": [
    "anxiety_dataset = pd.concat([anxiety_sample, anxiety_control])\n",
    "anxiety_dataset"
   ]
  },
  {
   "cell_type": "code",
   "execution_count": 22,
   "metadata": {},
   "outputs": [],
   "source": [
    "from sklearn.model_selection import train_test_split"
   ]
  },
  {
   "cell_type": "code",
   "execution_count": 23,
   "metadata": {
    "scrolled": true
   },
   "outputs": [
    {
     "name": "stdout",
     "output_type": "stream",
     "text": [
      "Train Data size: 26702\n",
      "Test Data size 6676\n"
     ]
    }
   ],
   "source": [
    " # Splits Dataset into Training and Testing set\n",
    "train_size = 0.8\n",
    "train_data, test_data = train_test_split(anxiety_dataset, test_size=1-train_size, random_state=42, shuffle=True)\n",
    "print(\"Train Data size:\", len(train_data))\n",
    "print(\"Test Data size\", len(test_data))"
   ]
  },
  {
   "cell_type": "code",
   "execution_count": 24,
   "metadata": {},
   "outputs": [],
   "source": [
    "from sklearn.feature_extraction.text import TfidfVectorizer"
   ]
  },
  {
   "cell_type": "code",
   "execution_count": 25,
   "metadata": {},
   "outputs": [],
   "source": [
    "vectorizer = TfidfVectorizer(max_features=14000,\n",
    "                             min_df = 5,\n",
    "                             max_df = 0.8,\n",
    "                             sublinear_tf = True,\n",
    "                             use_idf = True)\n",
    "vectorizer.fit(train_data.body.to_list())\n",
    "x_train = vectorizer.transform(train_data.body.to_list())\n",
    "x_test = vectorizer.transform(test_data.body.to_list())"
   ]
  },
  {
   "cell_type": "code",
   "execution_count": 26,
   "metadata": {},
   "outputs": [
    {
     "name": "stdout",
     "output_type": "stream",
     "text": [
      "anxiety_train Shape: (26702, 11309)\n",
      "anxiety_test Shape: (6676, 11309)\n"
     ]
    }
   ],
   "source": [
    "print(\"anxiety_train Shape:\",x_train.shape)\n",
    "print(\"anxiety_test Shape:\",x_test.shape)"
   ]
  },
  {
   "cell_type": "code",
   "execution_count": 27,
   "metadata": {},
   "outputs": [],
   "source": [
    "from sklearn.preprocessing import LabelEncoder"
   ]
  },
  {
   "cell_type": "code",
   "execution_count": 28,
   "metadata": {},
   "outputs": [
    {
     "name": "stdout",
     "output_type": "stream",
     "text": [
      "y_train shape: (26702, 1)\n",
      "y_test shape: (6676, 1)\n"
     ]
    }
   ],
   "source": [
    "encoder = LabelEncoder() #https://scikit-learn.org/stable/modules/generated/sklearn.preprocessing.LabelEncoder.html\n",
    "encoder.fit(train_data.sentiment.to_list())\n",
    "\n",
    "y_train = encoder.transform(train_data.sentiment.to_list())\n",
    "y_test = encoder.transform(test_data.sentiment.to_list())\n",
    "\n",
    "y_train = y_train.reshape(-1,1)\n",
    "y_test = y_test.reshape(-1,1)\n",
    "\n",
    "print(\"y_train shape:\", y_train.shape)\n",
    "print(\"y_test shape:\", y_test.shape)"
   ]
  },
  {
   "cell_type": "code",
   "execution_count": 74,
   "metadata": {},
   "outputs": [],
   "source": [
    "import time\n",
    "from sklearn import svm\n",
    "from sklearn.metrics import classification_report\n",
    "from sklearn import metrics"
   ]
  },
  {
   "cell_type": "code",
   "execution_count": 30,
   "metadata": {},
   "outputs": [
    {
     "name": "stdout",
     "output_type": "stream",
     "text": [
      "Training time: 347.813413s; Prediction time: 40.399346s\n",
      "Accuracy: 0.7778609946075494\n",
      "control:  {'precision': 0.814, 'recall': 0.7252747252747253, 'f1-score': 0.7670802575781372, 'support': 3367}\n",
      "anxiety:  {'precision': 0.7483677910772579, 'recall': 0.8313689936536718, 'f1-score': 0.7876879026485326, 'support': 3309}\n"
     ]
    }
   ],
   "source": [
    "# Perform classification with SVM, kernel=linear\n",
    "anxiety_classifier = svm.SVC(kernel='linear')\n",
    "t0 = time.time()\n",
    "anxiety_classifier.fit(x_train, y_train.ravel())\n",
    "t1 = time.time()\n",
    "prediction_linear = anxiety_classifier.predict(x_test)\n",
    "t2 = time.time()\n",
    "time_linear_train = t1-t0\n",
    "time_linear_predict = t2-t1\n",
    "\n",
    "labels = [0.0, 1.0]\n",
    "target_names = ['control', 'anxiety']\n",
    "\n",
    "# results\n",
    "print(\"Training time: %fs; Prediction time: %fs\" % (time_linear_train, time_linear_predict))\n",
    "\n",
    "report = classification_report(y_test, prediction_linear, labels = labels, target_names = target_names, output_dict=True)\n",
    "\n",
    "print(\"Accuracy:\", metrics.accuracy_score(y_test, prediction_linear))\n",
    "\n",
    "print('control: ', report['control'])\n",
    "print('anxiety: ', report['anxiety'])"
   ]
  },
  {
   "cell_type": "code",
   "execution_count": null,
   "metadata": {},
   "outputs": [],
   "source": []
  },
  {
   "cell_type": "markdown",
   "metadata": {},
   "source": [
    "## Feature Importance"
   ]
  },
  {
   "cell_type": "code",
   "execution_count": 342,
   "metadata": {},
   "outputs": [],
   "source": [
    "def Average(lst):\n",
    "    if len(lst) == 0:\n",
    "        return 0\n",
    "    else:\n",
    "        return sum(lst) / len(lst)"
   ]
  },
  {
   "cell_type": "code",
   "execution_count": 343,
   "metadata": {},
   "outputs": [],
   "source": [
    "def f_importances(coef, names):\n",
    "    coef_list = []\n",
    "    name_list=[]\n",
    "    for x in range(len(vectorizer.get_feature_names())):\n",
    "        if  vectorizer.get_feature_names()[x] in names:\n",
    "            print(vectorizer.get_feature_names()[x])\n",
    "            coef_list.append(abs(coef[x]))\n",
    "            name_list.append(vectorizer.get_feature_names()[x])\n",
    "    imp = np.array(coef_list)\n",
    "    print(Average(coef_list))\n",
    "    imp,name_list = zip(*sorted(zip(imp,name_list)))\n",
    "    plt.barh(range(len(name_list)), imp, align='center')\n",
    "    plt.yticks(range(len(name_list)), name_list)\n",
    "    plt.show()"
   ]
  },
  {
   "cell_type": "code",
   "execution_count": 344,
   "metadata": {},
   "outputs": [
    {
     "name": "stdout",
     "output_type": "stream",
     "text": [
      "corona\n",
      "coronavirus\n",
      "distancing\n",
      "epidemic\n",
      "immune\n",
      "infect\n",
      "isolation\n",
      "lockdown\n",
      "mask\n",
      "outbreak\n",
      "pandemic\n",
      "quarantine\n",
      "symptomatic\n",
      "transmission\n",
      "vaccine\n",
      "ventilator\n",
      "viral\n",
      "virus\n",
      "0.5964368580141453\n"
     ]
    },
    {
     "data": {
      "image/png": "[encoded data removed]",
      "text/plain": [
       "<Figure size 576x432 with 1 Axes>"
      ]
     },
     "metadata": {
      "needs_background": "light"
     },
     "output_type": "display_data"
    }
   ],
   "source": [
    "features_names = ['corona', \n",
    "                  'virus', \n",
    "                  'viral', \n",
    "                  'covid', \n",
    "                  'pandemic', \n",
    "                  'epidemic', \n",
    "                  'quarantine', \n",
    "                  'lockdown',\n",
    "                  'distancing',  \n",
    "                  'infect', \n",
    "                  'ventilator', \n",
    "                  'mask', \n",
    "                  'symptomatic', \n",
    "                  'immune', \n",
    "                  'transmission', \n",
    "                  'vaccine',\n",
    "                  'coronavirus',\n",
    "                  'covid-19',\n",
    "                  'outbreak',\n",
    "                  'isolation']\n",
    "plt.figure(figsize=(8,6))\n",
    "plt.title('COVID-19 Terms Feature Importance', fontsize = 17)\n",
    "plt.xlabel('Feature Weight', fontsize = 14)\n",
    "plt.ylabel('COVID-19 Terms', fontsize = 14)\n",
    "f_importances(classifier_linear.coef_.toarray()[0], features_names)\n"
   ]
  },
  {
   "cell_type": "code",
   "execution_count": 345,
   "metadata": {},
   "outputs": [
    {
     "name": "stdout",
     "output_type": "stream",
     "text": [
      "debt\n",
      "economy\n",
      "eviction\n",
      "income\n",
      "job\n",
      "mortgage\n",
      "rent\n",
      "salary\n",
      "wage\n",
      "0.37768273368621164\n"
     ]
    },
    {
     "data": {
      "image/png": "[encoded data removed]",
      "text/plain": [
       "<Figure size 432x288 with 1 Axes>"
      ]
     },
     "metadata": {
      "needs_background": "light"
     },
     "output_type": "display_data"
    }
   ],
   "source": [
    "economy_features = ['Unemploy',\n",
    "                    'rent',\n",
    "                    'mortgage',\n",
    "                         'economy',\n",
    "                         'debt',\n",
    "                         'salary', \n",
    "                          'wage', \n",
    "                          'income', \n",
    "                          'job', \n",
    "                          'eviction',\n",
    "                         ]\n",
    "plt.title('Economic Stress Terms Feature Importance', fontsize = 17)\n",
    "plt.xlabel('Feature Weight', fontsize = 14)\n",
    "plt.ylabel('Economic Stress Terms', fontsize = 14)\n",
    "f_importances(classifier_linear.coef_.toarray()[0], economy_features)"
   ]
  },
  {
   "cell_type": "code",
   "execution_count": 346,
   "metadata": {},
   "outputs": [
    {
     "name": "stdout",
     "output_type": "stream",
     "text": [
      "abandoned\n",
      "alone\n",
      "avoid\n",
      "isolated\n",
      "isolation\n",
      "loneliness\n",
      "lonely\n",
      "quarantine\n",
      "rejected\n",
      "trapped\n",
      "1.1156286024055224\n"
     ]
    },
    {
     "data": {
      "image/png": "[encoded data removed]",
      "text/plain": [
       "<Figure size 432x288 with 1 Axes>"
      ]
     },
     "metadata": {
      "needs_background": "light"
     },
     "output_type": "display_data"
    }
   ],
   "source": [
    "isolation_features = ['alone', 'lonely',  'trapped', 'rejected', 'avoid', 'abandoned', 'isolation', 'loneliness',  'isolated', 'quarantine']\n",
    "\n",
    "plt.title('Isolation Terms Feature Importance', fontsize = 17)\n",
    "plt.xlabel('Feature Weight', fontsize = 14)\n",
    "plt.ylabel('Isolation Terms', fontsize = 14)\n",
    "f_importances(classifier_linear.coef_.toarray()[0], isolation_features)"
   ]
  },
  {
   "cell_type": "code",
   "execution_count": 347,
   "metadata": {},
   "outputs": [
    {
     "name": "stdout",
     "output_type": "stream",
     "text": [
      "abuse\n",
      "divorce\n",
      "domestic\n",
      "fight\n",
      "hit\n",
      "slap\n",
      "strike\n",
      "violence\n",
      "yelling\n",
      "0.31425363961896013\n"
     ]
    },
    {
     "data": {
      "image/png": "[encoded data removed]",
      "text/plain": [
       "<Figure size 432x288 with 1 Axes>"
      ]
     },
     "metadata": {
      "needs_background": "light"
     },
     "output_type": "display_data"
    }
   ],
   "source": [
    "domestic_stress_features = ['divorce', 'abuse', 'yelling',  'fight', 'slap', 'hit', 'strike', 'domestic', 'violence']\n",
    "plt.title('Domestic Stress Terms Feature Importance', fontsize = 17)\n",
    "plt.xlabel('Feature Weight', fontsize = 14)\n",
    "plt.ylabel('Domestic Stress Terms', fontsize = 14)\n",
    "f_importances(classifier_linear.coef_.toarray()[0], domestic_stress_features)"
   ]
  },
  {
   "cell_type": "code",
   "execution_count": 348,
   "metadata": {},
   "outputs": [
    {
     "name": "stdout",
     "output_type": "stream",
     "text": [
      "burden\n",
      "die\n",
      "hang\n",
      "hopeless\n",
      "hurt\n",
      "kill\n",
      "morbid\n",
      "shoot\n",
      "suicidal\n",
      "suicide\n",
      "0.8571300479192192\n"
     ]
    },
    {
     "data": {
      "image/png": "[encoded data removed]",
      "text/plain": [
       "<Figure size 432x288 with 1 Axes>"
      ]
     },
     "metadata": {
      "needs_background": "light"
     },
     "output_type": "display_data"
    }
   ],
   "source": [
    "suicidality_features = [ 'hopeless', 'suicide', 'shoot', 'kill', 'suicidal', 'morbid', 'hurt', 'burden', 'hang', 'die']\n",
    "plt.title('Suicidality Terms Feature Importance', fontsize = 17)\n",
    "plt.xlabel('Feature Weight', fontsize = 14)\n",
    "plt.ylabel('Suicidality Terms', fontsize = 14)\n",
    "f_importances(classifier_linear.coef_.toarray()[0], suicidality_features)"
   ]
  },
  {
   "cell_type": "code",
   "execution_count": 7,
   "metadata": {},
   "outputs": [
    {
     "data": {
      "image/png": "[encoded data removed]",
      "text/plain": [
       "<Figure size 432x288 with 1 Axes>"
      ]
     },
     "metadata": {
      "needs_background": "light"
     },
     "output_type": "display_data"
    }
   ],
   "source": [
    "average_dict = {'Suicidality Terms': 0.8571300479192192, 'Domestic Stress Terms': 0.31425363961896013, 'Isolation Terms': 1.1156286024055224, 'COVID-19 Terms': 0.5964368580141453, 'Economic Stress Terms': 0.37768273368621164}\n",
    "\n",
    "names = average_dict.keys()\n",
    "imp = average_dict.values()\n",
    "imp,names = zip(*sorted(zip(imp,names)))\n",
    "plt.barh(range(len(names)), imp, align='center')\n",
    "plt.yticks(range(len(names)), names)\n",
    "plt.title('Average Feature Importance of Key Terms', fontsize = 17)\n",
    "plt.xlabel('Average Feature Weight', fontsize = 14)\n",
    "plt.ylabel('Groups of Terms', fontsize = 14)\n",
    "plt.show()"
   ]
  },
  {
   "cell_type": "code",
   "execution_count": 196,
   "metadata": {},
   "outputs": [],
   "source": [
    "from sklearn.feature_extraction.text import CountVectorizer\n",
    "from sklearn.svm import LinearSVC"
   ]
  }
 ],
 "metadata": {
  "kernelspec": {
   "display_name": "Python 3 (ipykernel)",
   "language": "python",
   "name": "python3"
  },
  "language_info": {
   "codemirror_mode": {
    "name": "ipython",
    "version": 3
   },
   "file_extension": ".py",
   "mimetype": "text/x-python",
   "name": "python",
   "nbconvert_exporter": "python",
   "pygments_lexer": "ipython3",
   "version": "3.11.2"
  }
 },
 "nbformat": 4,
 "nbformat_minor": 4
}
