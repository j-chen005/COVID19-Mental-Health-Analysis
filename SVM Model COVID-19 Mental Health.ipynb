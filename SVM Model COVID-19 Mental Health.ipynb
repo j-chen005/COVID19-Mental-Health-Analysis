{
 "cells": [
  {
   "cell_type": "code",
   "execution_count": 3,
   "metadata": {},
   "outputs": [
    {
     "name": "stderr",
     "output_type": "stream",
     "text": [
      "[nltk_data] Downloading package stopwords to\n",
      "[nltk_data]     /Users/justinchen/nltk_data...\n",
      "[nltk_data]   Package stopwords is already up-to-date!\n"
     ]
    }
   ],
   "source": [
    "import pandas as pd\n",
    "from collections import Counter\n",
    "import numpy as np\n",
    "import math\n",
    "import nltk\n",
    "nltk.download('stopwords')\n",
    "from nltk.corpus import stopwords\n",
    "from nltk.stem import SnowballStemmer\n",
    "%matplotlib inline\n",
    "import matplotlib.pyplot as plt"
   ]
  },
  {
   "cell_type": "code",
   "execution_count": 4,
   "metadata": {},
   "outputs": [],
   "source": [
    "df = pd.read_csv('/Users/justinchen/Desktop/AARD Datasets/mental_health_subreddits_dataset.csv')"
   ]
  },
  {
   "cell_type": "code",
   "execution_count": 41,
   "metadata": {},
   "outputs": [
    {
     "data": {
      "text/html": [
       "<div>\n",
       "<style scoped>\n",
       "    .dataframe tbody tr th:only-of-type {\n",
       "        vertical-align: middle;\n",
       "    }\n",
       "\n",
       "    .dataframe tbody tr th {\n",
       "        vertical-align: top;\n",
       "    }\n",
       "\n",
       "    .dataframe thead th {\n",
       "        text-align: right;\n",
       "    }\n",
       "</style>\n",
       "<table border=\"1\" class=\"dataframe\">\n",
       "  <thead>\n",
       "    <tr style=\"text-align: right;\">\n",
       "      <th></th>\n",
       "      <th>Unnamed: 0</th>\n",
       "      <th>subreddit.name</th>\n",
       "      <th>created_utc</th>\n",
       "      <th>body</th>\n",
       "      <th>sentiment</th>\n",
       "    </tr>\n",
       "  </thead>\n",
       "  <tbody>\n",
       "    <tr>\n",
       "      <th>45879</th>\n",
       "      <td>17777050</td>\n",
       "      <td>anxiety</td>\n",
       "      <td>1581473713</td>\n",
       "      <td>It is quite interesting, in terms of somewhat ...</td>\n",
       "      <td>-0.9256</td>\n",
       "    </tr>\n",
       "    <tr>\n",
       "      <th>45880</th>\n",
       "      <td>17777094</td>\n",
       "      <td>anxiety</td>\n",
       "      <td>1581466598</td>\n",
       "      <td>Stay focused on what the experts are saying an...</td>\n",
       "      <td>0.7430</td>\n",
       "    </tr>\n",
       "    <tr>\n",
       "      <th>45881</th>\n",
       "      <td>17777113</td>\n",
       "      <td>anxiety</td>\n",
       "      <td>1581463547</td>\n",
       "      <td>No new COVID-19 cases in B.C., 4 confirmed pat...</td>\n",
       "      <td>-0.1531</td>\n",
       "    </tr>\n",
       "    <tr>\n",
       "      <th>45882</th>\n",
       "      <td>17777197</td>\n",
       "      <td>mentalhealth</td>\n",
       "      <td>1581454025</td>\n",
       "      <td>Hi mate, as someone with GAD I can relate to y...</td>\n",
       "      <td>0.5332</td>\n",
       "    </tr>\n",
       "    <tr>\n",
       "      <th>45883</th>\n",
       "      <td>17777368</td>\n",
       "      <td>anxiety</td>\n",
       "      <td>1581071322</td>\n",
       "      <td>***MORE UPDATES  ON MY OTHER COMMENT ON THIS T...</td>\n",
       "      <td>0.9325</td>\n",
       "    </tr>\n",
       "  </tbody>\n",
       "</table>\n",
       "</div>"
      ],
      "text/plain": [
       "       Unnamed: 0 subreddit.name  created_utc  \\\n",
       "45879    17777050        anxiety   1581473713   \n",
       "45880    17777094        anxiety   1581466598   \n",
       "45881    17777113        anxiety   1581463547   \n",
       "45882    17777197   mentalhealth   1581454025   \n",
       "45883    17777368        anxiety   1581071322   \n",
       "\n",
       "                                                    body  sentiment  \n",
       "45879  It is quite interesting, in terms of somewhat ...    -0.9256  \n",
       "45880  Stay focused on what the experts are saying an...     0.7430  \n",
       "45881  No new COVID-19 cases in B.C., 4 confirmed pat...    -0.1531  \n",
       "45882  Hi mate, as someone with GAD I can relate to y...     0.5332  \n",
       "45883  ***MORE UPDATES  ON MY OTHER COMMENT ON THIS T...     0.9325  "
      ]
     },
     "execution_count": 41,
     "metadata": {},
     "output_type": "execute_result"
    }
   ],
   "source": [
    "df.tail()"
   ]
  },
  {
   "cell_type": "code",
   "execution_count": 6,
   "metadata": {},
   "outputs": [
    {
     "data": {
      "text/html": [
       "<div>\n",
       "<style scoped>\n",
       "    .dataframe tbody tr th:only-of-type {\n",
       "        vertical-align: middle;\n",
       "    }\n",
       "\n",
       "    .dataframe tbody tr th {\n",
       "        vertical-align: top;\n",
       "    }\n",
       "\n",
       "    .dataframe thead th {\n",
       "        text-align: right;\n",
       "    }\n",
       "</style>\n",
       "<table border=\"1\" class=\"dataframe\">\n",
       "  <thead>\n",
       "    <tr style=\"text-align: right;\">\n",
       "      <th></th>\n",
       "      <th>Unnamed: 0</th>\n",
       "      <th>subreddit.name</th>\n",
       "      <th>created_utc</th>\n",
       "      <th>body</th>\n",
       "      <th>sentiment</th>\n",
       "    </tr>\n",
       "  </thead>\n",
       "  <tbody>\n",
       "    <tr>\n",
       "      <th>41102</th>\n",
       "      <td>16344388</td>\n",
       "      <td>anxiety</td>\n",
       "      <td>1588003340</td>\n",
       "      <td>Anyone concerned about inflation because of th...</td>\n",
       "      <td>0.0000</td>\n",
       "    </tr>\n",
       "    <tr>\n",
       "      <th>31025</th>\n",
       "      <td>13599101</td>\n",
       "      <td>suicidewatch</td>\n",
       "      <td>1596945584</td>\n",
       "      <td>Depression and addictive personalities run in ...</td>\n",
       "      <td>-0.8074</td>\n",
       "    </tr>\n",
       "    <tr>\n",
       "      <th>14346</th>\n",
       "      <td>7803673</td>\n",
       "      <td>suicidewatch</td>\n",
       "      <td>1613659303</td>\n",
       "      <td>First off you do music so you’re obviously coo...</td>\n",
       "      <td>0.9295</td>\n",
       "    </tr>\n",
       "    <tr>\n",
       "      <th>22805</th>\n",
       "      <td>10987330</td>\n",
       "      <td>anxiety</td>\n",
       "      <td>1604980834</td>\n",
       "      <td>No medication. I've barely done exercise and h...</td>\n",
       "      <td>-0.7351</td>\n",
       "    </tr>\n",
       "    <tr>\n",
       "      <th>25399</th>\n",
       "      <td>11933425</td>\n",
       "      <td>anxiety</td>\n",
       "      <td>1602165803</td>\n",
       "      <td>Your post has **not** been removed or flagged....</td>\n",
       "      <td>0.7635</td>\n",
       "    </tr>\n",
       "  </tbody>\n",
       "</table>\n",
       "</div>"
      ],
      "text/plain": [
       "       Unnamed: 0 subreddit.name  created_utc  \\\n",
       "41102    16344388        anxiety   1588003340   \n",
       "31025    13599101   suicidewatch   1596945584   \n",
       "14346     7803673   suicidewatch   1613659303   \n",
       "22805    10987330        anxiety   1604980834   \n",
       "25399    11933425        anxiety   1602165803   \n",
       "\n",
       "                                                    body  sentiment  \n",
       "41102  Anyone concerned about inflation because of th...     0.0000  \n",
       "31025  Depression and addictive personalities run in ...    -0.8074  \n",
       "14346  First off you do music so you’re obviously coo...     0.9295  \n",
       "22805  No medication. I've barely done exercise and h...    -0.7351  \n",
       "25399  Your post has **not** been removed or flagged....     0.7635  "
      ]
     },
     "execution_count": 6,
     "metadata": {},
     "output_type": "execute_result"
    }
   ],
   "source": [
    "sample = df.sample(20000)\n",
    "sample.head()"
   ]
  },
  {
   "cell_type": "code",
   "execution_count": 7,
   "metadata": {},
   "outputs": [
    {
     "data": {
      "text/plain": [
       "Counter({'anxiety': 7290,\n",
       "         'SuicideWatch': 1768,\n",
       "         'depression': 2591,\n",
       "         'COVID19_support': 6903,\n",
       "         'mentalhealth': 1448})"
      ]
     },
     "execution_count": 7,
     "metadata": {},
     "output_type": "execute_result"
    }
   ],
   "source": [
    "count = Counter()\n",
    "for index, row in sample.iterrows():\n",
    "    if row['subreddit.name'] == 'anxiety':\n",
    "        count['anxiety'] += 1\n",
    "    if row['subreddit.name'] == 'depression':\n",
    "        count['depression'] += 1\n",
    "    if row['subreddit.name'] == 'suicidewatch':\n",
    "        count['SuicideWatch'] += 1\n",
    "    if row['subreddit.name'] == 'mentalhealth':\n",
    "        count['mentalhealth'] += 1\n",
    "    if row['subreddit.name'] == 'covid19_support':\n",
    "        count['COVID19_support'] += 1\n",
    "count"
   ]
  },
  {
   "cell_type": "markdown",
   "metadata": {},
   "source": [
    "## Preprocessing "
   ]
  },
  {
   "cell_type": "code",
   "execution_count": 8,
   "metadata": {},
   "outputs": [],
   "source": [
    "import re #regex library used for substituting words"
   ]
  },
  {
   "cell_type": "code",
   "execution_count": 9,
   "metadata": {},
   "outputs": [],
   "source": [
    "#removing stopwords and urls, stemming, making lowercase \n",
    "stop_words = stopwords.words('english')\n",
    "stemmer = SnowballStemmer('english')\n",
    "\n",
    "text_cleaning_re = \"@\\S+|https?:\\S+|http?:\\S|[^A-Za-z0-9]+\"\n",
    "\n",
    "def cleaning(text, stem=False):\n",
    "    text = re.sub(text_cleaning_re, ' ', str(text).lower()).strip()\n",
    "    tokens = []\n",
    "    for token in text.split():\n",
    "        if token not in stop_words:\n",
    "            if stem:\n",
    "                tokens.append(stemmer.stem(token))\n",
    "            else:\n",
    "                tokens.append(token)\n",
    "    return \" \".join(tokens)"
   ]
  },
  {
   "cell_type": "code",
   "execution_count": 10,
   "metadata": {},
   "outputs": [],
   "source": [
    "def post_cleaning(text):\n",
    "    # Remove all the special characters\n",
    "    processed_feature = re.sub(r'\\W', ' ',text)\n",
    "\n",
    "    # remove all single characters\n",
    "    processed_feature= re.sub(r'\\s+[a-zA-Z]\\s+', ' ', processed_feature)\n",
    "\n",
    "    # Remove single characters from the start\n",
    "    processed_feature = re.sub(r'\\^[a-zA-Z]\\s+', ' ', processed_feature) \n",
    "    \n",
    "    #remove digits\n",
    "    processed_feature = re.sub(\"^\\d+\\s|\\s\\d+\\s|\\s\\d+$\", \" \", processed_feature)\n",
    "\n",
    "    # Substituting multiple spaces with single space\n",
    "    processed_feature = re.sub(r'\\s+', ' ', processed_feature, flags=re.I)\n",
    "\n",
    "    return processed_feature"
   ]
  },
  {
   "cell_type": "code",
   "execution_count": 11,
   "metadata": {},
   "outputs": [],
   "source": [
    "#above functions combined\n",
    "def preprocessing(text):\n",
    "    line = cleaning(text)\n",
    "    line = post_cleaning (line)\n",
    "    return line"
   ]
  },
  {
   "cell_type": "code",
   "execution_count": 12,
   "metadata": {},
   "outputs": [],
   "source": [
    "sample.body = sample.body.apply(lambda x: preprocessing(x))"
   ]
  },
  {
   "cell_type": "code",
   "execution_count": 13,
   "metadata": {},
   "outputs": [
    {
     "data": {
      "text/html": [
       "<div>\n",
       "<style scoped>\n",
       "    .dataframe tbody tr th:only-of-type {\n",
       "        vertical-align: middle;\n",
       "    }\n",
       "\n",
       "    .dataframe tbody tr th {\n",
       "        vertical-align: top;\n",
       "    }\n",
       "\n",
       "    .dataframe thead th {\n",
       "        text-align: right;\n",
       "    }\n",
       "</style>\n",
       "<table border=\"1\" class=\"dataframe\">\n",
       "  <thead>\n",
       "    <tr style=\"text-align: right;\">\n",
       "      <th></th>\n",
       "      <th>Unnamed: 0</th>\n",
       "      <th>subreddit.name</th>\n",
       "      <th>created_utc</th>\n",
       "      <th>body</th>\n",
       "      <th>sentiment</th>\n",
       "    </tr>\n",
       "  </thead>\n",
       "  <tbody>\n",
       "    <tr>\n",
       "      <th>41102</th>\n",
       "      <td>16344388</td>\n",
       "      <td>anxiety</td>\n",
       "      <td>1588003340</td>\n",
       "      <td>anyone concerned inflation covid thing</td>\n",
       "      <td>0.0000</td>\n",
       "    </tr>\n",
       "    <tr>\n",
       "      <th>31025</th>\n",
       "      <td>13599101</td>\n",
       "      <td>suicidewatch</td>\n",
       "      <td>1596945584</td>\n",
       "      <td>depression addictive personalities run sides f...</td>\n",
       "      <td>-0.8074</td>\n",
       "    </tr>\n",
       "    <tr>\n",
       "      <th>14346</th>\n",
       "      <td>7803673</td>\n",
       "      <td>suicidewatch</td>\n",
       "      <td>1613659303</td>\n",
       "      <td>first music obviously cool second sorry going ...</td>\n",
       "      <td>0.9295</td>\n",
       "    </tr>\n",
       "    <tr>\n",
       "      <th>22805</th>\n",
       "      <td>10987330</td>\n",
       "      <td>anxiety</td>\n",
       "      <td>1604980834</td>\n",
       "      <td>medication barely done exercise rubbish diet s...</td>\n",
       "      <td>-0.7351</td>\n",
       "    </tr>\n",
       "    <tr>\n",
       "      <th>25399</th>\n",
       "      <td>11933425</td>\n",
       "      <td>anxiety</td>\n",
       "      <td>1602165803</td>\n",
       "      <td>post removed flagged see mentioned covid pleas...</td>\n",
       "      <td>0.7635</td>\n",
       "    </tr>\n",
       "  </tbody>\n",
       "</table>\n",
       "</div>"
      ],
      "text/plain": [
       "       Unnamed: 0 subreddit.name  created_utc  \\\n",
       "41102    16344388        anxiety   1588003340   \n",
       "31025    13599101   suicidewatch   1596945584   \n",
       "14346     7803673   suicidewatch   1613659303   \n",
       "22805    10987330        anxiety   1604980834   \n",
       "25399    11933425        anxiety   1602165803   \n",
       "\n",
       "                                                    body  sentiment  \n",
       "41102             anyone concerned inflation covid thing     0.0000  \n",
       "31025  depression addictive personalities run sides f...    -0.8074  \n",
       "14346  first music obviously cool second sorry going ...     0.9295  \n",
       "22805  medication barely done exercise rubbish diet s...    -0.7351  \n",
       "25399  post removed flagged see mentioned covid pleas...     0.7635  "
      ]
     },
     "execution_count": 13,
     "metadata": {},
     "output_type": "execute_result"
    }
   ],
   "source": [
    "sample.head()"
   ]
  },
  {
   "cell_type": "code",
   "execution_count": 14,
   "metadata": {},
   "outputs": [],
   "source": [
    "for sentiment in sample['sentiment']:\n",
    "    if sentiment > 0:\n",
    "        sample['sentiment'].replace({sentiment : 'positive'}, inplace=True)\n",
    "    if sentiment < 0:\n",
    "        sample['sentiment'].replace({sentiment : 'negative'}, inplace=True)\n",
    "    else:\n",
    "        sample['sentiment'].replace({sentiment : 'neutral'}, inplace=True)"
   ]
  },
  {
   "cell_type": "code",
   "execution_count": 15,
   "metadata": {},
   "outputs": [
    {
     "data": {
      "text/plain": [
       "Text(0.5, 1.0, 'Sentiment Data Distribution')"
      ]
     },
     "execution_count": 15,
     "metadata": {},
     "output_type": "execute_result"
    },
    {
     "data": {
      "image/png": "[encoded data removed]",
      "text/plain": [
       "<Figure size 576x288 with 1 Axes>"
      ]
     },
     "metadata": {
      "needs_background": "light"
     },
     "output_type": "display_data"
    }
   ],
   "source": [
    "#Graphing\n",
    "val_count = sample.sentiment.value_counts()\n",
    "plt.figure(figsize=(8,4))\n",
    "plt.bar(val_count.index, val_count.values)\n",
    "plt.title(\"Sentiment Data Distribution\")"
   ]
  },
  {
   "cell_type": "code",
   "execution_count": 39,
   "metadata": {},
   "outputs": [
    {
     "data": {
      "text/html": [
       "<div>\n",
       "<style scoped>\n",
       "    .dataframe tbody tr th:only-of-type {\n",
       "        vertical-align: middle;\n",
       "    }\n",
       "\n",
       "    .dataframe tbody tr th {\n",
       "        vertical-align: top;\n",
       "    }\n",
       "\n",
       "    .dataframe thead th {\n",
       "        text-align: right;\n",
       "    }\n",
       "</style>\n",
       "<table border=\"1\" class=\"dataframe\">\n",
       "  <thead>\n",
       "    <tr style=\"text-align: right;\">\n",
       "      <th></th>\n",
       "      <th>Unnamed: 0</th>\n",
       "      <th>subreddit.name</th>\n",
       "      <th>created_utc</th>\n",
       "      <th>body</th>\n",
       "      <th>sentiment</th>\n",
       "    </tr>\n",
       "  </thead>\n",
       "  <tbody>\n",
       "    <tr>\n",
       "      <th>16773</th>\n",
       "      <td>8785745</td>\n",
       "      <td>anxiety</td>\n",
       "      <td>1610719216</td>\n",
       "      <td>post holiday surge alberta covid numbers appea...</td>\n",
       "      <td>positive</td>\n",
       "    </tr>\n",
       "    <tr>\n",
       "      <th>39995</th>\n",
       "      <td>16078481</td>\n",
       "      <td>anxiety</td>\n",
       "      <td>1588907924</td>\n",
       "      <td>thinking thing turns created founders instagra...</td>\n",
       "      <td>positive</td>\n",
       "    </tr>\n",
       "    <tr>\n",
       "      <th>9436</th>\n",
       "      <td>5538126</td>\n",
       "      <td>anxiety</td>\n",
       "      <td>1620672106</td>\n",
       "      <td>exactly know linked anxiety days feel bit bett...</td>\n",
       "      <td>negative</td>\n",
       "    </tr>\n",
       "    <tr>\n",
       "      <th>11522</th>\n",
       "      <td>6580945</td>\n",
       "      <td>covid19_support</td>\n",
       "      <td>1617612469</td>\n",
       "      <td>sure else think unfair whatever hell wants eve...</td>\n",
       "      <td>negative</td>\n",
       "    </tr>\n",
       "    <tr>\n",
       "      <th>38230</th>\n",
       "      <td>15581819</td>\n",
       "      <td>depression</td>\n",
       "      <td>1590680704</td>\n",
       "      <td>yea feel helplessness trying get cycle sucks c...</td>\n",
       "      <td>positive</td>\n",
       "    </tr>\n",
       "  </tbody>\n",
       "</table>\n",
       "</div>"
      ],
      "text/plain": [
       "       Unnamed: 0   subreddit.name  created_utc  \\\n",
       "16773     8785745          anxiety   1610719216   \n",
       "39995    16078481          anxiety   1588907924   \n",
       "9436      5538126          anxiety   1620672106   \n",
       "11522     6580945  covid19_support   1617612469   \n",
       "38230    15581819       depression   1590680704   \n",
       "\n",
       "                                                    body sentiment  \n",
       "16773  post holiday surge alberta covid numbers appea...  positive  \n",
       "39995  thinking thing turns created founders instagra...  positive  \n",
       "9436   exactly know linked anxiety days feel bit bett...  negative  \n",
       "11522  sure else think unfair whatever hell wants eve...  negative  \n",
       "38230  yea feel helplessness trying get cycle sucks c...  positive  "
      ]
     },
     "execution_count": 39,
     "metadata": {},
     "output_type": "execute_result"
    }
   ],
   "source": [
    "sample.head()"
   ]
  },
  {
   "cell_type": "code",
   "execution_count": 16,
   "metadata": {},
   "outputs": [],
   "source": [
    "from sklearn.model_selection import train_test_split"
   ]
  },
  {
   "cell_type": "code",
   "execution_count": 17,
   "metadata": {},
   "outputs": [
    {
     "name": "stdout",
     "output_type": "stream",
     "text": [
      "Train Data size: 16000\n",
      "Test Data size 4000\n"
     ]
    }
   ],
   "source": [
    " # Splits Dataset into Training and Testing set\n",
    "train_size = 0.8\n",
    "train_data, test_data = train_test_split(sample, test_size=1-train_size, random_state=42, shuffle=True)\n",
    "print(\"Train Data size:\", len(train_data))\n",
    "print(\"Test Data size\", len(test_data))"
   ]
  },
  {
   "cell_type": "markdown",
   "metadata": {},
   "source": [
    "## Vectorizing"
   ]
  },
  {
   "cell_type": "code",
   "execution_count": 18,
   "metadata": {},
   "outputs": [],
   "source": [
    "from sklearn.feature_extraction.text import TfidfVectorizer"
   ]
  },
  {
   "cell_type": "code",
   "execution_count": 19,
   "metadata": {},
   "outputs": [],
   "source": [
    "vectorizer = TfidfVectorizer(max_features=14000,\n",
    "                             min_df = 5,\n",
    "                             max_df = 0.8,\n",
    "                             sublinear_tf = True,\n",
    "                             use_idf = True)\n",
    "vectorizer.fit(train_data.body.to_list())\n",
    "x_train = vectorizer.transform(train_data.body.to_list())\n",
    "x_test = vectorizer.transform(test_data.body.to_list())"
   ]
  },
  {
   "cell_type": "code",
   "execution_count": 20,
   "metadata": {},
   "outputs": [
    {
     "name": "stdout",
     "output_type": "stream",
     "text": [
      "x_train Shape: (16000, 8855)\n",
      "x_test Shape: (4000, 8855)\n"
     ]
    }
   ],
   "source": [
    "print(\"x_train Shape:\",x_train.shape)\n",
    "print(\"x_test Shape:\",x_test.shape)"
   ]
  },
  {
   "cell_type": "code",
   "execution_count": 21,
   "metadata": {},
   "outputs": [],
   "source": [
    "from sklearn.preprocessing import LabelEncoder"
   ]
  },
  {
   "cell_type": "code",
   "execution_count": 22,
   "metadata": {},
   "outputs": [
    {
     "name": "stdout",
     "output_type": "stream",
     "text": [
      "y_train shape: (16000, 1)\n",
      "y_test shape: (4000, 1)\n"
     ]
    }
   ],
   "source": [
    "encoder = LabelEncoder() #https://scikit-learn.org/stable/modules/generated/sklearn.preprocessing.LabelEncoder.html\n",
    "encoder.fit(train_data.sentiment.to_list())\n",
    "\n",
    "y_train = encoder.transform(train_data.sentiment.to_list())\n",
    "y_test = encoder.transform(test_data.sentiment.to_list())\n",
    "\n",
    "y_train = y_train.reshape(-1,1)\n",
    "y_test = y_test.reshape(-1,1)\n",
    "\n",
    "print(\"y_train shape:\", y_train.shape)\n",
    "print(\"y_test shape:\", y_test.shape)"
   ]
  },
  {
   "cell_type": "markdown",
   "metadata": {},
   "source": [
    "## Linear SVM Model"
   ]
  },
  {
   "cell_type": "code",
   "execution_count": 89,
   "metadata": {},
   "outputs": [],
   "source": [
    "import time\n",
    "from sklearn import svm\n",
    "from sklearn.metrics import classification_report\n",
    "from sklearn import metrics"
   ]
  },
  {
   "cell_type": "code",
   "execution_count": 24,
   "metadata": {},
   "outputs": [
    {
     "name": "stdout",
     "output_type": "stream",
     "text": [
      "Training time: 63.251653s; Prediction time: 12.819747s\n",
      "Accuracy: 0.7905\n",
      "positive:  {'precision': 0.8199186991869919, 'recall': 0.860494880546075, 'f1-score': 0.8397169025811824, 'support': 2344}\n",
      "negative:  {'precision': 0.7435897435897436, 'recall': 0.7450592885375494, 'f1-score': 0.7443237907206319, 'support': 1518}\n",
      "neutral:  {'precision': 0.7368421052631579, 'recall': 0.10144927536231885, 'f1-score': 0.17834394904458598, 'support': 138}\n"
     ]
    }
   ],
   "source": [
    "# Perform classification with SVM, kernel=linear\n",
    "classifier_linear = svm.SVC(kernel='linear')\n",
    "t0 = time.time()\n",
    "classifier_linear.fit(x_train, y_train.ravel())\n",
    "t1 = time.time()\n",
    "prediction_linear = classifier_linear.predict(x_test)\n",
    "t2 = time.time()\n",
    "time_linear_train = t1-t0\n",
    "time_linear_predict = t2-t1\n",
    "\n",
    "labels = [0.0, 1.0, 2.0]\n",
    "target_names = ['negative', 'neutral', 'positive']\n",
    "\n",
    "# results\n",
    "print(\"Training time: %fs; Prediction time: %fs\" % (time_linear_train, time_linear_predict))\n",
    "\n",
    "report = classification_report(y_test, prediction_linear, labels = labels, target_names = target_names, output_dict=True)\n",
    "\n",
    "print(\"Accuracy:\", metrics.accuracy_score(y_test, prediction_linear))\n",
    "\n",
    "print('positive: ', report['positive'])\n",
    "print('negative: ', report['negative'])\n",
    "print('neutral: ', report['neutral'])"
   ]
  },
  {
   "cell_type": "markdown",
   "metadata": {},
   "source": [
    "## Feature Importance"
   ]
  },
  {
   "cell_type": "code",
   "execution_count": 25,
   "metadata": {},
   "outputs": [
    {
     "data": {
      "image/png": "[encoded data removed]",
      "text/plain": [
       "<Figure size 432x288 with 1 Axes>"
      ]
     },
     "metadata": {
      "needs_background": "light"
     },
     "output_type": "display_data"
    }
   ],
   "source": [
    "def f_importances(coef, names):\n",
    "    imp = coef\n",
    "    imp,names = zip(*sorted(zip(imp,names)))\n",
    "    plt.barh(range(len(names)), imp, align='center')\n",
    "    plt.yticks(range(len(names)), names)\n",
    "    plt.show()\n",
    "\n",
    "features_names = ['corona', \n",
    "                  'virus', \n",
    "                  'viral', \n",
    "                  'covid', \n",
    "                  'influenza', \n",
    "                  'pandemic', \n",
    "                  'epidemic', \n",
    "                  'quarantine', \n",
    "                  'lockdown',\n",
    "                  'distancing', \n",
    "                  'national emergency', \n",
    "                  'flatten', \n",
    "                  'infect', \n",
    "                  'ventilator', \n",
    "                  'mask', \n",
    "                  'symptomatic', \n",
    "                  'immune', \n",
    "                  'incubation', \n",
    "                  'transmission', \n",
    "                  'vaccine',\n",
    "                  'confirmed case',\n",
    "                  'coronavirus',\n",
    "                  'covid-19',\n",
    "                  'outbreak',\n",
    "                  'ppe',\n",
    "                  'isolation'\n",
    "                  'social distancing' ]\n",
    "f_importances(classifier_linear.coef_.toarray()[0], features_names)"
   ]
  },
  {
   "cell_type": "code",
   "execution_count": 26,
   "metadata": {},
   "outputs": [],
   "source": [
    "from sklearn.feature_extraction.text import CountVectorizer\n",
    "from sklearn.svm import LinearSVC"
   ]
  },
  {
   "cell_type": "code",
   "execution_count": 27,
   "metadata": {},
   "outputs": [
    {
     "name": "stdout",
     "output_type": "stream",
     "text": [
      "26656\n"
     ]
    },
    {
     "name": "stderr",
     "output_type": "stream",
     "text": [
      "/Users/justinchen/opt/anaconda3/lib/python3.8/site-packages/sklearn/utils/validation.py:993: DataConversionWarning: A column-vector y was passed when a 1d array was expected. Please change the shape of y to (n_samples, ), for example using ravel().\n",
      "  y = column_or_1d(y, warn=True)\n",
      "/Users/justinchen/opt/anaconda3/lib/python3.8/site-packages/sklearn/utils/deprecation.py:87: FutureWarning: Function get_feature_names is deprecated; get_feature_names is deprecated in 1.0 and will be removed in 1.2. Please use get_feature_names_out instead.\n",
      "  warnings.warn(msg, category=FutureWarning)\n"
     ]
    },
    {
     "data": {
      "image/png": "[encoded data removed]",
      "text/plain": [
       "<Figure size 1080x360 with 1 Axes>"
      ]
     },
     "metadata": {
      "needs_background": "light"
     },
     "output_type": "display_data"
    }
   ],
   "source": [
    "def plot_coefficients(classifier, feature_names, top_features=30):\n",
    "    coef = classifier.coef_.ravel()\n",
    "    top_positive_coefficients = np.argsort(coef)[-top_features:]\n",
    "    top_negative_coefficients = np.argsort(coef)[:top_features]\n",
    "    top_coefficients = np.hstack([top_negative_coefficients, top_positive_coefficients])\n",
    "    # create plot\n",
    "    plt.figure(figsize=(15, 5))\n",
    "    colors = ['red' if c < 0 else 'blue' for c in coef[top_coefficients]]\n",
    "    plt.bar(np.arange(2 * top_features), coef[top_coefficients], color=colors)\n",
    "    feature_names = np.array(feature_names)\n",
    "    plt.xticks(np.arange(1, 1 + 2 * top_features), feature_names[top_coefficients], rotation=60, ha='right')\n",
    "    plt.show()\n",
    "    \n",
    "cv = CountVectorizer(stop_words = 'english')\n",
    "cv.fit(train_data.body.to_list())\n",
    "print (len(cv.vocabulary_))\n",
    "\n",
    "svm = LinearSVC()\n",
    "svm.fit(x_train, y_train)\n",
    "\n",
    "plot_coefficients(svm, cv.get_feature_names())"
   ]
  }
 ],
 "metadata": {
  "kernelspec": {
   "display_name": "Python 3 (ipykernel)",
   "language": "python",
   "name": "python3"
  },
  "language_info": {
   "codemirror_mode": {
    "name": "ipython",
    "version": 3
   },
   "file_extension": ".py",
   "mimetype": "text/x-python",
   "name": "python",
   "nbconvert_exporter": "python",
   "pygments_lexer": "ipython3",
   "version": "3.8.2"
  }
 },
 "nbformat": 4,
 "nbformat_minor": 4
}
