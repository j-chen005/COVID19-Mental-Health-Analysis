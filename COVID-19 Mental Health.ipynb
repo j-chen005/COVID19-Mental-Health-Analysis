{
 "cells": [
  {
   "cell_type": "code",
   "execution_count": 2,
   "metadata": {},
   "outputs": [
    {
     "name": "stderr",
     "output_type": "stream",
     "text": [
      "[nltk_data] Downloading package stopwords to\n",
      "[nltk_data]     /Users/justinchen/nltk_data...\n",
      "[nltk_data]   Package stopwords is already up-to-date!\n"
     ]
    }
   ],
   "source": [
    "import pandas as pd\n",
    "from collections import Counter\n",
    "import numpy as np\n",
    "import math\n",
    "import nltk\n",
    "nltk.download('stopwords')\n",
    "from nltk.corpus import stopwords\n",
    "from nltk.stem import SnowballStemmer"
   ]
  },
  {
   "cell_type": "code",
   "execution_count": 40,
   "metadata": {},
   "outputs": [],
   "source": [
    "df = pd.read_csv('downloads/the-reddit-covid-dataset-comments.csv', nrows = 1000000)"
   ]
  },
  {
   "cell_type": "code",
   "execution_count": 7,
   "metadata": {},
   "outputs": [],
   "source": [
    "dataset = pd.read_csv('/Users/justinchen/Documents/mental_health_subreddits_dataset.csv')"
   ]
  },
  {
   "cell_type": "code",
   "execution_count": 8,
   "metadata": {},
   "outputs": [
    {
     "data": {
      "text/html": [
       "<div>\n",
       "<style scoped>\n",
       "    .dataframe tbody tr th:only-of-type {\n",
       "        vertical-align: middle;\n",
       "    }\n",
       "\n",
       "    .dataframe tbody tr th {\n",
       "        vertical-align: top;\n",
       "    }\n",
       "\n",
       "    .dataframe thead th {\n",
       "        text-align: right;\n",
       "    }\n",
       "</style>\n",
       "<table border=\"1\" class=\"dataframe\">\n",
       "  <thead>\n",
       "    <tr style=\"text-align: right;\">\n",
       "      <th></th>\n",
       "      <th>Unnamed: 0</th>\n",
       "      <th>subreddit.name</th>\n",
       "      <th>created_utc</th>\n",
       "      <th>body</th>\n",
       "      <th>sentiment</th>\n",
       "    </tr>\n",
       "  </thead>\n",
       "  <tbody>\n",
       "    <tr>\n",
       "      <th>45880</th>\n",
       "      <td>17777094</td>\n",
       "      <td>anxiety</td>\n",
       "      <td>1581466598</td>\n",
       "      <td>Stay focused on what the experts are saying an...</td>\n",
       "      <td>0.7430</td>\n",
       "    </tr>\n",
       "    <tr>\n",
       "      <th>45881</th>\n",
       "      <td>17777113</td>\n",
       "      <td>anxiety</td>\n",
       "      <td>1581463547</td>\n",
       "      <td>No new COVID-19 cases in B.C., 4 confirmed pat...</td>\n",
       "      <td>-0.1531</td>\n",
       "    </tr>\n",
       "    <tr>\n",
       "      <th>45882</th>\n",
       "      <td>17777197</td>\n",
       "      <td>mentalhealth</td>\n",
       "      <td>1581454025</td>\n",
       "      <td>Hi mate, as someone with GAD I can relate to y...</td>\n",
       "      <td>0.5332</td>\n",
       "    </tr>\n",
       "    <tr>\n",
       "      <th>45883</th>\n",
       "      <td>17777368</td>\n",
       "      <td>anxiety</td>\n",
       "      <td>1581071322</td>\n",
       "      <td>***MORE UPDATES  ON MY OTHER COMMENT ON THIS T...</td>\n",
       "      <td>0.9325</td>\n",
       "    </tr>\n",
       "    <tr>\n",
       "      <th>45884</th>\n",
       "      <td>17777471</td>\n",
       "      <td>technology</td>\n",
       "      <td>1326993659</td>\n",
       "      <td>If you happen to be at ISE this year stop by b...</td>\n",
       "      <td>-0.2960</td>\n",
       "    </tr>\n",
       "  </tbody>\n",
       "</table>\n",
       "</div>"
      ],
      "text/plain": [
       "       Unnamed: 0 subreddit.name  created_utc  \\\n",
       "45880    17777094        anxiety   1581466598   \n",
       "45881    17777113        anxiety   1581463547   \n",
       "45882    17777197   mentalhealth   1581454025   \n",
       "45883    17777368        anxiety   1581071322   \n",
       "45884    17777471     technology   1326993659   \n",
       "\n",
       "                                                    body  sentiment  \n",
       "45880  Stay focused on what the experts are saying an...     0.7430  \n",
       "45881  No new COVID-19 cases in B.C., 4 confirmed pat...    -0.1531  \n",
       "45882  Hi mate, as someone with GAD I can relate to y...     0.5332  \n",
       "45883  ***MORE UPDATES  ON MY OTHER COMMENT ON THIS T...     0.9325  \n",
       "45884  If you happen to be at ISE this year stop by b...    -0.2960  "
      ]
     },
     "execution_count": 8,
     "metadata": {},
     "output_type": "execute_result"
    }
   ],
   "source": [
    "dataset.tail()"
   ]
  },
  {
   "cell_type": "code",
   "execution_count": 36,
   "metadata": {},
   "outputs": [
    {
     "data": {
      "text/html": [
       "<div>\n",
       "<style scoped>\n",
       "    .dataframe tbody tr th:only-of-type {\n",
       "        vertical-align: middle;\n",
       "    }\n",
       "\n",
       "    .dataframe tbody tr th {\n",
       "        vertical-align: top;\n",
       "    }\n",
       "\n",
       "    .dataframe thead th {\n",
       "        text-align: right;\n",
       "    }\n",
       "</style>\n",
       "<table border=\"1\" class=\"dataframe\">\n",
       "  <thead>\n",
       "    <tr style=\"text-align: right;\">\n",
       "      <th></th>\n",
       "      <th>Unnamed: 0</th>\n",
       "      <th>subreddit.name</th>\n",
       "      <th>created_utc</th>\n",
       "      <th>body</th>\n",
       "      <th>sentiment</th>\n",
       "    </tr>\n",
       "  </thead>\n",
       "  <tbody>\n",
       "    <tr>\n",
       "      <th>22479</th>\n",
       "      <td>10870274</td>\n",
       "      <td>anxiety</td>\n",
       "      <td>1605299828</td>\n",
       "      <td>https://www.nbcnews.com/health/health-news/inh...</td>\n",
       "      <td>0.8735</td>\n",
       "    </tr>\n",
       "    <tr>\n",
       "      <th>15770</th>\n",
       "      <td>8376619</td>\n",
       "      <td>anxiety</td>\n",
       "      <td>1611876730</td>\n",
       "      <td>I'm sorry you and your husband have to endure ...</td>\n",
       "      <td>0.6846</td>\n",
       "    </tr>\n",
       "    <tr>\n",
       "      <th>35786</th>\n",
       "      <td>14961040</td>\n",
       "      <td>depression</td>\n",
       "      <td>1593060179</td>\n",
       "      <td>Before covid I actually tutored! I would recom...</td>\n",
       "      <td>0.9798</td>\n",
       "    </tr>\n",
       "    <tr>\n",
       "      <th>10364</th>\n",
       "      <td>6009827</td>\n",
       "      <td>depression</td>\n",
       "      <td>1619302494</td>\n",
       "      <td>Covid is also wreaking havoc in my family. Don...</td>\n",
       "      <td>-0.8525</td>\n",
       "    </tr>\n",
       "    <tr>\n",
       "      <th>42096</th>\n",
       "      <td>16599696</td>\n",
       "      <td>anxiety</td>\n",
       "      <td>1587154084</td>\n",
       "      <td>Hey, I'm new to reddit. This is the first post...</td>\n",
       "      <td>-0.9932</td>\n",
       "    </tr>\n",
       "  </tbody>\n",
       "</table>\n",
       "</div>"
      ],
      "text/plain": [
       "       Unnamed: 0 subreddit.name  created_utc  \\\n",
       "22479    10870274        anxiety   1605299828   \n",
       "15770     8376619        anxiety   1611876730   \n",
       "35786    14961040     depression   1593060179   \n",
       "10364     6009827     depression   1619302494   \n",
       "42096    16599696        anxiety   1587154084   \n",
       "\n",
       "                                                    body  sentiment  \n",
       "22479  https://www.nbcnews.com/health/health-news/inh...     0.8735  \n",
       "15770  I'm sorry you and your husband have to endure ...     0.6846  \n",
       "35786  Before covid I actually tutored! I would recom...     0.9798  \n",
       "10364  Covid is also wreaking havoc in my family. Don...    -0.8525  \n",
       "42096  Hey, I'm new to reddit. This is the first post...    -0.9932  "
      ]
     },
     "execution_count": 36,
     "metadata": {},
     "output_type": "execute_result"
    }
   ],
   "source": [
    "sample = dataset.sample(20000)\n",
    "sample.head()"
   ]
  },
  {
   "cell_type": "code",
   "execution_count": 37,
   "metadata": {},
   "outputs": [
    {
     "data": {
      "text/plain": [
       "Counter({'anxiety': 7265,\n",
       "         'depression': 2606,\n",
       "         'COVID19_support': 6904,\n",
       "         'SuicideWatch': 1761,\n",
       "         'mentalhealth': 1463})"
      ]
     },
     "execution_count": 37,
     "metadata": {},
     "output_type": "execute_result"
    }
   ],
   "source": [
    "count = Counter()\n",
    "for index, row in sample.iterrows():\n",
    "    if row['subreddit.name'] == 'anxiety':\n",
    "        count['anxiety'] += 1\n",
    "    if row['subreddit.name'] == 'depression':\n",
    "        count['depression'] += 1\n",
    "    if row['subreddit.name'] == 'suicidewatch':\n",
    "        count['SuicideWatch'] += 1\n",
    "    if row['subreddit.name'] == 'mentalhealth':\n",
    "        count['mentalhealth'] += 1\n",
    "    if row['subreddit.name'] == 'covid19_support':\n",
    "        count['COVID19_support'] += 1\n",
    "count"
   ]
  },
  {
   "cell_type": "markdown",
   "metadata": {},
   "source": [
    "## Preprocessing "
   ]
  },
  {
   "cell_type": "code",
   "execution_count": 38,
   "metadata": {},
   "outputs": [],
   "source": [
    "import re #regex library used for substituting words"
   ]
  },
  {
   "cell_type": "code",
   "execution_count": 39,
   "metadata": {},
   "outputs": [],
   "source": [
    "#removing stopwords and urls, stemming, making lowercase \n",
    "stop_words = stopwords.words('english')\n",
    "stemmer = SnowballStemmer('english')\n",
    "\n",
    "text_cleaning_re = \"@\\S+|https?:\\S+|http?:\\S|[^A-Za-z0-9]+\"\n",
    "\n",
    "def cleaning(text, stem=False):\n",
    "    text = re.sub(text_cleaning_re, ' ', str(text).lower()).strip()\n",
    "    tokens = []\n",
    "    for token in text.split():\n",
    "        if token not in stop_words:\n",
    "            if stem:\n",
    "                tokens.append(stemmer.stem(token))\n",
    "            else:\n",
    "                tokens.append(token)\n",
    "    return \" \".join(tokens)"
   ]
  },
  {
   "cell_type": "code",
   "execution_count": 40,
   "metadata": {},
   "outputs": [],
   "source": [
    "def post_cleaning(text):\n",
    "    # Remove all the special characters\n",
    "    processed_feature = re.sub(r'\\W', ' ',text)\n",
    "\n",
    "    # remove all single characters\n",
    "    processed_feature= re.sub(r'\\s+[a-zA-Z]\\s+', ' ', processed_feature)\n",
    "\n",
    "    # Remove single characters from the start\n",
    "    processed_feature = re.sub(r'\\^[a-zA-Z]\\s+', ' ', processed_feature) \n",
    "    \n",
    "    #remove digits\n",
    "    processed_feature = re.sub(\"^\\d+\\s|\\s\\d+\\s|\\s\\d+$\", \" \", processed_feature)\n",
    "\n",
    "    # Substituting multiple spaces with single space\n",
    "    processed_feature = re.sub(r'\\s+', ' ', processed_feature, flags=re.I)\n",
    "\n",
    "    return processed_feature"
   ]
  },
  {
   "cell_type": "code",
   "execution_count": 41,
   "metadata": {},
   "outputs": [],
   "source": [
    "#above functions combined\n",
    "def preprocessing(text):\n",
    "    line = cleaning(text)\n",
    "    line = post_cleaning (line)\n",
    "    return line"
   ]
  },
  {
   "cell_type": "code",
   "execution_count": 42,
   "metadata": {},
   "outputs": [],
   "source": [
    "sample.body = sample.body.apply(lambda x: preprocessing(x))"
   ]
  },
  {
   "cell_type": "code",
   "execution_count": 43,
   "metadata": {},
   "outputs": [
    {
     "data": {
      "text/html": [
       "<div>\n",
       "<style scoped>\n",
       "    .dataframe tbody tr th:only-of-type {\n",
       "        vertical-align: middle;\n",
       "    }\n",
       "\n",
       "    .dataframe tbody tr th {\n",
       "        vertical-align: top;\n",
       "    }\n",
       "\n",
       "    .dataframe thead th {\n",
       "        text-align: right;\n",
       "    }\n",
       "</style>\n",
       "<table border=\"1\" class=\"dataframe\">\n",
       "  <thead>\n",
       "    <tr style=\"text-align: right;\">\n",
       "      <th></th>\n",
       "      <th>Unnamed: 0</th>\n",
       "      <th>subreddit.name</th>\n",
       "      <th>created_utc</th>\n",
       "      <th>body</th>\n",
       "      <th>sentiment</th>\n",
       "    </tr>\n",
       "  </thead>\n",
       "  <tbody>\n",
       "    <tr>\n",
       "      <th>22479</th>\n",
       "      <td>10870274</td>\n",
       "      <td>anxiety</td>\n",
       "      <td>1605299828</td>\n",
       "      <td>inhaled medicine may help covid patients inhal...</td>\n",
       "      <td>0.8735</td>\n",
       "    </tr>\n",
       "    <tr>\n",
       "      <th>15770</th>\n",
       "      <td>8376619</td>\n",
       "      <td>anxiety</td>\n",
       "      <td>1611876730</td>\n",
       "      <td>sorry husband endure pandemic affected us quit...</td>\n",
       "      <td>0.6846</td>\n",
       "    </tr>\n",
       "    <tr>\n",
       "      <th>35786</th>\n",
       "      <td>14961040</td>\n",
       "      <td>depression</td>\n",
       "      <td>1593060179</td>\n",
       "      <td>covid actually tutored would recommend past al...</td>\n",
       "      <td>0.9798</td>\n",
       "    </tr>\n",
       "    <tr>\n",
       "      <th>10364</th>\n",
       "      <td>6009827</td>\n",
       "      <td>depression</td>\n",
       "      <td>1619302494</td>\n",
       "      <td>covid also wreaking havoc family friends every...</td>\n",
       "      <td>-0.8525</td>\n",
       "    </tr>\n",
       "    <tr>\n",
       "      <th>42096</th>\n",
       "      <td>16599696</td>\n",
       "      <td>anxiety</td>\n",
       "      <td>1587154084</td>\n",
       "      <td>hey new reddit first post responding bc really...</td>\n",
       "      <td>-0.9932</td>\n",
       "    </tr>\n",
       "  </tbody>\n",
       "</table>\n",
       "</div>"
      ],
      "text/plain": [
       "       Unnamed: 0 subreddit.name  created_utc  \\\n",
       "22479    10870274        anxiety   1605299828   \n",
       "15770     8376619        anxiety   1611876730   \n",
       "35786    14961040     depression   1593060179   \n",
       "10364     6009827     depression   1619302494   \n",
       "42096    16599696        anxiety   1587154084   \n",
       "\n",
       "                                                    body  sentiment  \n",
       "22479  inhaled medicine may help covid patients inhal...     0.8735  \n",
       "15770  sorry husband endure pandemic affected us quit...     0.6846  \n",
       "35786  covid actually tutored would recommend past al...     0.9798  \n",
       "10364  covid also wreaking havoc family friends every...    -0.8525  \n",
       "42096  hey new reddit first post responding bc really...    -0.9932  "
      ]
     },
     "execution_count": 43,
     "metadata": {},
     "output_type": "execute_result"
    }
   ],
   "source": [
    "sample.head()"
   ]
  },
  {
   "cell_type": "code",
   "execution_count": 44,
   "metadata": {},
   "outputs": [],
   "source": [
    "for sentiment in sample['sentiment']:\n",
    "    if sentiment > 0:\n",
    "        sample['sentiment'].replace({sentiment : 'positive'}, inplace=True)\n",
    "    if sentiment < 0:\n",
    "        sample['sentiment'].replace({sentiment : 'negative'}, inplace=True)\n",
    "    else:\n",
    "        sample['sentiment'].replace({sentiment : 'neutral'}, inplace=True)"
   ]
  },
  {
   "cell_type": "code",
   "execution_count": 20,
   "metadata": {},
   "outputs": [
    {
     "data": {
      "text/html": [
       "<div>\n",
       "<style scoped>\n",
       "    .dataframe tbody tr th:only-of-type {\n",
       "        vertical-align: middle;\n",
       "    }\n",
       "\n",
       "    .dataframe tbody tr th {\n",
       "        vertical-align: top;\n",
       "    }\n",
       "\n",
       "    .dataframe thead th {\n",
       "        text-align: right;\n",
       "    }\n",
       "</style>\n",
       "<table border=\"1\" class=\"dataframe\">\n",
       "  <thead>\n",
       "    <tr style=\"text-align: right;\">\n",
       "      <th></th>\n",
       "      <th>Unnamed: 0</th>\n",
       "      <th>subreddit.name</th>\n",
       "      <th>created_utc</th>\n",
       "      <th>body</th>\n",
       "      <th>sentiment</th>\n",
       "    </tr>\n",
       "  </thead>\n",
       "  <tbody>\n",
       "    <tr>\n",
       "      <th>10569</th>\n",
       "      <td>6124604</td>\n",
       "      <td>anxiety</td>\n",
       "      <td>1618972628</td>\n",
       "      <td>thing blood test elevated white blood cell cou...</td>\n",
       "      <td>positive</td>\n",
       "    </tr>\n",
       "    <tr>\n",
       "      <th>2580</th>\n",
       "      <td>1711492</td>\n",
       "      <td>covid19_support</td>\n",
       "      <td>1631034354</td>\n",
       "      <td>hard truth vaccinated people safe covid dont n...</td>\n",
       "      <td>positive</td>\n",
       "    </tr>\n",
       "    <tr>\n",
       "      <th>22353</th>\n",
       "      <td>10831585</td>\n",
       "      <td>suicidewatch</td>\n",
       "      <td>1605404618</td>\n",
       "      <td>jc someone age hope deal shit congrats making ...</td>\n",
       "      <td>positive</td>\n",
       "    </tr>\n",
       "    <tr>\n",
       "      <th>2092</th>\n",
       "      <td>1343197</td>\n",
       "      <td>anxiety</td>\n",
       "      <td>1631738650</td>\n",
       "      <td>got second dose weeks ago deal pretty bad anxi...</td>\n",
       "      <td>positive</td>\n",
       "    </tr>\n",
       "    <tr>\n",
       "      <th>3539</th>\n",
       "      <td>2324883</td>\n",
       "      <td>covid19_support</td>\n",
       "      <td>1629913745</td>\n",
       "      <td>gt worried depressed fully vaccinated feel lik...</td>\n",
       "      <td>negative</td>\n",
       "    </tr>\n",
       "  </tbody>\n",
       "</table>\n",
       "</div>"
      ],
      "text/plain": [
       "       Unnamed: 0   subreddit.name  created_utc  \\\n",
       "10569     6124604          anxiety   1618972628   \n",
       "2580      1711492  covid19_support   1631034354   \n",
       "22353    10831585     suicidewatch   1605404618   \n",
       "2092      1343197          anxiety   1631738650   \n",
       "3539      2324883  covid19_support   1629913745   \n",
       "\n",
       "                                                    body sentiment  \n",
       "10569  thing blood test elevated white blood cell cou...  positive  \n",
       "2580   hard truth vaccinated people safe covid dont n...  positive  \n",
       "22353  jc someone age hope deal shit congrats making ...  positive  \n",
       "2092   got second dose weeks ago deal pretty bad anxi...  positive  \n",
       "3539   gt worried depressed fully vaccinated feel lik...  negative  "
      ]
     },
     "execution_count": 20,
     "metadata": {},
     "output_type": "execute_result"
    }
   ],
   "source": [
    "sample.head()"
   ]
  },
  {
   "cell_type": "code",
   "execution_count": 45,
   "metadata": {},
   "outputs": [],
   "source": [
    "from sklearn.model_selection import train_test_split"
   ]
  },
  {
   "cell_type": "code",
   "execution_count": 46,
   "metadata": {},
   "outputs": [
    {
     "name": "stdout",
     "output_type": "stream",
     "text": [
      "Train Data size: 16000\n",
      "Test Data size 4000\n"
     ]
    }
   ],
   "source": [
    " # Splits Dataset into Training and Testing set\n",
    "train_size = 0.8\n",
    "train_data, test_data = train_test_split(sample, test_size=1-train_size, random_state=42, shuffle=True)\n",
    "print(\"Train Data size:\", len(train_data))\n",
    "print(\"Test Data size\", len(test_data))"
   ]
  },
  {
   "cell_type": "markdown",
   "metadata": {},
   "source": [
    "## Vecotrizing"
   ]
  },
  {
   "cell_type": "code",
   "execution_count": 23,
   "metadata": {},
   "outputs": [],
   "source": [
    "from sklearn.feature_extraction.text import TfidfVectorizer"
   ]
  },
  {
   "cell_type": "code",
   "execution_count": 47,
   "metadata": {},
   "outputs": [],
   "source": [
    "vectorizer = TfidfVectorizer(max_features=8000,\n",
    "                             min_df = 5,\n",
    "                             max_df = 0.8,\n",
    "                             sublinear_tf = True,\n",
    "                             use_idf = True)\n",
    "vectorizer.fit(train_data.body.to_list())\n",
    "x_train = vectorizer.transform(train_data.body.to_list())\n",
    "x_test = vectorizer.transform(test_data.body.to_list())"
   ]
  },
  {
   "cell_type": "code",
   "execution_count": 48,
   "metadata": {},
   "outputs": [
    {
     "name": "stdout",
     "output_type": "stream",
     "text": [
      "x_train Shape: (16000, 8000)\n",
      "x_test Shape: (4000, 8000)\n"
     ]
    }
   ],
   "source": [
    "print(\"x_train Shape:\",x_train.shape)\n",
    "print(\"x_test Shape:\",x_test.shape)"
   ]
  },
  {
   "cell_type": "code",
   "execution_count": 32,
   "metadata": {},
   "outputs": [],
   "source": [
    "from sklearn.preprocessing import LabelEncoder"
   ]
  },
  {
   "cell_type": "code",
   "execution_count": 49,
   "metadata": {},
   "outputs": [
    {
     "name": "stdout",
     "output_type": "stream",
     "text": [
      "y_train shape: (16000, 1)\n",
      "y_test shape: (4000, 1)\n"
     ]
    }
   ],
   "source": [
    "encoder = LabelEncoder() #https://scikit-learn.org/stable/modules/generated/sklearn.preprocessing.LabelEncoder.html\n",
    "encoder.fit(train_data.sentiment.to_list())\n",
    "\n",
    "y_train = encoder.transform(train_data.sentiment.to_list())\n",
    "y_test = encoder.transform(test_data.sentiment.to_list())\n",
    "\n",
    "y_train = y_train.reshape(-1,1)\n",
    "y_test = y_test.reshape(-1,1)\n",
    "\n",
    "print(\"y_train shape:\", y_train.shape)\n",
    "print(\"y_test shape:\", y_test.shape)"
   ]
  },
  {
   "cell_type": "markdown",
   "metadata": {},
   "source": [
    "## Linear SVM Model"
   ]
  },
  {
   "cell_type": "code",
   "execution_count": 34,
   "metadata": {},
   "outputs": [],
   "source": [
    "import time\n",
    "from sklearn import svm\n",
    "from sklearn.metrics import classification_report"
   ]
  },
  {
   "cell_type": "code",
   "execution_count": 50,
   "metadata": {},
   "outputs": [
    {
     "name": "stderr",
     "output_type": "stream",
     "text": [
      "/Users/justinchen/opt/anaconda3/lib/python3.8/site-packages/sklearn/utils/validation.py:72: DataConversionWarning: A column-vector y was passed when a 1d array was expected. Please change the shape of y to (n_samples, ), for example using ravel().\n",
      "  return f(**kwargs)\n"
     ]
    },
    {
     "name": "stdout",
     "output_type": "stream",
     "text": [
      "Training time: 60.245207s; Prediction time: 13.050862s\n",
      "positive:  {'precision': 0.7630685675492193, 'recall': 0.7341606792945787, 'f1-score': 0.7483355525965381, 'support': 1531}\n",
      "negative:  {'precision': 0.8181089743589743, 'recall': 0.8775247099269445, 'f1-score': 0.84677586564379, 'support': 2327}\n",
      "neutral:  {'precision': 0.8709677419354839, 'recall': 0.19014084507042253, 'f1-score': 0.3121387283236994, 'support': 142}\n"
     ]
    }
   ],
   "source": [
    "# Perform classification with SVM, kernel=linear\n",
    "classifier_linear = svm.SVC(kernel='linear')\n",
    "t0 = time.time()\n",
    "classifier_linear.fit(x_train, y_train)\n",
    "t1 = time.time()\n",
    "prediction_linear = classifier_linear.predict(x_test)\n",
    "t2 = time.time()\n",
    "time_linear_train = t1-t0\n",
    "time_linear_predict = t2-t1\n",
    "\n",
    "target_names = ['positive', 'neutral', 'negative']\n",
    "\n",
    "# results\n",
    "print(\"Training time: %fs; Prediction time: %fs\" % (time_linear_train, time_linear_predict))\n",
    "\n",
    "report = classification_report(y_test, prediction_linear, target_names=target_names, output_dict=True)\n",
    "\n",
    "print('positive: ', report['positive'])\n",
    "print('negative: ', report['negative'])\n",
    "print('neutral: ', report['neutral'])"
   ]
  }
 ],
 "metadata": {
  "kernelspec": {
   "display_name": "Python 3",
   "language": "python",
   "name": "python3"
  },
  "language_info": {
   "codemirror_mode": {
    "name": "ipython",
    "version": 3
   },
   "file_extension": ".py",
   "mimetype": "text/x-python",
   "name": "python",
   "nbconvert_exporter": "python",
   "pygments_lexer": "ipython3",
   "version": "3.8.5"
  }
 },
 "nbformat": 4,
 "nbformat_minor": 4
}
